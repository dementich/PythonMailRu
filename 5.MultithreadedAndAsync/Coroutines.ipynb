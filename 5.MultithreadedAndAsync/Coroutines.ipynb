{
 "cells": [
  {
   "cell_type": "markdown",
   "id": "6a3ad827",
   "metadata": {},
   "source": [
    "# Пример простой корутины"
   ]
  },
  {
   "cell_type": "code",
   "execution_count": 1,
   "id": "5198c89f",
   "metadata": {},
   "outputs": [],
   "source": [
    "def simple_coroutine():\n",
    "    print('-> coroutine started')\n",
    "    x = yield\n",
    "    print(f'-> coroutine received {x}')"
   ]
  },
  {
   "cell_type": "code",
   "execution_count": 2,
   "id": "b278f6ef",
   "metadata": {},
   "outputs": [
    {
     "data": {
      "text/plain": [
       "<generator object simple_coroutine at 0x000001A225338900>"
      ]
     },
     "execution_count": 2,
     "metadata": {},
     "output_type": "execute_result"
    }
   ],
   "source": [
    "my_coro = simple_coroutine()\n",
    "my_coro"
   ]
  },
  {
   "cell_type": "code",
   "execution_count": 3,
   "id": "2d2ea8b6",
   "metadata": {},
   "outputs": [
    {
     "name": "stdout",
     "output_type": "stream",
     "text": [
      "-> coroutine started\n"
     ]
    }
   ],
   "source": [
    "next(my_coro)"
   ]
  },
  {
   "cell_type": "code",
   "execution_count": 4,
   "id": "8ca0139b",
   "metadata": {},
   "outputs": [
    {
     "name": "stdout",
     "output_type": "stream",
     "text": [
      "-> coroutine received 42\n",
      "\n"
     ]
    }
   ],
   "source": [
    "try:\n",
    "    my_coro.send(42)\n",
    "except StopIteration as ex:\n",
    "    print(ex)"
   ]
  },
  {
   "cell_type": "markdown",
   "id": "272b6238",
   "metadata": {},
   "source": [
    "А теперь разберем, что происходит в коде выше:\n",
    "\n",
    "1. Корутина определяется через функцию-генератор, т.е. функцию с конструкцией `yield` в своем теле, которая ничего не возвращает, а напротив, ждет какого-то значения на входе.  \n",
    "2. Для работы с корутиной необходимо сначала создать генератор, что и делается путем вызова функции `simple_coroutine()`.  \n",
    "3. Сразу после создания генератор не находится в режиме ожидания - он еще просто не дошел до выполнения конструкции `yield`.  Чтобы он дошел, надо применить функцию `next()`.  \n",
    "4. После применения метода `.send()` код корутины отрабатывает и возвращается в режим ожидания.  "
   ]
  },
  {
   "cell_type": "markdown",
   "id": "db2399bb",
   "metadata": {},
   "source": [
    "# Практический пример использования корутин\n",
    "\n",
    "Разработаем программу, симулирующую работу таксопарка. Каждая машина совершает фиксированное число поездок, задаваемое изначально, после чего возвращается в таксопарк. С каждой машиной происходят следующие события:\n",
    "\n",
    "- выезд из гаража  \n",
    "- посадка пассажира  \n",
    "- высадка пассажира  \n",
    "- заезд в гараж  \n",
    "\n",
    "Также каждое событие характеризуется временем его происхождения и машиной, с которой оно произошло. Поэтому сначала реализуем кортеж, описывающий событие:"
   ]
  },
  {
   "cell_type": "code",
   "execution_count": 5,
   "id": "1a7079b4",
   "metadata": {},
   "outputs": [],
   "source": [
    "from collections import namedtuple\n",
    "\n",
    "Event = namedtuple('Event', ['time', 'proc', 'action'])"
   ]
  },
  {
   "cell_type": "markdown",
   "id": "30ec7502",
   "metadata": {},
   "source": [
    "А теперь напишем корутину, реализующую последовательность событий, происходящую с машиной:"
   ]
  },
  {
   "cell_type": "code",
   "execution_count": 6,
   "id": "21492c3b",
   "metadata": {},
   "outputs": [],
   "source": [
    "def taxi_process(ident, trips, start_time=0):\n",
    "    \"\"\"\n",
    "    ident - это идентификатор автомобиля (0, 1, 2, ...); \n",
    "    trips - это число поездок;\n",
    "    start_time - это время выезда из гаража. Ради удобства будем обозначать его целыми числами\n",
    "    \"\"\"\n",
    "    time = yield Event(start_time, ident, 'leave garage')\n",
    "    for i in range(trips):\n",
    "        time = yield Event(time, ident, 'pick up passenger')\n",
    "        time = yield Event(time, ident, 'drop off passenger')\n",
    "    yield Event(time, ident, 'going home')"
   ]
  },
  {
   "cell_type": "markdown",
   "id": "5671392a",
   "metadata": {},
   "source": [
    "Для использования этого функционала мы должны: \n",
    "* вызвать корутину, создав тем самым генератор, вызвать его метод `next()`, чтобы перевести генератор в режим ожидания события 'leave garage'  \n",
    "* отправить в генератор время этого события, после чего событие сгенерируется с данным временем\n",
    "* отправить в генератор заранее определенное число событий 'pick up passenger' и 'drop off passenger'  \n",
    "* отправить в генератор событие 'going home'  \n",
    "\n",
    "На практике это выглядит так:"
   ]
  },
  {
   "cell_type": "code",
   "execution_count": 7,
   "id": "e450b6e5",
   "metadata": {},
   "outputs": [
    {
     "data": {
      "text/plain": [
       "Event(time=0, proc=13, action='leave garage')"
      ]
     },
     "execution_count": 7,
     "metadata": {},
     "output_type": "execute_result"
    }
   ],
   "source": [
    "taxi = taxi_process(ident=13, trips=2, start_time=0)\n",
    "next(taxi)"
   ]
  },
  {
   "cell_type": "code",
   "execution_count": 8,
   "id": "86670d14",
   "metadata": {},
   "outputs": [
    {
     "data": {
      "text/plain": [
       "Event(time=7, proc=13, action='pick up passenger')"
      ]
     },
     "execution_count": 8,
     "metadata": {},
     "output_type": "execute_result"
    }
   ],
   "source": [
    "taxi.send(_.time + 7)"
   ]
  },
  {
   "cell_type": "code",
   "execution_count": 9,
   "id": "d722483b",
   "metadata": {},
   "outputs": [
    {
     "data": {
      "text/plain": [
       "Event(time=30, proc=13, action='drop off passenger')"
      ]
     },
     "execution_count": 9,
     "metadata": {},
     "output_type": "execute_result"
    }
   ],
   "source": [
    "taxi.send(_.time + 23)"
   ]
  },
  {
   "cell_type": "code",
   "execution_count": 10,
   "id": "3a704af9",
   "metadata": {},
   "outputs": [
    {
     "data": {
      "text/plain": [
       "Event(time=35, proc=13, action='pick up passenger')"
      ]
     },
     "execution_count": 10,
     "metadata": {},
     "output_type": "execute_result"
    }
   ],
   "source": [
    "taxi.send(_.time + 5)"
   ]
  },
  {
   "cell_type": "code",
   "execution_count": 11,
   "id": "db9162ed",
   "metadata": {},
   "outputs": [
    {
     "data": {
      "text/plain": [
       "Event(time=83, proc=13, action='drop off passenger')"
      ]
     },
     "execution_count": 11,
     "metadata": {},
     "output_type": "execute_result"
    }
   ],
   "source": [
    "taxi.send(_.time + 48)"
   ]
  },
  {
   "cell_type": "code",
   "execution_count": 12,
   "id": "2dd56135",
   "metadata": {},
   "outputs": [
    {
     "data": {
      "text/plain": [
       "Event(time=84, proc=13, action='going home')"
      ]
     },
     "execution_count": 12,
     "metadata": {},
     "output_type": "execute_result"
    }
   ],
   "source": [
    "taxi.send(_.time + 1)"
   ]
  },
  {
   "cell_type": "markdown",
   "id": "3fb1be16",
   "metadata": {},
   "source": [
    "Переменная `time` в этом коде необходима для учета времени события на протяжении всего событийного цикла машины. Мы сендим в эту переменную какое-то значение и это значение используется для генерации кортежа `Event` при последующем сенде. То есть, если мы будем осуществлять присваивание этой переменной только первый раз, то в последующие разы она не будет обновляться. Иными словами, каждый раз, когда мы генерируем кортеж `Event`, в нем используется переменная `time`, инициализированная на какой-то из предыдущих строчек кода (на последней строчке кода, где она инициализирована). \n",
    "\n",
    "Также, важно понимать, что, когда мы пишем `_.time`, то мы обращаемся к атрибуту `time` последнего сгенерированного объекта, т.е. к кортежу `Event`.\n",
    "\n",
    "А теперь напишем класс, который будет выполнять симуляцию."
   ]
  },
  {
   "cell_type": "code",
   "execution_count": 26,
   "id": "67121625",
   "metadata": {},
   "outputs": [],
   "source": [
    "import queue\n",
    "import random\n",
    "\n",
    "DEFAULT_NUMBER_OF_TAXIS = 3\n",
    "DEFAULT_END_TIME = 180\n",
    "SEARCH_DURATION = 5\n",
    "TRIP_DURATION = 20\n",
    "DEPARTURE_INTERVAL = 5\n",
    "\n",
    "class Simulator:\n",
    "    def __init__(self, procs_map):\n",
    "        self.events = queue.PriorityQueue()\n",
    "        self.procs = dict(procs_map)\n",
    "        \n",
    "    def run(self, end_time):\n",
    "        #Проходимся по всем машинам и посредством применения функции next()\n",
    "        #у каждой машины активируем событие leave garage, помещая его в нашу PriorityQueue.\n",
    "        for _, proc in sorted(self.procs.items()):\n",
    "            first_event = next(proc)\n",
    "            self.events.put(first_event)\n",
    "        sim_time = 0\n",
    "        while sim_time < end_time:\n",
    "            if self.events.empty():\n",
    "                print('*** end of events ***')\n",
    "                break\n",
    "            current_event = self.events.get()\n",
    "            sim_time, proc_id, previous_action = current_event\n",
    "            print('taxi: ', proc_id, proc_id * '   ', current_event)\n",
    "            active_proc = self.procs[proc_id]\n",
    "            next_time = sim_time + self.compute_duration(previous_action)\n",
    "            try:\n",
    "                next_event = active_proc.send(next_time)\n",
    "            except StopIteration:\n",
    "                del self.procs[proc_id]\n",
    "            else:\n",
    "                self.events.put(next_event)\n",
    "        else:\n",
    "            print(f'*** end of simulation time: {self.events.qsize()} event(s) are pending ***')\n",
    "            \n",
    "    def compute_duration(self, previous_action):\n",
    "        if previous_action in ['leave garage', 'drop off passenger']:\n",
    "            interval = SEARCH_DURATION\n",
    "        elif previous_action == 'pick up passenger':\n",
    "            interval = TRIP_DURATION\n",
    "        elif previous_action == 'going home':\n",
    "            interval = 1\n",
    "        else:\n",
    "            raise ValueError(f'Unknown previous action: {previous_action}')\n",
    "        return int(random.expovariate(1/interval)) + 1"
   ]
  },
  {
   "cell_type": "markdown",
   "id": "6381bc21",
   "metadata": {},
   "source": [
    "Самым интересным в классе `Simulator` является метод `run()`. Основное его назначение - формирование и обработка очереди событий. Очередь событий реализована на основе класса `PriorityQueue`. Это сделано по причине того, что время наступления всех событий кроме первого - это случайная величина и легко может получиться, что для машины, расположенной раньше по списку, следующее событие наступит позже, чем для машины позже по списку. При этом мы помним, что у кортежа `Event` самое первое поле - это время его наступления. То есть, когда мы будем складывать эвенты в `PriorityQueue`, они будут автоматически отсортированы по возрастанию времени наступления события. \n",
    "\n",
    "Метод `run()` в ходе своей работы сначала переводит все автомобили в режим ожидания самого первого события (leave garage) и сохраняет его в `PriorityQueue`. Далее это событие вытаскивается из этой очереди и о его наступлении сообщается на консоли. После этого в зависимости от текущего события расчитывается время наступления следующего события, которое сендится в машину, с которой произошло текущее событие. Машина возвращает следующее событие, которое сохраняется в `PriorityQueue`."
   ]
  },
  {
   "cell_type": "code",
   "execution_count": 28,
   "id": "fda65035",
   "metadata": {},
   "outputs": [
    {
     "name": "stdout",
     "output_type": "stream",
     "text": [
      "taxi:  0  Event(time=0, proc=0, action='leave garage')\n",
      "taxi:  0  Event(time=3, proc=0, action='pick up passenger')\n",
      "taxi:  1     Event(time=5, proc=1, action='leave garage')\n",
      "taxi:  1     Event(time=7, proc=1, action='pick up passenger')\n",
      "taxi:  1     Event(time=8, proc=1, action='drop off passenger')\n",
      "taxi:  2        Event(time=10, proc=2, action='leave garage')\n",
      "taxi:  2        Event(time=11, proc=2, action='pick up passenger')\n",
      "taxi:  1     Event(time=13, proc=1, action='pick up passenger')\n",
      "taxi:  2        Event(time=34, proc=2, action='drop off passenger')\n",
      "taxi:  2        Event(time=35, proc=2, action='pick up passenger')\n",
      "taxi:  0  Event(time=37, proc=0, action='drop off passenger')\n",
      "taxi:  0  Event(time=38, proc=0, action='pick up passenger')\n",
      "taxi:  1     Event(time=46, proc=1, action='drop off passenger')\n",
      "taxi:  1     Event(time=47, proc=1, action='pick up passenger')\n",
      "taxi:  2        Event(time=50, proc=2, action='drop off passenger')\n",
      "taxi:  2        Event(time=53, proc=2, action='pick up passenger')\n",
      "taxi:  2        Event(time=54, proc=2, action='drop off passenger')\n",
      "taxi:  2        Event(time=57, proc=2, action='pick up passenger')\n",
      "taxi:  2        Event(time=63, proc=2, action='drop off passenger')\n",
      "taxi:  0  Event(time=76, proc=0, action='drop off passenger')\n",
      "taxi:  2        Event(time=78, proc=2, action='pick up passenger')\n",
      "taxi:  0  Event(time=80, proc=0, action='going home')\n",
      "taxi:  2        Event(time=100, proc=2, action='drop off passenger')\n",
      "taxi:  2        Event(time=101, proc=2, action='pick up passenger')\n",
      "taxi:  1     Event(time=110, proc=1, action='drop off passenger')\n",
      "taxi:  1     Event(time=112, proc=1, action='pick up passenger')\n",
      "taxi:  2        Event(time=130, proc=2, action='drop off passenger')\n",
      "taxi:  2        Event(time=133, proc=2, action='going home')\n",
      "taxi:  1     Event(time=151, proc=1, action='drop off passenger')\n",
      "taxi:  1     Event(time=157, proc=1, action='going home')\n",
      "*** end of events ***\n"
     ]
    }
   ],
   "source": [
    "num_taxis = 3\n",
    "DEPARTURE_INTERVAL = 5\n",
    "taxis = {i: taxi_process(ident=i, trips=(i + 1) * 2, start_time=(i * DEPARTURE_INTERVAL)) for i in range(num_taxis)}\n",
    "sim = Simulator(taxis)\n",
    "sim.run(180)"
   ]
  }
 ],
 "metadata": {
  "kernelspec": {
   "display_name": "Python 3",
   "language": "python",
   "name": "python3"
  },
  "language_info": {
   "codemirror_mode": {
    "name": "ipython",
    "version": 3
   },
   "file_extension": ".py",
   "mimetype": "text/x-python",
   "name": "python",
   "nbconvert_exporter": "python",
   "pygments_lexer": "ipython3",
   "version": "3.9.5"
  }
 },
 "nbformat": 4,
 "nbformat_minor": 5
}
