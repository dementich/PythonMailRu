{
 "cells": [
  {
   "cell_type": "markdown",
   "id": "6a3ad827",
   "metadata": {},
   "source": [
    "# Пример простой корутины"
   ]
  },
  {
   "cell_type": "code",
   "execution_count": 1,
   "id": "5198c89f",
   "metadata": {},
   "outputs": [],
   "source": [
    "def simple_coroutine():\n",
    "    print('-> coroutine started')\n",
    "    x = yield\n",
    "    print(f'-> coroutine received {x}')"
   ]
  },
  {
   "cell_type": "code",
   "execution_count": 2,
   "id": "b278f6ef",
   "metadata": {},
   "outputs": [
    {
     "data": {
      "text/plain": [
       "<generator object simple_coroutine at 0x0000013E58328820>"
      ]
     },
     "execution_count": 2,
     "metadata": {},
     "output_type": "execute_result"
    }
   ],
   "source": [
    "my_coro = simple_coroutine()\n",
    "my_coro"
   ]
  },
  {
   "cell_type": "code",
   "execution_count": 3,
   "id": "2d2ea8b6",
   "metadata": {},
   "outputs": [
    {
     "name": "stdout",
     "output_type": "stream",
     "text": [
      "-> coroutine started\n"
     ]
    }
   ],
   "source": [
    "next(my_coro)"
   ]
  },
  {
   "cell_type": "code",
   "execution_count": 4,
   "id": "8ca0139b",
   "metadata": {},
   "outputs": [
    {
     "name": "stdout",
     "output_type": "stream",
     "text": [
      "-> coroutine received 42\n",
      "\n"
     ]
    }
   ],
   "source": [
    "try:\n",
    "    my_coro.send(42)\n",
    "except StopIteration as ex:\n",
    "    print(ex)"
   ]
  },
  {
   "cell_type": "markdown",
   "id": "272b6238",
   "metadata": {},
   "source": [
    "А теперь разберем, что происходит в коде выше:\n",
    "\n",
    "1. Корутина определяется через функцию-генератор, т.е. функцию с конструкцией `yield` в своем теле, которая ничего не возвращает, а напротив, ждет какого-то значения на входе.  \n",
    "2. Для работы с корутиной необходимо сначала создать генератор, что и делается путем вызова функции `simple_coroutine()`.  \n",
    "3. Сразу после создания генератор не находится в режиме ожидания - он еще просто не дошел до выполнения конструкции `yield`.  Чтобы он дошел, надо применить функцию `next()`.  \n",
    "4. После применения метода `.send()` код корутины отрабатывает и возвращается в режим ожидания.  "
   ]
  }
 ],
 "metadata": {
  "kernelspec": {
   "display_name": "Python 3",
   "language": "python",
   "name": "python3"
  },
  "language_info": {
   "codemirror_mode": {
    "name": "ipython",
    "version": 3
   },
   "file_extension": ".py",
   "mimetype": "text/x-python",
   "name": "python",
   "nbconvert_exporter": "python",
   "pygments_lexer": "ipython3",
   "version": "3.9.5"
  }
 },
 "nbformat": 4,
 "nbformat_minor": 5
}
