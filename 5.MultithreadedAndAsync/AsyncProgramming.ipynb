{
 "cells": [
  {
   "cell_type": "markdown",
   "id": "95666602",
   "metadata": {},
   "source": [
    "# Цикл обработки событий\n",
    "\n",
    "Как уже говорилось раньше, по-умолчанию сокеты прослушивают порт в блокирующем режиме, т.е. выполнение программы блокируется сокетом до появления каких-то данных на прослушиваемом порту. Это имеет очевидное следствие - если мы хотим одновременно обрабатывать несколько соединений, то должны использовать либо процессы либо потоки. Из этого, в свою очередь, следует, что рано или поздно нам придется позаботиться о синхронизации процессов и особенно потоков, что зачастую бывает не самой простой процедурой и чревато ошибками, которые трудно локализовать. \n",
    "\n",
    "Данное затруднение породило желание упростить работу программы, пусть даже и за счет потери многопоточности. Таким упрощением является обработка событий в специальном цикле, аналогичном тому, как программы с графическим пользовательским интерфейсом в различных ОС используют цикл обработки пользовательских событий. На наиболее низком уровне такой цикл достигается с использованием библиотеки `select`. Про более высокие уровни будет написано позже. \n",
    "\n",
    "Посмотрим пример использования библиотеки `select` для реализации цикла обработки событий в сетевом приложении."
   ]
  },
  {
   "cell_type": "code",
   "execution_count": 22,
   "id": "1f5ffe1b",
   "metadata": {},
   "outputs": [
    {
     "name": "stdout",
     "output_type": "stream",
     "text": [
      "Overwriting non_block_io_server.py\n"
     ]
    }
   ],
   "source": [
    "%%writefile non_block_io_server.py\n",
    "\n",
    "import socket\n",
    "import select\n",
    "\n",
    "sock = socket.socket()\n",
    "sock.bind((\"\", 10001))\n",
    "sock.listen()\n",
    "\n",
    "# Как обрабатывать запросы для conn1 и conn2,\n",
    "# избегая блокировки выполнения потоков и \n",
    "# без использования многопоточности?\n",
    "conn1, addr = sock.accept()\n",
    "conn2, addr = sock.accept()\n",
    "\n",
    "conn1.setblocking(0)\n",
    "conn2.setblocking(0)\n",
    "\n",
    "# Создаем очередь входящих сообщений, предусматривая идентификацию соединения, \n",
    "# в рамках которого то или иное сообщение было получено\n",
    "epoll = select.epoll()\n",
    "epoll.register(conn1.fileno(), select.EPOLLIN | select.EPOLLOUT)\n",
    "epoll.register(conn2.fileno(), select.EPOLLIN | select.EPOLLOUT)\n",
    "conn_map = {conn1.fileno(): conn1, conn2.fileno(): conn2}\n",
    "\n",
    "#А вот и сам цикл обработки сообщений\n",
    "while True:\n",
    "    events = epoll.poll(1)\n",
    "    for fileno, event in events:\n",
    "        if event & select.EPOLLIN:\n",
    "            print('data received...')\n",
    "            data = conn_map[fileno].recv(1024)\n",
    "            print(data.decode('utf8'))\n",
    "        elif event & select.EPOLLOUT:\n",
    "            conn_map[fileno].send('ping'.encode('utf8'))\n"
   ]
  },
  {
   "cell_type": "markdown",
   "id": "f4ff850f",
   "metadata": {},
   "source": [
    "Теперь для того, чтобы протестировать приведенный выше код сервера, надо запустить его в командной строке, а еще в 2х командных строках надо в интерактивном интерпретаторе Python3 запустить примерно вот такой код:\n",
    "\n",
    "```python\n",
    "import socket\n",
    "import sys\n",
    "\n",
    "sock = socket.create_connection((\"127.0.0.1\", 10001))\n",
    "sock.sendall(b'Some message...')\n",
    "```"
   ]
  }
 ],
 "metadata": {
  "kernelspec": {
   "display_name": "Python 3 (ipykernel)",
   "language": "python",
   "name": "python3"
  },
  "language_info": {
   "codemirror_mode": {
    "name": "ipython",
    "version": 3
   },
   "file_extension": ".py",
   "mimetype": "text/x-python",
   "name": "python",
   "nbconvert_exporter": "python",
   "pygments_lexer": "ipython3",
   "version": "3.9.6"
  }
 },
 "nbformat": 4,
 "nbformat_minor": 5
}
