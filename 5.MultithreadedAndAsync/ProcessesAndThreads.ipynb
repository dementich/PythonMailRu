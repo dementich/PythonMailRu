{
 "cells": [
  {
   "cell_type": "markdown",
   "id": "f042e788",
   "metadata": {},
   "source": [
    "# Базовые сведения о процессах\n",
    "\n",
    "У процесса бывают следующие характеристики:\n",
    "\n",
    "* Идентификатор процесса.  \n",
    "* Объем оперативной памяти.  \n",
    "* Стек.  \n",
    "* Список открытых файлов.  \n",
    "* Ввод/вывод.  \n",
    "\n",
    "Посмотрим запущенные на текущий момент процессы:"
   ]
  },
  {
   "cell_type": "code",
   "execution_count": 1,
   "id": "434c71bf",
   "metadata": {},
   "outputs": [
    {
     "name": "stdout",
     "output_type": "stream",
     "text": [
      "top - 20:19:35 up 0 min,  0 users,  load average: 0.52, 0.58, 0.59\n",
      "Tasks:   4 total,   1 running,   3 sleeping,   0 stopped,   0 zombie\n",
      "%Cpu(s): 25.7 us, 31.7 sy,  0.0 ni, 41.4 id,  0.0 wa,  1.2 hi,  0.0 si,  0.0 st\n",
      "KiB Mem :  8288672 total,  3457196 free,  4595000 used,   236476 buff/cache\n",
      "KiB Swap: 24361084 total, 24286216 free,    74868 used.  3552816 avail Mem \n",
      "\n",
      "  PID USER      PR  NI    VIRT    RES    SHR S  %CPU %MEM     TIME+ COMMAND\n",
      "    1 root      20   0    8892    308    272 S   0.0  0.0   0:00.09 init\n",
      "    5 root      20   0    8916    232    180 S   0.0  0.0   0:00.01 init\n",
      "    6 cyril     20   0   13636   1872   1768 S   0.0  0.0   0:00.10 bash\n",
      "   22 cyril     20   0   15768   1796   1324 R   0.0  0.0   0:00.03 top\n"
     ]
    }
   ],
   "source": [
    "%%bash\n",
    "\n",
    "top -b -n 1"
   ]
  },
  {
   "cell_type": "markdown",
   "id": "068c0a54",
   "metadata": {},
   "source": [
    "Теперь создадим наш Python-процесс и посмотрим на его характеристики средствами операционной системы, после чего остановим его."
   ]
  },
  {
   "cell_type": "code",
   "execution_count": 2,
   "id": "18ac1485",
   "metadata": {},
   "outputs": [
    {
     "name": "stdout",
     "output_type": "stream",
     "text": [
      "Writing sleep.py\n"
     ]
    }
   ],
   "source": [
    "%%writefile sleep.py\n",
    "\n",
    "import os\n",
    "import time\n",
    "\n",
    "pid = os.getpid()\n",
    "\n",
    "while True:\n",
    "    print(pid, time.time())\n",
    "    time.sleep(2)"
   ]
  },
  {
   "cell_type": "code",
   "execution_count": 3,
   "id": "cccfb185",
   "metadata": {},
   "outputs": [
    {
     "name": "stdout",
     "output_type": "stream",
     "text": [
      "USER       PID %CPU %MEM    VSZ   RSS TTY      STAT START   TIME COMMAND\n",
      "cyril       40  0.0  0.0  20396  4128 tty1     R    20:19   0:00 python3 sleep.py\n",
      "cyril       44  0.0  0.0  12892  1124 tty1     S    20:19   0:00 grep sleep.py\n"
     ]
    },
    {
     "name": "stderr",
     "output_type": "stream",
     "text": [
      "-bash: line 6:    40 Killed                  python3 sleep.py\n"
     ]
    }
   ],
   "source": [
    "%%bash\n",
    "\n",
    "python3 sleep.py &\n",
    "\n",
    "#top -b -n 1 | grep python3\n",
    "ps aux | head -1; ps axu | grep \"sleep.py\"\n",
    "top -b -n 1 | grep python3 | awk '{print $1}' | xargs -r kill -9"
   ]
  },
  {
   "cell_type": "markdown",
   "id": "c3ad46cb",
   "metadata": {},
   "source": [
    "При своей работе программа выполняет системные вызовы (что логично). Эти вызовы можно отслеживать командой `strace`:\n",
    "\n",
    "`sudo strace -p <pid>`\n",
    "\n",
    "Также программа может работать с разными файлами. Посмотреть их можно командой `lsof`:\n",
    "\n",
    "`lsof -p <pid>`"
   ]
  },
  {
   "cell_type": "markdown",
   "id": "df8b5fc5",
   "metadata": {},
   "source": [
    "# Программное создание процессов в Python\n",
    "\n",
    "Сабж делается вызовом функции `os.fork()`. Посмотрим пример."
   ]
  },
  {
   "cell_type": "code",
   "execution_count": 4,
   "id": "1b6e4d6a",
   "metadata": {},
   "outputs": [
    {
     "name": "stdout",
     "output_type": "stream",
     "text": [
      "Writing child.py\n"
     ]
    }
   ],
   "source": [
    "%%writefile child.py\n",
    "\n",
    "import time\n",
    "import os\n",
    "\n",
    "pid = os.fork()\n",
    "\n",
    "#Дочерний процесс\n",
    "if pid == 0:\n",
    "    for _ in range(3):\n",
    "        print(f'child: {os.getpid()}; time: {time.time()}')\n",
    "        time.sleep(2)\n",
    "else:\n",
    "    print(f'parent: {os.getpid()}')\n",
    "    os.wait()"
   ]
  },
  {
   "cell_type": "code",
   "execution_count": 5,
   "id": "a733c0af",
   "metadata": {},
   "outputs": [
    {
     "name": "stdout",
     "output_type": "stream",
     "text": [
      "child: 68; time: 1630775976.6424167\n",
      "child: 68; time: 1630775978.6430752\n",
      "child: 68; time: 1630775980.6441362\n",
      "parent: 67\n"
     ]
    }
   ],
   "source": [
    "%%bash\n",
    "\n",
    "python3 child.py"
   ]
  },
  {
   "cell_type": "markdown",
   "id": "cf592170",
   "metadata": {},
   "source": [
    "Вызов `os.fork()`, как уже сказано, создает дочерний процесс. При этом дочернему процессу передаются все системные ресурсы, с которыми работает родительский процесс - копируются в т.ч. память и файловые дескрипторы. Также по коду можно понять, что функция `os.fork()` в дочерний процесс возвращает 0, а в родительский - `pid` дочернего процесса. А еще по коду можно понять, что вызов `os.wait()` дожидается завершения всех дочерних процессов. \n",
    "\n",
    "Если в bash мы хотим понять, какой процесс является родительским, а какой - дочерним, то нам поможет команда `ps -axf`.\n",
    "\n",
    "Вызов функции `os.fork()` может рассматриваться лишь как иллюстрация создания дочерних процессов. На практике он не очень удобен и используют класс `Process` из модуля `multiprocessing`. Посмотрим, как это выглядит."
   ]
  },
  {
   "cell_type": "code",
   "execution_count": 6,
   "id": "1ae9b937",
   "metadata": {},
   "outputs": [
    {
     "name": "stdout",
     "output_type": "stream",
     "text": [
      "Writing no_fork.py\n"
     ]
    }
   ],
   "source": [
    "%%writefile no_fork.py\n",
    "\n",
    "from multiprocessing import Process\n",
    "\n",
    "def f(name: str):\n",
    "    print(f'Hello {name}')\n",
    "    \n",
    "p = Process(target=f, args=('Bob',))\n",
    "p.start()\n",
    "p.join()"
   ]
  },
  {
   "cell_type": "code",
   "execution_count": 7,
   "id": "681876a0",
   "metadata": {},
   "outputs": [
    {
     "name": "stdout",
     "output_type": "stream",
     "text": [
      "Hello Bob\n"
     ]
    }
   ],
   "source": [
    "%%bash\n",
    "\n",
    "python3 no_fork.py"
   ]
  },
  {
   "cell_type": "markdown",
   "id": "c998cb7c",
   "metadata": {},
   "source": [
    "Еще более удобным является альтернативный способ использования класса `multiprocessing.Process`, когда мы создаем класс-наследник от `multiprocessing.Process`, передаем в инициализатор нужные для работы параметры и переопределяем метод `run()`:"
   ]
  },
  {
   "cell_type": "code",
   "execution_count": 8,
   "id": "a53ab37c",
   "metadata": {},
   "outputs": [
    {
     "name": "stdout",
     "output_type": "stream",
     "text": [
      "Writing process_class.py\n"
     ]
    }
   ],
   "source": [
    "%%writefile process_class.py\n",
    "\n",
    "import sys\n",
    "from multiprocessing import Process\n",
    "\n",
    "class PrintProcess(Process):\n",
    "    def __init__(self, name):\n",
    "        super().__init__()\n",
    "        self.name = name\n",
    "        \n",
    "    def run(self):\n",
    "        print(f'hello {self.name}')\n",
    "        \n",
    "if __name__ == '__main__':\n",
    "    p = PrintProcess(sys.argv[1])\n",
    "    p.start()\n",
    "    p.join()"
   ]
  },
  {
   "cell_type": "code",
   "execution_count": 9,
   "id": "dc188808",
   "metadata": {},
   "outputs": [
    {
     "name": "stdout",
     "output_type": "stream",
     "text": [
      "hello Cyril\n"
     ]
    }
   ],
   "source": [
    "%%bash \n",
    "\n",
    "python3 process_class.py Cyril"
   ]
  },
  {
   "cell_type": "markdown",
   "id": "422afcea",
   "metadata": {},
   "source": [
    "# Создание потоков в Python\n",
    "\n",
    "Основное отличие потоков от процессов состоит в том, что потоки выполняются в рамках одного процесса, разделяя его память и другие ресурсы. При этом у каждого потока есть собственный стек. Посмотрим, как создать поток на Python."
   ]
  },
  {
   "cell_type": "code",
   "execution_count": 10,
   "id": "87d3e3a5",
   "metadata": {},
   "outputs": [
    {
     "name": "stdout",
     "output_type": "stream",
     "text": [
      "Writing th.py\n"
     ]
    }
   ],
   "source": [
    "%%writefile th.py\n",
    "\n",
    "from threading import Thread\n",
    "\n",
    "def f(name: str):\n",
    "    print(f'Hello {name}!')\n",
    "    \n",
    "th = Thread(target=f, args=('Bob',))\n",
    "th.start()\n",
    "th.join"
   ]
  },
  {
   "cell_type": "code",
   "execution_count": 11,
   "id": "ff9b550a",
   "metadata": {},
   "outputs": [
    {
     "name": "stdout",
     "output_type": "stream",
     "text": [
      "Hello Bob!\n"
     ]
    }
   ],
   "source": [
    "%%bash\n",
    "\n",
    "python3 th.py"
   ]
  },
  {
   "cell_type": "markdown",
   "id": "d9d5e493",
   "metadata": {},
   "source": [
    "Как и процесс, поток можно создать альтернативным способом - при помощи наследования."
   ]
  },
  {
   "cell_type": "code",
   "execution_count": 12,
   "id": "241939a0",
   "metadata": {},
   "outputs": [
    {
     "name": "stdout",
     "output_type": "stream",
     "text": [
      "Writing th_inh.py\n"
     ]
    }
   ],
   "source": [
    "%%writefile th_inh.py\n",
    "\n",
    "import sys\n",
    "from threading import Thread\n",
    "\n",
    "class PrintThread(Thread):\n",
    "    def __init__(self, name):\n",
    "        super().__init__()\n",
    "        self.name = name\n",
    "        \n",
    "    def run(self):\n",
    "        print(f'Hello {self.name}')\n",
    "        \n",
    "if __name__ == '__main__':\n",
    "    p = PrintThread(sys.argv[1])\n",
    "    p.start()\n",
    "    p.join()"
   ]
  },
  {
   "cell_type": "code",
   "execution_count": 13,
   "id": "1620f2fb",
   "metadata": {},
   "outputs": [
    {
     "name": "stdout",
     "output_type": "stream",
     "text": [
      "Hello Cyril\n"
     ]
    }
   ],
   "source": [
    "%%bash\n",
    "\n",
    "python3 th_inh.py Cyril"
   ]
  },
  {
   "cell_type": "markdown",
   "id": "4b3bb5c7",
   "metadata": {},
   "source": [
    "Также в Python3 есть очень интересная возможность запускать одну функцию с разными аргументами, используя фиксированное число потоков. Допустим, мы хотим многопоточно посчитать квадраты чисел от 0 до 9, используя не более 4 потоков."
   ]
  },
  {
   "cell_type": "code",
   "execution_count": 14,
   "id": "e8fff5ba",
   "metadata": {},
   "outputs": [
    {
     "name": "stdout",
     "output_type": "stream",
     "text": [
      "Writing thread_pool.py\n"
     ]
    }
   ],
   "source": [
    "%%writefile thread_pool.py\n",
    "\n",
    "from concurrent.futures import ThreadPoolExecutor, as_completed\n",
    "\n",
    "def f(a):\n",
    "    return a * a\n",
    "\n",
    "with ThreadPoolExecutor(max_workers=4) as pool:\n",
    "    results = [pool.submit(f, i) for i in range(10)]\n",
    "    \n",
    "    for future in as_completed(results):\n",
    "        print(future.result())"
   ]
  },
  {
   "cell_type": "code",
   "execution_count": 15,
   "id": "6b12c90d",
   "metadata": {},
   "outputs": [
    {
     "name": "stdout",
     "output_type": "stream",
     "text": [
      "36\n",
      "64\n",
      "0\n",
      "25\n",
      "9\n",
      "4\n",
      "81\n",
      "1\n",
      "16\n",
      "49\n"
     ]
    }
   ],
   "source": [
    "%%bash\n",
    "\n",
    "python3 thread_pool.py"
   ]
  },
  {
   "cell_type": "markdown",
   "id": "02f3e3fe",
   "metadata": {},
   "source": [
    "# Синхронизация потоков и блокировки\n",
    "\n",
    "Для потока можно организовать очередь задач. Как только место в этой очереди заканчивается, программа переходит в режим ожидания выполнения текущей задачи и новые задачи в очередь не пускает. На практике организация очереди задач выглядит вот так:"
   ]
  },
  {
   "cell_type": "code",
   "execution_count": 18,
   "id": "19326ef6",
   "metadata": {},
   "outputs": [
    {
     "name": "stdout",
     "output_type": "stream",
     "text": [
      "Overwriting queue_example.py\n"
     ]
    }
   ],
   "source": [
    "%%writefile queue_example.py\n",
    "\n",
    "from queue import Queue\n",
    "from threading import Thread\n",
    "\n",
    "def worker(q: Queue, n: int):\n",
    "    while True:\n",
    "        item = q.get()\n",
    "        if item is None:\n",
    "            break\n",
    "        print(f'process data: {n}, {item}')\n",
    "        \n",
    "q = Queue(5)\n",
    "th1 = Thread(target=worker, args=(q, 1))\n",
    "th2 = Thread(target=worker, args=(q, 2))\n",
    "th1.start(); th2.start();\n",
    "\n",
    "for i in range(50):\n",
    "    q.put(i)\n",
    "    \n",
    "q.put(None); q.put(None);\n",
    "th1.join(); th2.join();"
   ]
  },
  {
   "cell_type": "code",
   "execution_count": 19,
   "id": "cc4893ba",
   "metadata": {},
   "outputs": [
    {
     "name": "stdout",
     "output_type": "stream",
     "text": [
      "Microsoft Windows [Version 10.0.18362.113]\r\n",
      "(c) 2019 Microsoft Corporation. All rights reserved.\r\n",
      "\r\n",
      "\u001b[m\u001b[32m\u001b]9;8;\"USERNAME\"\u001b\\@\u001b]9;8;\"COMPUTERNAME\"\u001b\\ \u001b[92mc:\\Worker\\Python\\PythonMailRu\\5.MultithreadedAndAsync\u001b[90m\r\n",
      "\u001b[90m#\u001b[m \u001b]9;12\u001b\\\n",
      "\u001b[m\u001b[32m\u001b]9;8;\"USERNAME\"\u001b\\@\u001b]9;8;\"COMPUTERNAME\"\u001b\\ \u001b[92mc:\\Worker\\Python\\PythonMailRu\\5.MultithreadedAndAsync\u001b[90m\r\n",
      "\u001b[90m#\u001b[m \u001b]9;12\u001b\\python queue_example.py\n",
      "process data: 2, 0\r\n",
      "process data: 2, 1\r\n",
      "process data: 2, 2\r\n",
      "process data: 2, 3\r\n",
      "process data: 2, 4\r\n",
      "process data: 2, 5\r\n",
      "process data: 2, 6\r\n",
      "process data: 2, 7\r\n",
      "process data: 2, 8\r\n",
      "process data: 2, 9\r\n",
      "process data: 2, 10\r\n",
      "process data: 2, 11\r\n",
      "process data: 2, 12\r\n",
      "process data: 2, 13\r\n",
      "process data: 2, 14\r\n",
      "process data: 2, 15\r\n",
      "process data: 2, 16\r\n",
      "process data: 2, 17\r\n",
      "process data: 2, 18\r\n",
      "process data: 2, 19\r\n",
      "process data: 1, 20\r\n",
      "process data: 1, 21\r\n",
      "process data: 1, 22\r\n",
      "process data: 1, 23\r\n",
      "process data: 1, 24\r\n",
      "process data: 1, 25\r\n",
      "process data: 1, 26\r\n",
      "process data: 1, 27\r\n",
      "process data: 1, 28\r\n",
      "process data: 1, 29\r\n",
      "process data: 1, 30\r\n",
      "process data: 1, 31\r\n",
      "process data: 1, 32\r\n",
      "process data: 1, 33\r\n",
      "process data: 1, 34\r\n",
      "process data: 1, 35\r\n",
      "process data: 1, 36\r\n",
      "process data: 1, 37\r\n",
      "process data: 1, 38\r\n",
      "process data: 1, 39\r\n",
      "process data: 1, 40\r\n",
      "process data: 1, 41\r\n",
      "process data: 1, 42\r\n",
      "process data: 1, 43\r\n",
      "process data: 1, 44\r\n",
      "process data: 2, 45\r\n",
      "process data: 2, 46\r\n",
      "process data: 2, 47\r\n",
      "process data: 2, 48\r\n",
      "process data: 2, 49\r\n",
      "\r\n",
      "\u001b[m\u001b[32m\u001b]9;8;\"USERNAME\"\u001b\\@\u001b]9;8;\"COMPUTERNAME\"\u001b\\ \u001b[92mc:\\Worker\\Python\\PythonMailRu\\5.MultithreadedAndAsync\u001b[90m\r\n",
      "\u001b[90m#\u001b[m \u001b]9;12\u001b\\"
     ]
    }
   ],
   "source": [
    "%%cmd\n",
    "\n",
    "python queue_example.py"
   ]
  }
 ],
 "metadata": {
  "kernelspec": {
   "display_name": "Python 3",
   "language": "python",
   "name": "python3"
  },
  "language_info": {
   "codemirror_mode": {
    "name": "ipython",
    "version": 3
   },
   "file_extension": ".py",
   "mimetype": "text/x-python",
   "name": "python",
   "nbconvert_exporter": "python",
   "pygments_lexer": "ipython3",
   "version": "3.9.5"
  }
 },
 "nbformat": 4,
 "nbformat_minor": 5
}
