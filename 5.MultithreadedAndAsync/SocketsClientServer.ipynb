{
 "cells": [
  {
   "cell_type": "markdown",
   "id": "11393417",
   "metadata": {},
   "source": [
    "# Работа с сокетами\n",
    "\n",
    "Сокеты - это кросс-платформенный механизм для обмена данными между отдельными процессами, которые могут работать на разных машинах. Для взаимодействия по сокетам нужна программа-сервер, слушающая определенный порт и программа-клиент, отправляющая данные этому серверу. \n",
    "Общий порядок работы с сокетами в приложении-сервере следующий:\n",
    "1. Создаем сокет.  \n",
    "2. Связываем его с IP-адресом машины, на которой работает программа-сервер.  \n",
    "3. Начинаем прослушивание обращений к заданному порту на обозначенном IP-адресе.  \n",
    "4. Принимаем обращения и обрабатываем их. Логично делать это в цикле, а не как в коде ниже.  \n",
    "\n",
    "Рассмотрим простой пример программы-сервера."
   ]
  },
  {
   "cell_type": "code",
   "execution_count": 12,
   "id": "ae3be676",
   "metadata": {},
   "outputs": [
    {
     "name": "stdout",
     "output_type": "stream",
     "text": [
      "Overwriting socket_server.py\n"
     ]
    }
   ],
   "source": [
    "%%writefile socket_server.py\n",
    "\n",
    "import socket\n",
    "\n",
    "#Создаем сокет\n",
    "sock = socket.socket(socket.AF_INET, socket.SOCK_STREAM)\n",
    "#Связываем его с IP-адресом машины\n",
    "sock.bind((\"127.0.0.1\", 10001))\n",
    "#Начинаем слушать порт\n",
    "sock.listen(socket.SOMAXCONN)\n",
    "\n",
    "#Принимаем обращение. В данном коде сервер может принять только одно обращение.\n",
    "#Код sock.accept() приостанавливает работу программы в ожидании полученя соединения.\n",
    "conn, addr = sock.accept()\n",
    "while True:\n",
    "    data = conn.recv(1024)\n",
    "    if not data:\n",
    "        break\n",
    "    print(data.decode('utf8'))\n",
    "    \n",
    "conn.close()\n",
    "sock.close"
   ]
  },
  {
   "cell_type": "markdown",
   "id": "56cd8742",
   "metadata": {},
   "source": [
    "А теперь посмотрим код программы-клиента:"
   ]
  },
  {
   "cell_type": "code",
   "execution_count": 2,
   "id": "e23e9cbf",
   "metadata": {},
   "outputs": [
    {
     "name": "stdout",
     "output_type": "stream",
     "text": [
      "Overwriting socket_client.py\n"
     ]
    }
   ],
   "source": [
    "%%writefile socket_client.py\n",
    "\n",
    "import socket\n",
    "\n",
    "sock = socket.socket()\n",
    "sock.connect((\"127.0.0.1\", 10001))\n",
    "sock.sendall(\"ping\".encode('utf8'))\n",
    "sock.close()\n",
    "\n",
    "#То же, что выше, но более короткая запись\n",
    "#sock = socket.create_connection((\"127.0.0.1\", 10001))\n",
    "#sock.sendall(\"ping\".encode('utf8'))\n",
    "#sock.close()"
   ]
  },
  {
   "cell_type": "markdown",
   "id": "c7d0e84c",
   "metadata": {},
   "source": [
    "Ввиду особенностей Jupyter Notebook, завести это получится только из командной строки. Но решение является вполне работоспособным - стартуем сервер, в другом окне консоли стартуем клиент, смотрим на окно сервера и видим текстовое сообщение. \n",
    "\n",
    "Как указано в комментариях к коду сервера, он может принять только одно сообщение, после чего прекратит работу. Очевидно, что это неправильно. Также очевидно, что приведенный выше код не обрабатывает никаких ошибок. Поэтому, с точки зрения безопасности куда выгоднее пользоваться контекстными менеджерами. Перепишем тот же код с исполоьзованием контекстных менеджеров."
   ]
  },
  {
   "cell_type": "code",
   "execution_count": 3,
   "id": "4555b996",
   "metadata": {},
   "outputs": [
    {
     "name": "stdout",
     "output_type": "stream",
     "text": [
      "Overwriting socket_server_cm.py\n"
     ]
    }
   ],
   "source": [
    "%%writefile socket_server_cm.py\n",
    "\n",
    "import socket\n",
    "\n",
    "with socket.socket() as sock:\n",
    "    sock.bind((\"\", 10001))\n",
    "    sock.listen()\n",
    "    \n",
    "    while True:\n",
    "        conn, addr = sock.accept()\n",
    "        with conn:\n",
    "            while True:\n",
    "                data = conn.recv(1024)\n",
    "                if not data:\n",
    "                    break;\n",
    "                print(data.decode('utf8'))"
   ]
  },
  {
   "cell_type": "code",
   "execution_count": 4,
   "id": "27627005",
   "metadata": {},
   "outputs": [
    {
     "name": "stdout",
     "output_type": "stream",
     "text": [
      "Overwriting socket_client_cm.py\n"
     ]
    }
   ],
   "source": [
    "%%writefile socket_client_cm.py\n",
    "\n",
    "import socket\n",
    "import sys\n",
    "\n",
    "with socket.create_connection((\"127.0.0.1\", 10001)) as sock:\n",
    "    msg = 'ping' if len(sys.argv) == 1 else sys.argv[1]\n",
    "    sock.sendall(msg.encode('utf8'))"
   ]
  },
  {
   "cell_type": "markdown",
   "id": "cf795919",
   "metadata": {},
   "source": [
    "По сути, вышенаписанные клиент и сервер являются telnet-клиентом и telnet-сервером. Из этого следует, что с нашим самописным сервером может работать любой стандартный telnet-клиент. Например, утилита `telnet` из Linux. Для проверки этого достаточно набрать следующий код в командной строке:\n",
    "\n",
    "```bash\n",
    "telnet 127.0.0.1 10001\n",
    "```"
   ]
  },
  {
   "cell_type": "markdown",
   "id": "2e801ea6",
   "metadata": {},
   "source": [
    "# Таймауты и обработка сетевых ошибок\n",
    "\n",
    "Для начала перепишем наш сервер так, чтобы он мог обрабатывать ошибки. Надо отметить, что приведенный ниже код устанавливает таймаут в 5 секунд от момента установки соединения с клиентом до момента получения от него данных. При отсутствии такого таймаута сервер мог бы ждать данных бесконечно долго, а при установки его в 0 ждал бы тоже, но в неблокирующем режиме (о таком режиме поговорим чуть позднее). В нашем случае, когда таймаут явно установлен, если по его истечении не поступит никаких команд с клиента, то сервер сгенерирует исключение `socket.timeout`."
   ]
  },
  {
   "cell_type": "code",
   "execution_count": 13,
   "id": "97b9014c",
   "metadata": {},
   "outputs": [
    {
     "name": "stdout",
     "output_type": "stream",
     "text": [
      "Overwriting socket_server_eh.py\n"
     ]
    }
   ],
   "source": [
    "%%writefile socket_server_eh.py\n",
    "\n",
    "import socket\n",
    "import sys\n",
    "\n",
    "def run_server(port_num: int, batch_size: int = 1024, encoding: str = 'utf8'):\n",
    "    with socket.socket() as sock:\n",
    "        sock.bind((\"\", port_num))\n",
    "        sock.listen()\n",
    "        print(f'Listening to port {port_num}...')\n",
    "        while True:\n",
    "            conn, addr = sock.accept()\n",
    "            print(f'Connection {conn} is accepted at address {addr}.')\n",
    "            conn.settimeout(5)\n",
    "            with conn:\n",
    "                while True:\n",
    "                    try:\n",
    "                        data = conn.recv(batch_size)\n",
    "                    except socket.timeout:\n",
    "                        print('Close connection by timeout')\n",
    "                        break\n",
    "                    if not data:\n",
    "                        break\n",
    "                    print(data.decode(encoding))\n",
    "                print(f'Connection {conn} is processed and closed.')\n",
    "\n",
    "def main(*args):\n",
    "    try:\n",
    "        port_num = 10001 if len(args) == 0 else int(args[0])\n",
    "        run_server(port_num)\n",
    "    except Exception as e:\n",
    "        print(e)\n",
    "\n",
    "if __name__ == '__main__':\n",
    "    main(*sys.argv[1:])"
   ]
  },
  {
   "cell_type": "markdown",
   "id": "4c01c978",
   "metadata": {},
   "source": [
    "А теперь напишем клиента с обработкой ошибок."
   ]
  },
  {
   "cell_type": "code",
   "execution_count": 16,
   "id": "785bffc2",
   "metadata": {},
   "outputs": [
    {
     "name": "stdout",
     "output_type": "stream",
     "text": [
      "Overwriting socket_client_eh.py\n"
     ]
    }
   ],
   "source": [
    "%%writefile socket_client_eh.py\n",
    "\n",
    "import socket\n",
    "import sys\n",
    "\n",
    "def send_message(msg: str, host: str = '127.0.0.1', port: int = 10001, connect_timeout: int = 5, socket_read_timeout: int = 2):\n",
    "    with socket.create_connection((host, port), connect_timeout) as sock:\n",
    "        sock.settimeout(socket_read_timeout)\n",
    "        try:\n",
    "            sock.sendall(msg.encode('utf8'))\n",
    "        except socket.timeout:\n",
    "            print('send data timeout')\n",
    "        except socket.error as ex:\n",
    "            print(f'send data error: {ex}')\n",
    "\n",
    "def main(*args):\n",
    "    msg = 'ping' if len(args) == 0 else args[0]\n",
    "    send_message(msg)\n",
    "\n",
    "if __name__ == '__main__':\n",
    "    main(*sys.argv[1:])"
   ]
  },
  {
   "cell_type": "markdown",
   "id": "8ddc8c49",
   "metadata": {},
   "source": [
    "В коде выше мы задали два таймаута: один для установки соединения (5 сек.) и один для отправки сообщения (2 сек.). Из этого следует, что по-хорошему мы в случае ошибки установки соединения по таймауту должны попробовать подключиться еще сколько-то раз, а при ошибке отправки данных, должны попытаться сделать это еще сколько-то раз."
   ]
  },
  {
   "cell_type": "markdown",
   "id": "6921fc53",
   "metadata": {},
   "source": [
    "# Одновременная работа с несколькими соединениями\n",
    "\n",
    "Сначала посмотрим на созданный ранее код простого сервера и поймем, почему он непригоден для работы с несколькими соединениями."
   ]
  },
  {
   "cell_type": "code",
   "execution_count": 17,
   "id": "7c82d396",
   "metadata": {},
   "outputs": [
    {
     "name": "stdout",
     "output_type": "stream",
     "text": [
      "Overwriting socket_server_cm.py\n"
     ]
    }
   ],
   "source": [
    "%%writefile socket_server_cm.py\n",
    "\n",
    "import socket\n",
    "\n",
    "with socket.socket() as sock:\n",
    "    sock.bind((\"\", 10001))\n",
    "    sock.listen()\n",
    "    \n",
    "    while True:\n",
    "        conn, addr = sock.accept()\n",
    "        with conn:\n",
    "            while True:\n",
    "                data = conn.recv(1024)\n",
    "                if not data:\n",
    "                    break;\n",
    "                print(data.decode('utf8'))"
   ]
  },
  {
   "cell_type": "markdown",
   "id": "32d5cd00",
   "metadata": {},
   "source": [
    "А проблема здесь в том, что мы слушаем соединения и обрабатываем их (начиная с метода `sock.accept()`) в одном и том же потоке. То есть, пока мы обрабатываем одно соединение, все остальные клиенты вынуждены ждать окончания его обработки. Самым очевидным решением данного вопроса является создание сразу после метода `sock.accept()` отдельного процесса или потока, обрабатывающего запрос со стороны клиента. При этом мы помним, что каждый процесс в операционной системе имеет свою память, которую он не делит с другими процессами и каждым процессом операционная система управляет отдельно. То есть, если к нашему серверу будет обращаться 10000 клиентских приложений, то нам придется создать 10000 процессов, что явно усложнит работу операционной системы. Поэтому, если речь идет о каких-то несложных задачах, то лучше создавать потоки.\n",
    "\n",
    "Посмотрим пример обработки сетевых запросов в несколько потоков."
   ]
  },
  {
   "cell_type": "code",
   "execution_count": 21,
   "id": "8fd04cfb",
   "metadata": {},
   "outputs": [
    {
     "name": "stdout",
     "output_type": "stream",
     "text": [
      "Overwriting socket_server_th.py\n"
     ]
    }
   ],
   "source": [
    "%%writefile socket_server_th.py\n",
    "\n",
    "import socket\n",
    "import threading\n",
    "import sys\n",
    "\n",
    "def process_request(conn, addr):\n",
    "    print(f'connected client: {addr}')\n",
    "    with conn:\n",
    "        while True:\n",
    "            data = conn.recv(1024)\n",
    "            if not data:\n",
    "                break;\n",
    "            print(data.decode('utf8'))\n",
    "\n",
    "def run_server(port_num: int = 10001):\n",
    "    with socket.socket() as sock:\n",
    "        sock.bind((\"\", 10001))\n",
    "        sock.listen()\n",
    "        \n",
    "        while True:\n",
    "            print('server is waiting for request...')\n",
    "            conn, addr = sock.accept()\n",
    "            th = threading.Thread(target=process_request, args=(conn, addr))\n",
    "            th.start()\n",
    "        \n",
    "def main(*args):\n",
    "    try:\n",
    "        port_num = 10001 if len(args) == 0 else int(args[0])\n",
    "        run_server(port_num)\n",
    "    except Exception as e:\n",
    "        print(e)\n",
    "\n",
    "if __name__ == '__main__':\n",
    "    main(*sys.argv[1:])"
   ]
  },
  {
   "cell_type": "markdown",
   "id": "0ab41f42",
   "metadata": {},
   "source": [
    "Если очень хочется реализовать одновременную обработку соединений не на потоках, а на процессах, то это будет выглядеть вот так:"
   ]
  },
  {
   "cell_type": "code",
   "execution_count": 25,
   "id": "11a7a89f",
   "metadata": {},
   "outputs": [
    {
     "name": "stdout",
     "output_type": "stream",
     "text": [
      "Overwriting socket_server_pr.py\n"
     ]
    }
   ],
   "source": [
    "%%writefile socket_server_pr.py\n",
    "\n",
    "import sys\n",
    "import socket\n",
    "import multiprocessing\n",
    "import threading\n",
    "import os\n",
    "\n",
    "def process_request(conn, addr):\n",
    "    print(f'connected client: {addr}')\n",
    "    with conn:\n",
    "        while True:\n",
    "            data = conn.recv(1024)\n",
    "            if not data:\n",
    "                break;\n",
    "            print(data.decode('utf8'))\n",
    "            \n",
    "def worker(sock):\n",
    "    while True:\n",
    "        print(f'server (pid={os.getpid()}) is waiting for request...')\n",
    "        conn, addr = sock.accept()\n",
    "        th = threading.Thread(target=process_request, args=(conn, addr))\n",
    "        th.start()\n",
    "\n",
    "def run_server(port_num: int = 10001, worker_count: int = 4):\n",
    "    with socket.socket() as sock:\n",
    "        sock.bind((\"\", 10001))\n",
    "        sock.listen()\n",
    "        workers = [multiprocessing.Process(target=worker, args=(sock,)) for _ in range(worker_count)]\n",
    "        for w in workers:\n",
    "            w.start()\n",
    "        for w in workers:\n",
    "            w.join()\n",
    "\n",
    "def main(*args):\n",
    "    try:\n",
    "        port_num = 10001 if len(args) == 0 else int(args[0])\n",
    "        run_server(port_num)\n",
    "    except Exception as e:\n",
    "        print(e)\n",
    "\n",
    "if __name__ == '__main__':\n",
    "    main(*sys.argv[1:])"
   ]
  },
  {
   "cell_type": "markdown",
   "id": "b87683e0",
   "metadata": {},
   "source": [
    "# Асинхронное программирование\n",
    "\n"
   ]
  }
 ],
 "metadata": {
  "kernelspec": {
   "display_name": "Python 3",
   "language": "python",
   "name": "python3"
  },
  "language_info": {
   "codemirror_mode": {
    "name": "ipython",
    "version": 3
   },
   "file_extension": ".py",
   "mimetype": "text/x-python",
   "name": "python",
   "nbconvert_exporter": "python",
   "pygments_lexer": "ipython3",
   "version": "3.9.5"
  }
 },
 "nbformat": 4,
 "nbformat_minor": 5
}
