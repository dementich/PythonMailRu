{
 "cells": [
  {
   "cell_type": "markdown",
   "id": "11393417",
   "metadata": {},
   "source": [
    "# Работа с сокетами\n",
    "\n",
    "Сокеты - это кросс-платформенный механизм для обмена данными между процессами, запущенными на разных машинах. Для взаимодействия по сокетам нужна программа-сервер, слушающая определенный порт и программа-клиент, отправляющая данные этому серверу. Рассмотрим простой пример программы-сервера."
   ]
  },
  {
   "cell_type": "code",
   "execution_count": 1,
   "id": "ae3be676",
   "metadata": {},
   "outputs": [
    {
     "name": "stdout",
     "output_type": "stream",
     "text": [
      "Writing socket_server.py\n"
     ]
    }
   ],
   "source": [
    "%%writefile socket_server.py\n",
    "\n",
    "import socket\n",
    "\n",
    "sock = socket.socket(socket.AF_INET, socket.SOCK_STREAM)\n",
    "sock.bind((\"127.0.0.1\", 10001))\n",
    "sock.listen(socket.SOMAXCONN)\n",
    "\n",
    "conn, addr = sock.accept()\n",
    "while True:\n",
    "    data = conn.recv(1024)\n",
    "    if not data:\n",
    "        break\n",
    "    print(data.decode('utf8'))\n",
    "    \n",
    "conn.close()\n",
    "sock.close"
   ]
  },
  {
   "cell_type": "markdown",
   "id": "56cd8742",
   "metadata": {},
   "source": [
    "А теперь посмотрим код программы-клиента:"
   ]
  },
  {
   "cell_type": "code",
   "execution_count": 4,
   "id": "e23e9cbf",
   "metadata": {},
   "outputs": [
    {
     "name": "stdout",
     "output_type": "stream",
     "text": [
      "Overwriting socket_client.py\n"
     ]
    }
   ],
   "source": [
    "%%writefile socket_client.py\n",
    "\n",
    "import socket\n",
    "\n",
    "sock = socket.socket()\n",
    "sock.connect((\"127.0.0.1\", 10001))\n",
    "sock.sendall(\"ping\".encode('utf8'))\n",
    "sock.close()\n",
    "\n",
    "#То же, что выше, но более короткая запись\n",
    "#sock = socket.create_connection((\"127.0.0.1\", 10001))\n",
    "#sock.sendall(\"ping\".encode('utf8'))\n",
    "#sock.close()"
   ]
  },
  {
   "cell_type": "markdown",
   "id": "c7d0e84c",
   "metadata": {},
   "source": [
    "Ввиду особенностей Jupyter Notebook, завести это получится только из командной строки. Но решение является вполне работоспособным - стартуем сервер, в другом окне консоли стартуем клиент, смотрим на окно сервера и видим текстовое сообщение. \n",
    "\n",
    "Очевидно, что приведенный выше код не обрабатывает никаких ошибок. Поэтому, с точки зрения безопасности куда выгоднее пользоваться контекстными менеджерами. Перепишем тот же код с исполоьзованием контекстных менеджеров."
   ]
  },
  {
   "cell_type": "code",
   "execution_count": 8,
   "id": "4555b996",
   "metadata": {},
   "outputs": [
    {
     "name": "stdout",
     "output_type": "stream",
     "text": [
      "Writing socket_server_cm.py\n"
     ]
    }
   ],
   "source": [
    "%%writefile socket_server_cm.py\n",
    "\n",
    "import socket\n",
    "\n",
    "with socket.socker() as sock:\n",
    "    sock.bind((\"\", 10001))\n",
    "    sock.listen()\n",
    "    \n",
    "    while True:\n",
    "        conn, addr = sock.accept()\n",
    "        with conn:\n",
    "            while True:\n",
    "                data = conn.recv(1024)\n",
    "                if not data:\n",
    "                    break;\n",
    "                print(data.decode('utf8'))"
   ]
  },
  {
   "cell_type": "code",
   "execution_count": null,
   "id": "27627005",
   "metadata": {},
   "outputs": [],
   "source": [
    "%%writefile socket_client_cm.py\n",
    "\n",
    "import socket\n",
    "\n",
    "with socket.create_connection((\"127.0.0.1\", 10001)) as sock:\n",
    "    sock.sendall(\"ping\".encode('utf8'))"
   ]
  }
 ],
 "metadata": {
  "kernelspec": {
   "display_name": "Python 3",
   "language": "python",
   "name": "python3"
  },
  "language_info": {
   "codemirror_mode": {
    "name": "ipython",
    "version": 3
   },
   "file_extension": ".py",
   "mimetype": "text/x-python",
   "name": "python",
   "nbconvert_exporter": "python",
   "pygments_lexer": "ipython3",
   "version": "3.9.5"
  }
 },
 "nbformat": 4,
 "nbformat_minor": 5
}
