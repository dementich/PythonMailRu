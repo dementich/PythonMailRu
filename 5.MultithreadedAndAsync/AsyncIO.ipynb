{
 "cells": [
  {
   "cell_type": "markdown",
   "id": "2b528a2f",
   "metadata": {},
   "source": [
    "# Параллельная разработка с библиотекой `asyncio`\n",
    "\n",
    "## Основы\n",
    "\n",
    "Здесь сначала введем новый термин - конкурентность (от англ. concurrency). Почти везде слово concurrency на русский переводится как параллелизм, однако это не совсем корректный перевод. Параллелизм - это когда одновременно работают несколько потоков операций. Допустим, у нас есть ПК с 4 ядрами ЦПУ. Тогда параллельно могут работать не более 4 потоков. При этом, если посмотреть на диспетчер задач, то там скорее всего будет числиться гораздо большее число одновременно выполняемых процессов. То есть, операционная система выделяет каждому из потоков этих процессов какой-то квант процессорного времени, чередуя потоки. Это и есть пример конкурентности. \n",
    "\n",
    "В отличие от `concurrent.futures` библиотека `asyncio` реализует многозадачность через конкурентность с помощью корутин и использования цикла обработки событий. Начнем наше знакомство с `asyncio` с изучения различий с явной работой с потоками. Для этого реализуем один и тот же функционал двумя способами: сначала через параллелизм, а потом - через конкурентность."
   ]
  },
  {
   "cell_type": "code",
   "execution_count": 1,
   "id": "cafa7cb4",
   "metadata": {},
   "outputs": [
    {
     "name": "stdout",
     "output_type": "stream",
     "text": [
      "Overwriting spinner_thread.py\n"
     ]
    }
   ],
   "source": [
    "%%writefile spinner_thread.py\n",
    "\n",
    "import threading\n",
    "import time\n",
    "import sys\n",
    "import itertools\n",
    "\n",
    "class Signal:\n",
    "    go = True\n",
    "    \n",
    "def spin(msg, signal):\n",
    "    write, flush = sys.stdout.write, sys.stdout.flush\n",
    "    for char in itertools.cycle('|/-\\\\'):\n",
    "        status = f'{char} {msg}'\n",
    "        write(status)\n",
    "        flush()\n",
    "        write('\\x08' * len(status))\n",
    "        time.sleep(.1)\n",
    "        if not signal.go:\n",
    "            break\n",
    "    write(' ' * len(status) + '\\x08' * len(status))\n",
    "    \n",
    "def slow_function():\n",
    "    time.sleep(3)\n",
    "    return 42\n",
    "    \n",
    "def supervisor():\n",
    "    signal = Signal()\n",
    "    spinner = threading.Thread(target=spin, args=('thinking!', signal))\n",
    "    print(f'spinner object: {spinner}')\n",
    "    spinner.start()\n",
    "    result = slow_function()\n",
    "    signal.go = False\n",
    "    spinner.join()\n",
    "    return result\n",
    "    \n",
    "def main():\n",
    "    result = supervisor()\n",
    "    print(f'Answer: {result}')\n",
    "\n",
    "if __name__ == '__main__':\n",
    "    main()"
   ]
  },
  {
   "cell_type": "markdown",
   "id": "cfff218c",
   "metadata": {},
   "source": [
    "А здесь - реализация того же функционала через конкурентность. Исходя из кода становится понятен принцип конкурентности, которым руководствуется `asyncio`. В коде программы функции заменяются корутинами (см. префикс `async` в определении функции), которые вызывают кроме прочего другие корутины (см. префикс `await` перед вызовом функции). Так мы даем `asyncio` понять, в каком месте можно приостановить выполнение функции и перейти к другой функции.  "
   ]
  },
  {
   "cell_type": "code",
   "execution_count": 2,
   "id": "324a694f",
   "metadata": {},
   "outputs": [
    {
     "name": "stdout",
     "output_type": "stream",
     "text": [
      "Overwriting spinner_asyncio.py\n"
     ]
    }
   ],
   "source": [
    "%%writefile spinner_asyncio.py\n",
    "\n",
    "import asyncio\n",
    "import itertools\n",
    "import sys\n",
    "\n",
    "async def spin(msg):\n",
    "    write, flush = sys.stdout.write, sys.stdout.flush\n",
    "    for char in itertools.cycle('|-/\\\\'):\n",
    "        status = f'{char} {msg}'\n",
    "        write(status)\n",
    "        flush()\n",
    "        write('\\x08' * len(status))\n",
    "        try:\n",
    "            await asyncio.sleep(0.1)\n",
    "        except asyncio.CancelledError:\n",
    "            break\n",
    "    write(' ' * len(status) + '\\x08' * len(status))\n",
    "\n",
    "async def slow_function():\n",
    "    await asyncio.sleep(3)\n",
    "    return 42\n",
    "\n",
    "async def supervisor():\n",
    "    spinner = asyncio.create_task(spin('thinking!'))\n",
    "    print(f'spinner object: {spinner}')\n",
    "    result = await slow_function()\n",
    "    spinner.cancel()\n",
    "    return result\n",
    "\n",
    "def main():\n",
    "    loop = asyncio.get_event_loop()\n",
    "    result = loop.run_until_complete(supervisor())\n",
    "    loop.close()\n",
    "    print(f'Answer = {result}')\n",
    "\n",
    "if __name__ == '__main__':\n",
    "    main()"
   ]
  },
  {
   "cell_type": "markdown",
   "id": "a53b3cdf",
   "metadata": {},
   "source": [
    "В коде выше стоит обратить внимание на создание задачи (объект класса `Task`) методом `create_task()` библиотеки `asyncio`. Класс `Task` является дочерним по отношению к классу `asyncio.Future`, который является vis-a-vis класса `concurrent.futures.Future` (см. ноутбук `Futures.ipynb`) и реализует важный функционал. У данных классов есть принципиальное различие: у обоих есть метод `result()`. Если мы вызовем данный метод в незавершившем работу классе `asyncio.Future`, то в отличие от класса `concurrent.futures.Future` он не заблокирует поток в ожидании завершения работы футуры, а создаст исключение `asyncio.InvalidStateError`. Потому что ожидать выполнения футуры нужно через ключевое слово `await`.\n",
    "\n",
    "А теперь попробуем с помощью `asyncio` повторить загрузчик флагов."
   ]
  },
  {
   "cell_type": "code",
   "execution_count": 4,
   "id": "0cbbdb80",
   "metadata": {},
   "outputs": [
    {
     "name": "stdout",
     "output_type": "stream",
     "text": [
      "Overwriting flags_asyncio.py\n"
     ]
    }
   ],
   "source": [
    "%%writefile flags_asyncio.py\n",
    "\n",
    "import asyncio\n",
    "\n",
    "from httpx import AsyncClient\n",
    "\n",
    "from flags_seq import BASE_URL, save_flag, main\n",
    "\n",
    "async def download_one(client: AsyncClient, cc: str):\n",
    "    image = await get_flag(client, cc)\n",
    "    save_flag(image, f'{cc}.gif')\n",
    "    print(cc, end=' ', flush=True)\n",
    "    return cc\n",
    "\n",
    "async def get_flag(client: AsyncClient, cc: str) -> bytes:\n",
    "    url = f'{BASE_URL}/{cc}/{cc}.gif'.lower()\n",
    "    resp = await client.get(url, timeout=5, follow_redirects=True)\n",
    "    return resp.read()\n",
    "\n",
    "def download_many(cc_list: list) -> int:\n",
    "    return asyncio.run(supervisor(cc_list))\n",
    "\n",
    "async def supervisor(cc_list: list) -> int:\n",
    "    async with AsyncClient() as client:\n",
    "        to_do = [download_one(client, cc) for cc in sorted(cc_list)]\n",
    "        res = await asyncio.gather(*to_do)\n",
    "\n",
    "    return len(res)\n",
    "\n",
    "if __name__ == '__main__':\n",
    "    main(download_many)"
   ]
  }
 ],
 "metadata": {
  "kernelspec": {
   "display_name": "Python 3 (ipykernel)",
   "language": "python",
   "name": "python3"
  },
  "language_info": {
   "codemirror_mode": {
    "name": "ipython",
    "version": 3
   },
   "file_extension": ".py",
   "mimetype": "text/x-python",
   "name": "python",
   "nbconvert_exporter": "python",
   "pygments_lexer": "ipython3",
   "version": "3.9.6"
  }
 },
 "nbformat": 4,
 "nbformat_minor": 5
}
