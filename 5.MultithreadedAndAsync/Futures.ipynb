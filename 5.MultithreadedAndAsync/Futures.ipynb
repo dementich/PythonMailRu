{
 "cells": [
  {
   "cell_type": "markdown",
   "id": "29e19088",
   "metadata": {},
   "source": [
    "# Параллельная разработка с библиотекой `concurrent.futures`\n",
    "\n",
    "## Основы\n",
    "\n",
    "Логично предположить, что для параллельной разработки на Python созданы какие-то библиотеки. Первой из них была `concurrent.futures`. Библиотека эта введена в Python начиная с версии 3.2, однако позже она была адаптирована для Python начиная с версии 2.5. Основной подход в работе с этой библиотекой воплощает следующую мысль Микеле Симионато (Michele Simionato):\n",
    "\n",
    "_Люди, критикующие явную работу с несколькими потоками, обычно являются системными программистами, которые имеют в виду варианты использования, с которыми типичный прикладной программист никогда не столкнется в своей жизни. […] В 99% случаев прикладному программисту достаточно создавать группы независимых потоков и собирать результаты их работы в очереди_.\n",
    "\n",
    "Далее мы рассмотрим такую сущность, как футуры. Если говорить кратко, то футура - это объект, предоставляющий возможность асинхронного выполнения операции. \n",
    "\n",
    "Начнем с простого примера. Допустим, нам надо написать программу, скачивающую с интернета какие-то файлы. Есть 2 подхода: либо мы качаем файлы последовательно, либо параллельно. Рассмотрим оба варианта реализации."
   ]
  },
  {
   "cell_type": "code",
   "execution_count": 1,
   "id": "8df51703",
   "metadata": {},
   "outputs": [
    {
     "name": "stdout",
     "output_type": "stream",
     "text": [
      "Overwriting flags_seq.py\n"
     ]
    }
   ],
   "source": [
    "%%writefile flags_seq.py\n",
    "\n",
    "import time\n",
    "from pathlib import Path\n",
    "from typing import Callable\n",
    "\n",
    "import httpx\n",
    "\n",
    "POP20_CC = ('CN IN US ID BR PK NG BD RU JP '\n",
    "            'MX PH VN ET EG DE IR TR CD FR').split()\n",
    "\n",
    "BASE_URL = 'https://www.fluentpython.com/data/flags'\n",
    "DEST_DIR = Path('downloaded')                       \n",
    "\n",
    "def save_flag(img: bytes, filename: str) -> None:   \n",
    "    (DEST_DIR / filename).write_bytes(img)\n",
    "\n",
    "def get_flag(cc: str) -> bytes:\n",
    "    url = f'{BASE_URL}/{cc}/{cc}.gif'.lower()\n",
    "    resp = httpx.get(url, timeout=6.1,       \n",
    "                     follow_redirects=True)  \n",
    "    resp.raise_for_status()\n",
    "    return resp.content\n",
    "\n",
    "def download_many(cc_list: list) -> int: \n",
    "    for cc in sorted(cc_list):                \n",
    "        image = get_flag(cc)\n",
    "        save_flag(image, f'{cc}.gif')\n",
    "        print(cc, end=' ', flush=True)        \n",
    "    return len(cc_list)\n",
    "\n",
    "def main(downloader: Callable) -> None:  \n",
    "    DEST_DIR.mkdir(exist_ok=True)                          \n",
    "    t0 = time.perf_counter()                               \n",
    "    count = downloader(POP20_CC)\n",
    "    elapsed = time.perf_counter() - t0\n",
    "    print(f'\\n{count} downloads in {elapsed:.2f}s')\n",
    "\n",
    "if __name__ == '__main__':\n",
    "    main(download_many)"
   ]
  },
  {
   "cell_type": "code",
   "execution_count": 2,
   "id": "b2394537",
   "metadata": {},
   "outputs": [
    {
     "name": "stdout",
     "output_type": "stream",
     "text": [
      "BD BR CD CN DE EG ET FR ID IN IR JP MX NG PH PK RU TR US VN \n",
      "20 downloads in 9.41s\n"
     ]
    }
   ],
   "source": [
    "%%bash\n",
    "\n",
    "python3 flags_seq.py"
   ]
  },
  {
   "cell_type": "markdown",
   "id": "52c7447b",
   "metadata": {},
   "source": [
    "Если качать последовательно, то на скачивание 20 маленьких `*.gif`-файлов уходит от 10 до 20 секунд. Посмотрим, сколько займет та же операция при использовании библиотеки `concurrent.futures`. Также, чтобы не переписывать код повторно, мы используем некоторые функции из написанного выше скрипта, выполняющего последовательное скачивание."
   ]
  },
  {
   "cell_type": "code",
   "execution_count": 3,
   "id": "1f5fdd1c",
   "metadata": {},
   "outputs": [
    {
     "name": "stdout",
     "output_type": "stream",
     "text": [
      "Overwriting flags_fut.py\n"
     ]
    }
   ],
   "source": [
    "%%writefile flags_fut.py\n",
    "\n",
    "from concurrent import futures\n",
    "\n",
    "from flags_seq import save_flag, get_flag, main\n",
    "\n",
    "def download_one(cc: str):\n",
    "    image = get_flag(cc)\n",
    "    save_flag(image, f'{cc}.gif')\n",
    "    print(cc, end=' ', flush=True)\n",
    "    return cc\n",
    "\n",
    "def download_many(cc_list: list) -> int:\n",
    "    with futures.ThreadPoolExecutor() as executor:         \n",
    "        res = executor.map(download_one, sorted(cc_list))  \n",
    "\n",
    "    return len(list(res))                                  \n",
    "\n",
    "if __name__ == '__main__':\n",
    "    main(download_many)"
   ]
  },
  {
   "cell_type": "code",
   "execution_count": 4,
   "id": "a0ab93d0",
   "metadata": {},
   "outputs": [
    {
     "name": "stdout",
     "output_type": "stream",
     "text": [
      "IN BD TR PK CN FR IR PH EG MX NG US VN ET CD ID JP BR RU DE \n",
      "20 downloads in 0.47s\n"
     ]
    }
   ],
   "source": [
    "%%bash\n",
    "\n",
    "python3 flags_fut.py"
   ]
  },
  {
   "cell_type": "markdown",
   "id": "e3c8546a",
   "metadata": {},
   "source": [
    "В данном случае на скачивание всех флагов уходит не более 3 секунд."
   ]
  },
  {
   "cell_type": "markdown",
   "id": "afab1c25",
   "metadata": {},
   "source": [
    "Код выше явным образом футуры не использует, оставляя их под капотом. По факту футуры - это объекты, инкапсулирующие операции, которые могут быть выполнены аснхронно. Есть 2 класса футур - `concurrent.futures.Future` и `asyncio.Future`. Они, естественно, несколько различаются. У них есть следующие интересные методы:\n",
    "\n",
    "* `.done()` - отвечает на вопрос, отработала ли футура  \n",
    "* `.add_done_callback()` - назначает функцию, которая будет вызвана по завершении работы футуры  \n",
    "* `.result()` - выдает результат работы футуры  \n",
    "\n",
    "Мы можем попытаться более явно использовать футуры, "
   ]
  },
  {
   "cell_type": "code",
   "execution_count": 9,
   "id": "96480cc5",
   "metadata": {},
   "outputs": [
    {
     "name": "stdout",
     "output_type": "stream",
     "text": [
      "Overwriting flags_fut2.py\n"
     ]
    }
   ],
   "source": [
    "%%writefile flags_fut2.py\n",
    "\n",
    "from concurrent import futures\n",
    "from flags_seq import main\n",
    "from flags_fut import download_one\n",
    "\n",
    "max_workers = 20\n",
    "\n",
    "def download_flags(country_lst):\n",
    "    worker_number = min(max_workers, len(country_lst))\n",
    "    results = []\n",
    "    with futures.ThreadPoolExecutor(worker_number) as executor:\n",
    "        to_do = [executor.submit(download_one, country) for country in country_lst]        \n",
    "        for future in futures.as_completed(to_do):\n",
    "            result = future.result()\n",
    "            print(f'{future} result: {result}')\n",
    "            results.append(result)\n",
    "    return len(results)\n",
    "    #    downloaded_flags = executor.map(download_flag, sorted(country_lst))\n",
    "    #return len(list(downloaded_flags))\n",
    "\n",
    "if __name__ == '__main__':\n",
    "    main(download_flags)"
   ]
  },
  {
   "cell_type": "code",
   "execution_count": 11,
   "id": "a6a61044",
   "metadata": {},
   "outputs": [
    {
     "name": "stdout",
     "output_type": "stream",
     "text": [
      "VN <Future at 0x7fcddde3f1c0 state=finished returned str> result: VN\n",
      "TR <Future at 0x7fcddc5a0340 state=finished returned str> result: TR\n",
      "ID <Future at 0x7fcddde20880 state=finished returned str> result: ID\n",
      "IR <Future at 0x7fcddde4c940 state=finished returned str> result: IR\n",
      "NG <Future at 0x7fcddde29640 state=finished returned str> result: NG\n",
      "IN <Future at 0x7fcdddea1880 state=finished returned str> result: IN\n",
      "BD <Future at 0x7fcddde2f040 state=finished returned str> result: BD\n",
      "JP <Future at 0x7fcddde34400 state=finished returned str> result: JP\n",
      "ET <Future at 0x7fcddde3fb80 state=finished returned str> result: ET\n",
      "PK <Future at 0x7fcddde23c40 state=finished returned str> result: PK\n",
      "RU <Future at 0x7fcddde2fa00 state=finished returned str> result: RU\n",
      "DE <Future at 0x7fcddde43f40 state=finished returned str> result: DE\n",
      "CD <Future at 0x7fcddc5a0d00 state=finished returned str> result: CD\n",
      "US <Future at 0x7fcddde16e80 state=finished returned str> result: US\n",
      "BR <Future at 0x7fcddde23280 state=finished returned str> result: BR\n",
      "PH <Future at 0x7fcddde387c0 state=finished returned str> result: PH\n",
      "EG <Future at 0x7fcddde43580 state=finished returned str> result: EG\n",
      "FR <Future at 0x7fcddc5a5700 state=finished returned str> result: FR\n",
      "MX <Future at 0x7fcddde34dc0 state=finished returned str> result: MX\n",
      "CN <Future at 0x7fcdddea16a0 state=finished returned str> result: CN\n",
      "\n",
      "20 downloads in 0.53s\n"
     ]
    }
   ],
   "source": [
    "%%bash\n",
    "\n",
    "python3 flags_fut2.py"
   ]
  },
  {
   "cell_type": "markdown",
   "id": "66dc64ae",
   "metadata": {},
   "source": [
    "Как известно, в Python есть такой компонент, как Global Interpreter Lock (GIL), который блокирует одновременное использование вычислительных ресурсов несколькими потоками. При этом, как мы видели выше, многопоточный код скачал файлы существенно быстрее, чем однопоточный. Как такое произошло? Очевидно, что пользовательский код Python может как что-то считать сам, так и вызывать функции библиотек. Библиотеки могут тоже, как считать, так и вызывать другие библиотеки. Здесь важно вспомнить, что вызовы библиотек в конечном счете могут превращаться в вызовы API операционной системы, которые GIL не блокирует. Скачивание файла - это пример вызова API операционной системы, который GIL не блокирует. Поэтому и получается сильно быстрее. Если обобщить сказанное, то получается, что все операции ввода-вывода в Python хорошо параллелятся."
   ]
  }
 ],
 "metadata": {
  "kernelspec": {
   "display_name": "Python 3 (ipykernel)",
   "language": "python",
   "name": "python3"
  },
  "language_info": {
   "codemirror_mode": {
    "name": "ipython",
    "version": 3
   },
   "file_extension": ".py",
   "mimetype": "text/x-python",
   "name": "python",
   "nbconvert_exporter": "python",
   "pygments_lexer": "ipython3",
   "version": "3.9.6"
  }
 },
 "nbformat": 4,
 "nbformat_minor": 5
}
