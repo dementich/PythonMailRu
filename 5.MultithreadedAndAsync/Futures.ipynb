{
 "cells": [
  {
   "cell_type": "markdown",
   "id": "29e19088",
   "metadata": {},
   "source": [
    "# Параллельная разработка с библиотекой `concurrent.futures`\n",
    "\n",
    "## Основы\n",
    "\n",
    "Логично предположить, что для параллельной разработки на Python созданы какие-то библиотеки. Первой из них была `concurrent.futures`. Библиотека эта введена в Python начиная с версии 3.2, однако позже она была адаптирована для Python начиная с версии 2.5. Основной подход в работе с этой библиотекой воплощает следующую мысль Микеле Симионато (Michele Simionato):\n",
    "\n",
    "_Люди, критикующие явную работу с несколькими потоками, обычно являются системными программистами, которые имеют в виду варианты использования, с которыми типичный прикладной программист никогда не столкнется в своей жизни. […] В 99% случаев прикладному программисту достаточно создавать группы независимых потоков и собирать результаты их работы в очереди_.\n",
    "\n",
    "Далее мы рассмотрим такую сущность, как футуры. Если говорить кратко, то футура - это объект, предоставляющий возможность асинхронного выполнения операции. \n",
    "\n",
    "Начнем с простого примера. Допустим, нам надо написать программу, скачивающую с интернета какие-то файлы. Есть 2 подхода: либо мы качаем файлы последовательно, либо параллельно. Рассмотрим оба варианта реализации."
   ]
  },
  {
   "cell_type": "code",
   "execution_count": 13,
   "id": "8df51703",
   "metadata": {},
   "outputs": [
    {
     "name": "stdout",
     "output_type": "stream",
     "text": [
      "Overwriting flags_seq.py\n"
     ]
    }
   ],
   "source": [
    "%%writefile flags_seq.py\n",
    "\n",
    "import time\n",
    "from pathlib import Path\n",
    "from typing import Callable\n",
    "\n",
    "import httpx\n",
    "\n",
    "POP20_CC = ('CN IN US ID BR PK NG BD RU JP '\n",
    "            'MX PH VN ET EG DE IR TR CD FR').split()\n",
    "\n",
    "BASE_URL = 'https://www.fluentpython.com/data/flags'\n",
    "DEST_DIR = Path('downloaded')                       \n",
    "\n",
    "def save_flag(img: bytes, filename: str) -> None:   \n",
    "    (DEST_DIR / filename).write_bytes(img)\n",
    "\n",
    "def get_flag(cc: str) -> bytes:\n",
    "    url = f'{BASE_URL}/{cc}/{cc}.gif'.lower()\n",
    "    resp = httpx.get(url, timeout=6.1,       \n",
    "                     follow_redirects=True)  \n",
    "    resp.raise_for_status()\n",
    "    return resp.content\n",
    "\n",
    "def download_many(cc_list: list) -> int: \n",
    "    for cc in sorted(cc_list):                \n",
    "        image = get_flag(cc)\n",
    "        save_flag(image, f'{cc}.gif')\n",
    "        print(cc, end=' ', flush=True)        \n",
    "    return len(cc_list)\n",
    "\n",
    "def main(downloader: Callable) -> None:  \n",
    "    DEST_DIR.mkdir(exist_ok=True)                          \n",
    "    t0 = time.perf_counter()                               \n",
    "    count = downloader(POP20_CC)\n",
    "    elapsed = time.perf_counter() - t0\n",
    "    print(f'\\n{count} downloads in {elapsed:.2f}s')\n",
    "\n",
    "if __name__ == '__main__':\n",
    "    main(download_many)"
   ]
  },
  {
   "cell_type": "code",
   "execution_count": 14,
   "id": "b2394537",
   "metadata": {},
   "outputs": [
    {
     "name": "stdout",
     "output_type": "stream",
     "text": [
      "BD BR CD CN DE EG ET FR ID IN IR JP MX NG PH PK RU TR US VN \n",
      "20 downloads in 83.03s\n"
     ]
    }
   ],
   "source": [
    "%%bash\n",
    "\n",
    "python3 flags_seq.py"
   ]
  },
  {
   "cell_type": "markdown",
   "id": "52c7447b",
   "metadata": {},
   "source": [
    "Если качать последовательно, то на скачивание 20 маленьких `*.gif`-файлов уходит от 10 до 20 секунд. Посмотрим, сколько займет та же операция при использовании библиотеки `concurrent.futures`. Также, чтобы не переписывать код повторно, мы используем некоторые функции из написанного выше скрипта, выполняющего последовательное скачивание."
   ]
  },
  {
   "cell_type": "code",
   "execution_count": 20,
   "id": "1f5fdd1c",
   "metadata": {},
   "outputs": [
    {
     "name": "stdout",
     "output_type": "stream",
     "text": [
      "Overwriting flags_fut.py\n"
     ]
    }
   ],
   "source": [
    "%%writefile flags_fut.py\n",
    "\n",
    "from concurrent import futures\n",
    "\n",
    "from flags_seq import save_flag, get_flag, main\n",
    "\n",
    "def download_one(cc: str):\n",
    "    image = get_flag(cc)\n",
    "    save_flag(image, f'{cc}.gif')\n",
    "    print(cc, end=' ', flush=True)\n",
    "    return cc\n",
    "\n",
    "def download_many(cc_list: list) -> int:\n",
    "    with futures.ThreadPoolExecutor() as executor:         \n",
    "        res = executor.map(download_one, sorted(cc_list))  \n",
    "\n",
    "    return len(list(res))                                  \n",
    "\n",
    "if __name__ == '__main__':\n",
    "    main(download_many)"
   ]
  },
  {
   "cell_type": "code",
   "execution_count": 23,
   "id": "a0ab93d0",
   "metadata": {},
   "outputs": [
    {
     "name": "stdout",
     "output_type": "stream",
     "text": [
      "RU CN FR JP VN PK ET BR NG "
     ]
    },
    {
     "name": "stderr",
     "output_type": "stream",
     "text": [
      "Traceback (most recent call last):\n",
      "  File \"/home/cy-press/.local/lib/python3.8/site-packages/httpcore/_exceptions.py\", line 8, in map_exceptions\n",
      "    yield\n",
      "  File \"/home/cy-press/.local/lib/python3.8/site-packages/httpcore/backends/sync.py\", line 76, in connect_tcp\n",
      "    sock = socket.create_connection(\n",
      "  File \"/usr/lib/python3.8/socket.py\", line 787, in create_connection\n",
      "    for res in getaddrinfo(host, port, 0, SOCK_STREAM):\n",
      "  File \"/usr/lib/python3.8/socket.py\", line 918, in getaddrinfo\n",
      "    for res in _socket.getaddrinfo(host, port, family, type, proto, flags):\n",
      "socket.gaierror: [Errno -3] Temporary failure in name resolution\n",
      "\n",
      "During handling of the above exception, another exception occurred:\n",
      "\n",
      "Traceback (most recent call last):\n",
      "  File \"/home/cy-press/.local/lib/python3.8/site-packages/httpx/_transports/default.py\", line 60, in map_httpcore_exceptions\n",
      "    yield\n",
      "  File \"/home/cy-press/.local/lib/python3.8/site-packages/httpx/_transports/default.py\", line 187, in handle_request\n",
      "    resp = self._pool.handle_request(req)\n",
      "  File \"/home/cy-press/.local/lib/python3.8/site-packages/httpcore/_sync/connection_pool.py\", line 248, in handle_request\n",
      "    raise exc\n",
      "  File \"/home/cy-press/.local/lib/python3.8/site-packages/httpcore/_sync/connection_pool.py\", line 232, in handle_request\n",
      "    response = connection.handle_request(request)\n",
      "  File \"/home/cy-press/.local/lib/python3.8/site-packages/httpcore/_sync/connection.py\", line 90, in handle_request\n",
      "    raise exc\n",
      "  File \"/home/cy-press/.local/lib/python3.8/site-packages/httpcore/_sync/connection.py\", line 67, in handle_request\n",
      "    stream = self._connect(request)\n",
      "  File \"/home/cy-press/.local/lib/python3.8/site-packages/httpcore/_sync/connection.py\", line 115, in _connect\n",
      "    stream = self._network_backend.connect_tcp(**kwargs)\n",
      "  File \"/home/cy-press/.local/lib/python3.8/site-packages/httpcore/backends/sync.py\", line 76, in connect_tcp\n",
      "    sock = socket.create_connection(\n",
      "  File \"/usr/lib/python3.8/contextlib.py\", line 131, in __exit__\n",
      "    self.gen.throw(type, value, traceback)\n",
      "  File \"/home/cy-press/.local/lib/python3.8/site-packages/httpcore/_exceptions.py\", line 12, in map_exceptions\n",
      "    raise to_exc(exc)\n",
      "httpcore.ConnectError: [Errno -3] Temporary failure in name resolution\n",
      "\n",
      "The above exception was the direct cause of the following exception:\n",
      "\n",
      "Traceback (most recent call last):\n",
      "  File \"flags_fut.py\", line 19, in <module>\n",
      "    main(download_many)\n",
      "  File \"/mnt/c/Worker/Python/PythonMailRu/5.MultithreadedAndAsync/flags_seq.py\", line 34, in main\n",
      "    count = downloader(POP20_CC)\n",
      "  File \"flags_fut.py\", line 16, in download_many\n",
      "    return len(list(res))                                  \n",
      "  File \"/usr/lib/python3.8/concurrent/futures/_base.py\", line 619, in result_iterator\n",
      "    yield fs.pop().result()\n",
      "  File \"/usr/lib/python3.8/concurrent/futures/_base.py\", line 437, in result\n",
      "    return self.__get_result()\n",
      "  File \"/usr/lib/python3.8/concurrent/futures/_base.py\", line 389, in __get_result\n",
      "    raise self._exception\n",
      "  File \"/usr/lib/python3.8/concurrent/futures/thread.py\", line 57, in run\n",
      "    result = self.fn(*self.args, **self.kwargs)\n",
      "  File \"flags_fut.py\", line 7, in download_one\n",
      "    image = get_flag(cc)\n",
      "  File \"/mnt/c/Worker/Python/PythonMailRu/5.MultithreadedAndAsync/flags_seq.py\", line 19, in get_flag\n",
      "    resp = httpx.get(url, timeout=6.1,       \n",
      "  File \"/home/cy-press/.local/lib/python3.8/site-packages/httpx/_api.py\", line 189, in get\n",
      "    return request(\n",
      "  File \"/home/cy-press/.local/lib/python3.8/site-packages/httpx/_api.py\", line 100, in request\n",
      "    return client.request(\n",
      "  File \"/home/cy-press/.local/lib/python3.8/site-packages/httpx/_client.py\", line 802, in request\n",
      "    return self.send(request, auth=auth, follow_redirects=follow_redirects)\n",
      "  File \"/home/cy-press/.local/lib/python3.8/site-packages/httpx/_client.py\", line 889, in send\n",
      "    response = self._send_handling_auth(\n",
      "  File \"/home/cy-press/.local/lib/python3.8/site-packages/httpx/_client.py\", line 917, in _send_handling_auth\n",
      "    response = self._send_handling_redirects(\n",
      "  File \"/home/cy-press/.local/lib/python3.8/site-packages/httpx/_client.py\", line 954, in _send_handling_redirects\n",
      "    response = self._send_single_request(request)\n",
      "  File \"/home/cy-press/.local/lib/python3.8/site-packages/httpx/_client.py\", line 990, in _send_single_request\n",
      "    response = transport.handle_request(request)\n",
      "  File \"/home/cy-press/.local/lib/python3.8/site-packages/httpx/_transports/default.py\", line 187, in handle_request\n",
      "    resp = self._pool.handle_request(req)\n",
      "  File \"/usr/lib/python3.8/contextlib.py\", line 131, in __exit__\n",
      "    self.gen.throw(type, value, traceback)\n",
      "  File \"/home/cy-press/.local/lib/python3.8/site-packages/httpx/_transports/default.py\", line 77, in map_httpcore_exceptions\n",
      "    raise mapped_exc(message) from exc\n",
      "httpx.ConnectError: [Errno -3] Temporary failure in name resolution\n"
     ]
    },
    {
     "ename": "CalledProcessError",
     "evalue": "Command 'b'\\npython3 flags_fut.py\\n'' returned non-zero exit status 1.",
     "output_type": "error",
     "traceback": [
      "\u001b[1;31m---------------------------------------------------------------------------\u001b[0m",
      "\u001b[1;31mCalledProcessError\u001b[0m                        Traceback (most recent call last)",
      "\u001b[1;32m~\\AppData\\Local\\Temp/ipykernel_12604/2017633004.py\u001b[0m in \u001b[0;36m<module>\u001b[1;34m\u001b[0m\n\u001b[1;32m----> 1\u001b[1;33m \u001b[0mget_ipython\u001b[0m\u001b[1;33m(\u001b[0m\u001b[1;33m)\u001b[0m\u001b[1;33m.\u001b[0m\u001b[0mrun_cell_magic\u001b[0m\u001b[1;33m(\u001b[0m\u001b[1;34m'bash'\u001b[0m\u001b[1;33m,\u001b[0m \u001b[1;34m''\u001b[0m\u001b[1;33m,\u001b[0m \u001b[1;34m'\\npython3 flags_fut.py\\n'\u001b[0m\u001b[1;33m)\u001b[0m\u001b[1;33m\u001b[0m\u001b[1;33m\u001b[0m\u001b[0m\n\u001b[0m",
      "\u001b[1;32mc:\\users\\kb255048\\appdata\\local\\programs\\python\\python39\\lib\\site-packages\\IPython\\core\\interactiveshell.py\u001b[0m in \u001b[0;36mrun_cell_magic\u001b[1;34m(self, magic_name, line, cell)\u001b[0m\n\u001b[0;32m   2401\u001b[0m             \u001b[1;32mwith\u001b[0m \u001b[0mself\u001b[0m\u001b[1;33m.\u001b[0m\u001b[0mbuiltin_trap\u001b[0m\u001b[1;33m:\u001b[0m\u001b[1;33m\u001b[0m\u001b[1;33m\u001b[0m\u001b[0m\n\u001b[0;32m   2402\u001b[0m                 \u001b[0margs\u001b[0m \u001b[1;33m=\u001b[0m \u001b[1;33m(\u001b[0m\u001b[0mmagic_arg_s\u001b[0m\u001b[1;33m,\u001b[0m \u001b[0mcell\u001b[0m\u001b[1;33m)\u001b[0m\u001b[1;33m\u001b[0m\u001b[1;33m\u001b[0m\u001b[0m\n\u001b[1;32m-> 2403\u001b[1;33m                 \u001b[0mresult\u001b[0m \u001b[1;33m=\u001b[0m \u001b[0mfn\u001b[0m\u001b[1;33m(\u001b[0m\u001b[1;33m*\u001b[0m\u001b[0margs\u001b[0m\u001b[1;33m,\u001b[0m \u001b[1;33m**\u001b[0m\u001b[0mkwargs\u001b[0m\u001b[1;33m)\u001b[0m\u001b[1;33m\u001b[0m\u001b[1;33m\u001b[0m\u001b[0m\n\u001b[0m\u001b[0;32m   2404\u001b[0m             \u001b[1;32mreturn\u001b[0m \u001b[0mresult\u001b[0m\u001b[1;33m\u001b[0m\u001b[1;33m\u001b[0m\u001b[0m\n\u001b[0;32m   2405\u001b[0m \u001b[1;33m\u001b[0m\u001b[0m\n",
      "\u001b[1;32mc:\\users\\kb255048\\appdata\\local\\programs\\python\\python39\\lib\\site-packages\\IPython\\core\\magics\\script.py\u001b[0m in \u001b[0;36mnamed_script_magic\u001b[1;34m(line, cell)\u001b[0m\n\u001b[0;32m    140\u001b[0m             \u001b[1;32melse\u001b[0m\u001b[1;33m:\u001b[0m\u001b[1;33m\u001b[0m\u001b[1;33m\u001b[0m\u001b[0m\n\u001b[0;32m    141\u001b[0m                 \u001b[0mline\u001b[0m \u001b[1;33m=\u001b[0m \u001b[0mscript\u001b[0m\u001b[1;33m\u001b[0m\u001b[1;33m\u001b[0m\u001b[0m\n\u001b[1;32m--> 142\u001b[1;33m             \u001b[1;32mreturn\u001b[0m \u001b[0mself\u001b[0m\u001b[1;33m.\u001b[0m\u001b[0mshebang\u001b[0m\u001b[1;33m(\u001b[0m\u001b[0mline\u001b[0m\u001b[1;33m,\u001b[0m \u001b[0mcell\u001b[0m\u001b[1;33m)\u001b[0m\u001b[1;33m\u001b[0m\u001b[1;33m\u001b[0m\u001b[0m\n\u001b[0m\u001b[0;32m    143\u001b[0m \u001b[1;33m\u001b[0m\u001b[0m\n\u001b[0;32m    144\u001b[0m         \u001b[1;31m# write a basic docstring:\u001b[0m\u001b[1;33m\u001b[0m\u001b[1;33m\u001b[0m\u001b[1;33m\u001b[0m\u001b[0m\n",
      "\u001b[1;32mc:\\users\\kb255048\\appdata\\local\\programs\\python\\python39\\lib\\site-packages\\decorator.py\u001b[0m in \u001b[0;36mfun\u001b[1;34m(*args, **kw)\u001b[0m\n\u001b[0;32m    230\u001b[0m             \u001b[1;32mif\u001b[0m \u001b[1;32mnot\u001b[0m \u001b[0mkwsyntax\u001b[0m\u001b[1;33m:\u001b[0m\u001b[1;33m\u001b[0m\u001b[1;33m\u001b[0m\u001b[0m\n\u001b[0;32m    231\u001b[0m                 \u001b[0margs\u001b[0m\u001b[1;33m,\u001b[0m \u001b[0mkw\u001b[0m \u001b[1;33m=\u001b[0m \u001b[0mfix\u001b[0m\u001b[1;33m(\u001b[0m\u001b[0margs\u001b[0m\u001b[1;33m,\u001b[0m \u001b[0mkw\u001b[0m\u001b[1;33m,\u001b[0m \u001b[0msig\u001b[0m\u001b[1;33m)\u001b[0m\u001b[1;33m\u001b[0m\u001b[1;33m\u001b[0m\u001b[0m\n\u001b[1;32m--> 232\u001b[1;33m             \u001b[1;32mreturn\u001b[0m \u001b[0mcaller\u001b[0m\u001b[1;33m(\u001b[0m\u001b[0mfunc\u001b[0m\u001b[1;33m,\u001b[0m \u001b[1;33m*\u001b[0m\u001b[1;33m(\u001b[0m\u001b[0mextras\u001b[0m \u001b[1;33m+\u001b[0m \u001b[0margs\u001b[0m\u001b[1;33m)\u001b[0m\u001b[1;33m,\u001b[0m \u001b[1;33m**\u001b[0m\u001b[0mkw\u001b[0m\u001b[1;33m)\u001b[0m\u001b[1;33m\u001b[0m\u001b[1;33m\u001b[0m\u001b[0m\n\u001b[0m\u001b[0;32m    233\u001b[0m     \u001b[0mfun\u001b[0m\u001b[1;33m.\u001b[0m\u001b[0m__name__\u001b[0m \u001b[1;33m=\u001b[0m \u001b[0mfunc\u001b[0m\u001b[1;33m.\u001b[0m\u001b[0m__name__\u001b[0m\u001b[1;33m\u001b[0m\u001b[1;33m\u001b[0m\u001b[0m\n\u001b[0;32m    234\u001b[0m     \u001b[0mfun\u001b[0m\u001b[1;33m.\u001b[0m\u001b[0m__doc__\u001b[0m \u001b[1;33m=\u001b[0m \u001b[0mfunc\u001b[0m\u001b[1;33m.\u001b[0m\u001b[0m__doc__\u001b[0m\u001b[1;33m\u001b[0m\u001b[1;33m\u001b[0m\u001b[0m\n",
      "\u001b[1;32mc:\\users\\kb255048\\appdata\\local\\programs\\python\\python39\\lib\\site-packages\\IPython\\core\\magic.py\u001b[0m in \u001b[0;36m<lambda>\u001b[1;34m(f, *a, **k)\u001b[0m\n\u001b[0;32m    185\u001b[0m     \u001b[1;31m# but it's overkill for just that one bit of state.\u001b[0m\u001b[1;33m\u001b[0m\u001b[1;33m\u001b[0m\u001b[1;33m\u001b[0m\u001b[0m\n\u001b[0;32m    186\u001b[0m     \u001b[1;32mdef\u001b[0m \u001b[0mmagic_deco\u001b[0m\u001b[1;33m(\u001b[0m\u001b[0marg\u001b[0m\u001b[1;33m)\u001b[0m\u001b[1;33m:\u001b[0m\u001b[1;33m\u001b[0m\u001b[1;33m\u001b[0m\u001b[0m\n\u001b[1;32m--> 187\u001b[1;33m         \u001b[0mcall\u001b[0m \u001b[1;33m=\u001b[0m \u001b[1;32mlambda\u001b[0m \u001b[0mf\u001b[0m\u001b[1;33m,\u001b[0m \u001b[1;33m*\u001b[0m\u001b[0ma\u001b[0m\u001b[1;33m,\u001b[0m \u001b[1;33m**\u001b[0m\u001b[0mk\u001b[0m\u001b[1;33m:\u001b[0m \u001b[0mf\u001b[0m\u001b[1;33m(\u001b[0m\u001b[1;33m*\u001b[0m\u001b[0ma\u001b[0m\u001b[1;33m,\u001b[0m \u001b[1;33m**\u001b[0m\u001b[0mk\u001b[0m\u001b[1;33m)\u001b[0m\u001b[1;33m\u001b[0m\u001b[1;33m\u001b[0m\u001b[0m\n\u001b[0m\u001b[0;32m    188\u001b[0m \u001b[1;33m\u001b[0m\u001b[0m\n\u001b[0;32m    189\u001b[0m         \u001b[1;32mif\u001b[0m \u001b[0mcallable\u001b[0m\u001b[1;33m(\u001b[0m\u001b[0marg\u001b[0m\u001b[1;33m)\u001b[0m\u001b[1;33m:\u001b[0m\u001b[1;33m\u001b[0m\u001b[1;33m\u001b[0m\u001b[0m\n",
      "\u001b[1;32mc:\\users\\kb255048\\appdata\\local\\programs\\python\\python39\\lib\\site-packages\\IPython\\core\\magics\\script.py\u001b[0m in \u001b[0;36mshebang\u001b[1;34m(self, line, cell)\u001b[0m\n\u001b[0;32m    243\u001b[0m             \u001b[0msys\u001b[0m\u001b[1;33m.\u001b[0m\u001b[0mstderr\u001b[0m\u001b[1;33m.\u001b[0m\u001b[0mflush\u001b[0m\u001b[1;33m(\u001b[0m\u001b[1;33m)\u001b[0m\u001b[1;33m\u001b[0m\u001b[1;33m\u001b[0m\u001b[0m\n\u001b[0;32m    244\u001b[0m         \u001b[1;32mif\u001b[0m \u001b[0margs\u001b[0m\u001b[1;33m.\u001b[0m\u001b[0mraise_error\u001b[0m \u001b[1;32mand\u001b[0m \u001b[0mp\u001b[0m\u001b[1;33m.\u001b[0m\u001b[0mreturncode\u001b[0m\u001b[1;33m!=\u001b[0m\u001b[1;36m0\u001b[0m\u001b[1;33m:\u001b[0m\u001b[1;33m\u001b[0m\u001b[1;33m\u001b[0m\u001b[0m\n\u001b[1;32m--> 245\u001b[1;33m             \u001b[1;32mraise\u001b[0m \u001b[0mCalledProcessError\u001b[0m\u001b[1;33m(\u001b[0m\u001b[0mp\u001b[0m\u001b[1;33m.\u001b[0m\u001b[0mreturncode\u001b[0m\u001b[1;33m,\u001b[0m \u001b[0mcell\u001b[0m\u001b[1;33m,\u001b[0m \u001b[0moutput\u001b[0m\u001b[1;33m=\u001b[0m\u001b[0mout\u001b[0m\u001b[1;33m,\u001b[0m \u001b[0mstderr\u001b[0m\u001b[1;33m=\u001b[0m\u001b[0merr\u001b[0m\u001b[1;33m)\u001b[0m\u001b[1;33m\u001b[0m\u001b[1;33m\u001b[0m\u001b[0m\n\u001b[0m\u001b[0;32m    246\u001b[0m \u001b[1;33m\u001b[0m\u001b[0m\n\u001b[0;32m    247\u001b[0m     \u001b[1;32mdef\u001b[0m \u001b[0m_run_script\u001b[0m\u001b[1;33m(\u001b[0m\u001b[0mself\u001b[0m\u001b[1;33m,\u001b[0m \u001b[0mp\u001b[0m\u001b[1;33m,\u001b[0m \u001b[0mcell\u001b[0m\u001b[1;33m,\u001b[0m \u001b[0mto_close\u001b[0m\u001b[1;33m)\u001b[0m\u001b[1;33m:\u001b[0m\u001b[1;33m\u001b[0m\u001b[1;33m\u001b[0m\u001b[0m\n",
      "\u001b[1;31mCalledProcessError\u001b[0m: Command 'b'\\npython3 flags_fut.py\\n'' returned non-zero exit status 1."
     ]
    }
   ],
   "source": [
    "%%bash\n",
    "\n",
    "python3 flags_fut.py"
   ]
  },
  {
   "cell_type": "markdown",
   "id": "e3c8546a",
   "metadata": {},
   "source": [
    "В данном случае на скачивание всех флагов уходит не более 3 секунд."
   ]
  },
  {
   "cell_type": "markdown",
   "id": "afab1c25",
   "metadata": {},
   "source": [
    "Код выше явным образом футуры не использует, оставляя их под капотом. По факту футуры - это объекты, инкапсулирующие операции, которые могут быть выполнены аснхронно. Есть 2 класса футур - `concurrent.futures.Future` и `asyncio.Future`. Они, естественно, несколько различаются. У них есть следующие интересные методы:\n",
    "\n",
    "* `.done()` - отвечает на вопрос, отработала ли футура  \n",
    "* `.add_done_callback()` - назначает функцию, которая будет вызвана по завершении работы футуры  \n",
    "* `.result()` - выдает результат работы футуры  \n",
    "\n",
    "Мы можем попытаться более явно использовать футуры, "
   ]
  },
  {
   "cell_type": "code",
   "execution_count": 5,
   "id": "96480cc5",
   "metadata": {},
   "outputs": [
    {
     "name": "stdout",
     "output_type": "stream",
     "text": [
      "Overwriting flags_fut2.py\n"
     ]
    }
   ],
   "source": [
    "%%writefile flags_fut2.py\n",
    "\n",
    "from concurrent import futures\n",
    "from flags_seq import main, download_flag\n",
    "\n",
    "max_workers = 20\n",
    "\n",
    "def download_flags(country_lst):\n",
    "    worker_number = min(max_workers, len(country_lst))\n",
    "    results = []\n",
    "    with futures.ThreadPoolExecutor(worker_number) as executor:\n",
    "        to_do = [executor.submit(download_flag, country) for country in country_lst]        \n",
    "        for future in futures.as_completed(to_do):\n",
    "            result = future.result()\n",
    "            print(f'{future} result: {result}')\n",
    "            results.append(result)\n",
    "    return len(results)\n",
    "    #    downloaded_flags = executor.map(download_flag, sorted(country_lst))\n",
    "    #return len(list(downloaded_flags))\n",
    "\n",
    "if __name__ == '__main__':\n",
    "    main(download_flags)"
   ]
  },
  {
   "cell_type": "code",
   "execution_count": 6,
   "id": "a6a61044",
   "metadata": {},
   "outputs": [
    {
     "name": "stdout",
     "output_type": "stream",
     "text": [
      "Initialization of download directory...\n",
      "Done.\n",
      "BR <Future at 0x7f2421d3ed30 state=finished returned str> result: BR\n",
      "CN <Future at 0x7f2421d26130 state=finished returned str> result: CN\n",
      "ID <Future at 0x7f2421d3e400 state=finished returned str> result: ID\n",
      "CD <Future at 0x7f2420461430 state=finished returned str> result: CD\n",
      "US <Future at 0x7f2421d31a90 state=finished returned str> result: US\n",
      "RU <Future at 0x7f24204a8250 state=finished returned str> result: RU\n",
      "EG <Future at 0x7f24204c4be0 state=finished returned str> result: EG\n",
      "DE <Future at 0x7f24204ce550 state=finished returned str> result: DE\n",
      "IR <Future at 0x7f24204cee80 state=finished returned str> result: IR\n",
      "ET <Future at 0x7f24204c42e0 state=finished returned str> result: ET\n",
      "BD <Future at 0x7f24204a0940 state=finished returned str> result: BD\n",
      "MX <Future at 0x7f24204b1430 state=finished returned str> result: MX\n",
      "PK <Future at 0x7f2421d486a0 state=finished returned str> result: PK\n",
      "NG <Future at 0x7f2421d31730 state=finished returned str> result: NG\n",
      "TR <Future at 0x7f24204d79d0 state=finished returned str> result: TR\n",
      "IN <Future at 0x7f2421d26fd0 state=finished returned str> result: IN\n",
      "PH <Future at 0x7f24204b1d00 state=finished returned str> result: PH\n",
      "VN <Future at 0x7f24204bd940 state=finished returned str> result: VN\n",
      "JP <Future at 0x7f24204a8b20 state=finished returned str> result: JP\n",
      "FR <Future at 0x7f2420489340 state=finished returned str> result: FR\n",
      "\n",
      "20 flag(s) downloaded in 1.22 seconds.\n"
     ]
    }
   ],
   "source": [
    "%%bash\n",
    "\n",
    "python3 flags_fut2.py"
   ]
  },
  {
   "cell_type": "markdown",
   "id": "66dc64ae",
   "metadata": {},
   "source": [
    "Как известно, в Python есть такой компонент, как Global Interpreter Lock (GIL), который блокирует одновременное использование вычислительных ресурсов несколькими потоками. При этом, как мы видели выше, многопоточный код скачал файлы существенно быстрее, чем однопоточный. Как такое произошло? Очевидно, что пользовательский код Python может как что-то считать сам, так и вызывать функции библиотек. Библиотеки могут тоже, как считать, так и вызывать другие библиотеки. Здесь важно вспомнить, что вызовы библиотек в конечном счете могут превращаться в вызовы API операционной системы, которые GIL не блокирует. Скачивание файла - это пример вызова API операционной системы, который GIL не блокирует. Поэтому и получается сильно быстрее. Если обобщить сказанное, то получается, что все операции ввода-вывода в Python хорошо параллелятся."
   ]
  }
 ],
 "metadata": {
  "kernelspec": {
   "display_name": "Python 3 (ipykernel)",
   "language": "python",
   "name": "python3"
  },
  "language_info": {
   "codemirror_mode": {
    "name": "ipython",
    "version": 3
   },
   "file_extension": ".py",
   "mimetype": "text/x-python",
   "name": "python",
   "nbconvert_exporter": "python",
   "pygments_lexer": "ipython3",
   "version": "3.9.6"
  }
 },
 "nbformat": 4,
 "nbformat_minor": 5
}
