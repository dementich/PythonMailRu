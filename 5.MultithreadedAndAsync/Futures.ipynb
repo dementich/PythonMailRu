{
 "cells": [
  {
   "cell_type": "markdown",
   "id": "29e19088",
   "metadata": {},
   "source": [
    "# Параллельная разработка с библиотекой `concurrent.futures`\n",
    "\n",
    "## Основы\n",
    "\n",
    "Логично предположить, что для параллельной разработки на Python созданы какие-то библиотеки. Первой из них была `concurrent.futures`. Библиотека эта введена в Python начиная с версии 3.2, однако позже она была адаптирована для Python начиная с версии 2.5. Основной подход в работе с этой библиотекой воплощает следующую мысль Микеле Симионато (Michele Simionato):\n",
    "\n",
    "_Люди, критикующие явную работу с несколькими потоками, обычно являются системными программистами, которые имеют в виду варианты использования, с которыми типичный прикладной программист никогда не столкнется в своей жизни. […] В 99% случаев прикладному программисту достаточно создавать группы независимых потоков и собирать результаты их работы в очереди_.\n",
    "\n",
    "Далее мы рассмотрим такую сущность, как футуры. Если говорить кратко, то футура - это объект, предоставляющий возможность асинхронного выполнения операции. \n",
    "\n",
    "Начнем с простого примера. Допустим, нам надо написать программу, скачивающую с интернета какие-то файлы. Есть 2 подхода: либо мы качаем файлы последовательно, либо параллельно. Рассмотрим оба варианта реализации."
   ]
  },
  {
   "cell_type": "code",
   "execution_count": 1,
   "id": "8df51703",
   "metadata": {},
   "outputs": [
    {
     "name": "stdout",
     "output_type": "stream",
     "text": [
      "Overwriting flags_seq.py\n"
     ]
    }
   ],
   "source": [
    "%%writefile flags_seq.py\n",
    "\n",
    "import os\n",
    "import time\n",
    "import sys\n",
    "import shutil\n",
    "import requests\n",
    "\n",
    "countries = 'CN IN US ID BR PK NG BD RU JP MX PH VN ET EG DE IR TR CD FR'.split()\n",
    "base_url = 'http://flupy.org/data/flags'\n",
    "dest_dir = './downloads'\n",
    "\n",
    "def save_image(img, filename):\n",
    "    path = os.path.join(dest_dir, filename)\n",
    "    with open(path, 'wb') as fp:\n",
    "        fp.write(img)\n",
    "\n",
    "def show(text):\n",
    "    #Печатаем без перехода на следующую строку\n",
    "    print(f'{text}', end=' ')\n",
    "\n",
    "def get_flag(country):\n",
    "    url = f'{base_url}/{country}/{country}.gif'\n",
    "    response = requests.get(url)\n",
    "    return response.content\n",
    "\n",
    "def init_dir(dest_dir):\n",
    "    print('Initialization of download directory...')\n",
    "    if os.path.exists(dest_dir):        \n",
    "        shutil.rmtree(dest_dir)\n",
    "    os.mkdir(dest_dir)\n",
    "    print('Done.')\n",
    "    \n",
    "def download_flag(country):\n",
    "    image = get_flag(country.lower())\n",
    "    save_image(image, f'{country.lower()}.gif')\n",
    "    show(country)\n",
    "    return country\n",
    "\n",
    "def download_flags(country_lst):\n",
    "    print('Downloading flags...')\n",
    "    downloaded = [download_flag(country) for country in sorted(country_lst)]\n",
    "    print('Done.')\n",
    "    return len(downloaded)\n",
    "\n",
    "def main(downloader):\n",
    "    init_dir(dest_dir)\n",
    "    start_time = time.time()\n",
    "    count = downloader(countries)\n",
    "    time_taken = time.time() - start_time\n",
    "    print(f'\\n{count} flag(s) downloaded in {time_taken:.2f} seconds.')\n",
    "\n",
    "if __name__ == '__main__':\n",
    "    main(download_flags)"
   ]
  },
  {
   "cell_type": "code",
   "execution_count": 2,
   "id": "b2394537",
   "metadata": {},
   "outputs": [
    {
     "name": "stdout",
     "output_type": "stream",
     "text": [
      "Initialization of download directory...\n",
      "Done.\n",
      "Downloading flags...\n",
      "BD BR CD CN DE EG ET FR ID IN IR JP MX NG PH PK RU TR US VN Done.\n",
      "\n",
      "20 flag(s) downloaded in 14.50 seconds.\n"
     ]
    }
   ],
   "source": [
    "%%bash\n",
    "\n",
    "python3 flags_seq.py"
   ]
  },
  {
   "cell_type": "markdown",
   "id": "52c7447b",
   "metadata": {},
   "source": [
    "Если качать последовательно, то на скачивание 20 маленьких `*.gif`-файлов уходит от 10 до 20 секунд. Посмотрим, сколько займет та же операция при использовании библиотеки `concurrent.futures`. Также, чтобы не переписывать код повторно, мы используем некоторые функции из написанного выше скрипта, выполняющего последовательное скачивание."
   ]
  },
  {
   "cell_type": "code",
   "execution_count": 3,
   "id": "1f5fdd1c",
   "metadata": {},
   "outputs": [
    {
     "name": "stdout",
     "output_type": "stream",
     "text": [
      "Overwriting flags_fut.py\n"
     ]
    }
   ],
   "source": [
    "%%writefile flags_fut.py\n",
    "\n",
    "from concurrent import futures\n",
    "from flags_seq import main, download_flag\n",
    "\n",
    "max_workers = 20\n",
    "\n",
    "def download_flags(country_lst):\n",
    "    worker_number = min(max_workers, len(country_lst))\n",
    "    with futures.ThreadPoolExecutor(worker_number) as executor:\n",
    "        downloaded_flags = executor.map(download_flag, sorted(country_lst))\n",
    "    return len(list(downloaded_flags))\n",
    "\n",
    "if __name__ == '__main__':\n",
    "    main(download_flags)"
   ]
  },
  {
   "cell_type": "code",
   "execution_count": 4,
   "id": "a0ab93d0",
   "metadata": {},
   "outputs": [
    {
     "name": "stdout",
     "output_type": "stream",
     "text": [
      "Initialization of download directory...\n",
      "Done.\n",
      "BR DE US CN CD EG NG PK MX TR PH JP RU FR IN ET ID IR BD VN \n",
      "20 flag(s) downloaded in 1.03 seconds.\n"
     ]
    }
   ],
   "source": [
    "%%bash\n",
    "\n",
    "python3 flags_fut.py"
   ]
  },
  {
   "cell_type": "markdown",
   "id": "e3c8546a",
   "metadata": {},
   "source": [
    "В данном случае на скачивание всех флагов уходит не более 3 секунд."
   ]
  },
  {
   "cell_type": "markdown",
   "id": "afab1c25",
   "metadata": {},
   "source": [
    "Код выше явным образом футуры не использует, оставляя их под капотом. По факту футуры - это объекты, инкапсулирующие операции, которые могут быть выполнены аснхронно. Есть 2 класса футур - `concurrent.futures.Future` и `asyncio.Future`. Они, естественно, несколько различаются. У них есть следующие интересные методы:\n",
    "\n",
    "* `.done()` - отвечает на вопрос, отработала ли футура  \n",
    "* `.add_done_callback()` - назначает функцию, которая будет вызвана по завершении работы футуры  \n",
    "* `.result()` - выдает результат работы футуры  \n",
    "\n",
    "Мы можем попытаться более явно использовать футуры, "
   ]
  },
  {
   "cell_type": "code",
   "execution_count": 5,
   "id": "96480cc5",
   "metadata": {},
   "outputs": [
    {
     "name": "stdout",
     "output_type": "stream",
     "text": [
      "Overwriting flags_fut2.py\n"
     ]
    }
   ],
   "source": [
    "%%writefile flags_fut2.py\n",
    "\n",
    "from concurrent import futures\n",
    "from flags_seq import main, download_flag\n",
    "\n",
    "max_workers = 20\n",
    "\n",
    "def download_flags(country_lst):\n",
    "    worker_number = min(max_workers, len(country_lst))\n",
    "    results = []\n",
    "    with futures.ThreadPoolExecutor(worker_number) as executor:\n",
    "        to_do = [executor.submit(download_flag, country) for country in country_lst]        \n",
    "        for future in futures.as_completed(to_do):\n",
    "            result = future.result()\n",
    "            print(f'{future} result: {result}')\n",
    "            results.append(result)\n",
    "    return len(results)\n",
    "    #    downloaded_flags = executor.map(download_flag, sorted(country_lst))\n",
    "    #return len(list(downloaded_flags))\n",
    "\n",
    "if __name__ == '__main__':\n",
    "    main(download_flags)"
   ]
  },
  {
   "cell_type": "code",
   "execution_count": 6,
   "id": "a6a61044",
   "metadata": {},
   "outputs": [
    {
     "name": "stdout",
     "output_type": "stream",
     "text": [
      "Initialization of download directory...\n",
      "Done.\n",
      "BR <Future at 0x7f2421d3ed30 state=finished returned str> result: BR\n",
      "CN <Future at 0x7f2421d26130 state=finished returned str> result: CN\n",
      "ID <Future at 0x7f2421d3e400 state=finished returned str> result: ID\n",
      "CD <Future at 0x7f2420461430 state=finished returned str> result: CD\n",
      "US <Future at 0x7f2421d31a90 state=finished returned str> result: US\n",
      "RU <Future at 0x7f24204a8250 state=finished returned str> result: RU\n",
      "EG <Future at 0x7f24204c4be0 state=finished returned str> result: EG\n",
      "DE <Future at 0x7f24204ce550 state=finished returned str> result: DE\n",
      "IR <Future at 0x7f24204cee80 state=finished returned str> result: IR\n",
      "ET <Future at 0x7f24204c42e0 state=finished returned str> result: ET\n",
      "BD <Future at 0x7f24204a0940 state=finished returned str> result: BD\n",
      "MX <Future at 0x7f24204b1430 state=finished returned str> result: MX\n",
      "PK <Future at 0x7f2421d486a0 state=finished returned str> result: PK\n",
      "NG <Future at 0x7f2421d31730 state=finished returned str> result: NG\n",
      "TR <Future at 0x7f24204d79d0 state=finished returned str> result: TR\n",
      "IN <Future at 0x7f2421d26fd0 state=finished returned str> result: IN\n",
      "PH <Future at 0x7f24204b1d00 state=finished returned str> result: PH\n",
      "VN <Future at 0x7f24204bd940 state=finished returned str> result: VN\n",
      "JP <Future at 0x7f24204a8b20 state=finished returned str> result: JP\n",
      "FR <Future at 0x7f2420489340 state=finished returned str> result: FR\n",
      "\n",
      "20 flag(s) downloaded in 1.22 seconds.\n"
     ]
    }
   ],
   "source": [
    "%%bash\n",
    "\n",
    "python3 flags_fut2.py"
   ]
  },
  {
   "cell_type": "markdown",
   "id": "66dc64ae",
   "metadata": {},
   "source": [
    "Как известно, в Python есть такой компонент, как Global Interpreter Lock (GIL), который блокирует одновременное использование вычислительных ресурсов несколькими потоками. При этом, как мы видели выше, многопоточный код скачал файлы существенно быстрее, чем однопоточный. Как такое произошло? Очевидно, что пользовательский код Python может как что-то считать сам, так и вызывать функции библиотек. Библиотеки могут тоже, как считать, так и вызывать другие библиотеки. Здесь важно вспомнить, что вызовы библиотек в конечном счете могут превращаться в вызовы API операционной системы, которые GIL не блокирует. Скачивание файла - это пример вызова API операционной системы, который GIL не блокирует. Поэтому и получается сильно быстрее. Если обобщить сказанное, то получается, что все операции ввода-вывода в Python хорошо параллелятся."
   ]
  }
 ],
 "metadata": {
  "kernelspec": {
   "display_name": "Python 3 (ipykernel)",
   "language": "python",
   "name": "python3"
  },
  "language_info": {
   "codemirror_mode": {
    "name": "ipython",
    "version": 3
   },
   "file_extension": ".py",
   "mimetype": "text/x-python",
   "name": "python",
   "nbconvert_exporter": "python",
   "pygments_lexer": "ipython3",
   "version": "3.9.6"
  }
 },
 "nbformat": 4,
 "nbformat_minor": 5
}
