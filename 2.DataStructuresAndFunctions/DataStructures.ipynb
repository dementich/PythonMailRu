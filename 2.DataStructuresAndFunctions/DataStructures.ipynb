{
 "cells": [
  {
   "cell_type": "markdown",
   "id": "84bf858d",
   "metadata": {},
   "source": [
    "# Структуры данных в Python\n",
    "\n",
    "Разговор здесь пойдет о коллекциях и об их воплощениях в виде списков и кортежей. \n",
    "\n",
    "## Списки\n",
    "Со списками все просто и автору конспекта они хорошо известны. Стоит отметить, что при обращении к списку с выходом за его границы будет выдано исключение, а если мы изначально знаем длину списка, то можно прописать это при его создании:"
   ]
  },
  {
   "cell_type": "code",
   "execution_count": 24,
   "id": "37013ba3",
   "metadata": {},
   "outputs": [
    {
     "data": {
      "text/plain": [
       "42"
      ]
     },
     "execution_count": 24,
     "metadata": {},
     "output_type": "execute_result"
    }
   ],
   "source": [
    "none_list = [None] * 42\n",
    "len(none_list)"
   ]
  },
  {
   "cell_type": "markdown",
   "id": "529ba41c",
   "metadata": {},
   "source": [
    "При работе с отдельными элементами списка к ним надо обращаться по индексу. Также полезно помнить, что для получения набора элементов в списках используется нотация `[start:stop:step]`. При получении элементов таким образом формируется новый список:"
   ]
  },
  {
   "cell_type": "code",
   "execution_count": 3,
   "id": "93e80c80",
   "metadata": {},
   "outputs": [
    {
     "name": "stdout",
     "output_type": "stream",
     "text": [
      "lst = [0, 1, 2, 3, 4, 5, 6, 7, 8, 9]\n",
      "even_lst = lst[::2]\n",
      "even_lst = [42, 2, 4, 6, 8]\n"
     ]
    }
   ],
   "source": [
    "lst = list(range(10))\n",
    "even_lst = lst[::2]\n",
    "even_lst[0] = 42\n",
    "print(f'lst = {lst}')\n",
    "print(f'even_lst = lst[::2]')\n",
    "print(f'even_lst = {even_lst}')"
   ]
  },
  {
   "cell_type": "markdown",
   "id": "689927a1",
   "metadata": {},
   "source": [
    "Расширять списки очень просто:"
   ]
  },
  {
   "cell_type": "code",
   "execution_count": 4,
   "id": "472953ea",
   "metadata": {},
   "outputs": [
    {
     "name": "stdout",
     "output_type": "stream",
     "text": [
      "[0, 1, 2, 3, 4, 5, 6, 7, 8, 9, 42, 2, 4, 6, 8]\n"
     ]
    }
   ],
   "source": [
    "lst += even_lst\n",
    "print(lst)"
   ]
  },
  {
   "cell_type": "markdown",
   "id": "db2e9741",
   "metadata": {},
   "source": [
    "Добавлять элементы тоже просто:"
   ]
  },
  {
   "cell_type": "code",
   "execution_count": 5,
   "id": "279406c8",
   "metadata": {},
   "outputs": [
    {
     "data": {
      "text/plain": [
       "[0, 1, 2, 3, 4, 5, 6, 7, 8, 9, 42, 2, 4, 6, 8, 24]"
      ]
     },
     "execution_count": 5,
     "metadata": {},
     "output_type": "execute_result"
    }
   ],
   "source": [
    "lst.append(24)\n",
    "lst"
   ]
  },
  {
   "cell_type": "markdown",
   "id": "46087504",
   "metadata": {},
   "source": [
    "С сортировкой списка надо запомнить один момент: если мы хотим сортировать его in-place, то применяем метод `sort`, иначе - функцию `sorted()`:"
   ]
  },
  {
   "cell_type": "code",
   "execution_count": 6,
   "id": "7980dade",
   "metadata": {},
   "outputs": [
    {
     "name": "stdout",
     "output_type": "stream",
     "text": [
      "[0, 1, 2, 3, 4, 5, 6, 7, 8, 9, 42, 2, 4, 6, 8, 24]\n",
      "[0, 1, 2, 2, 3, 4, 4, 5, 6, 6, 7, 8, 8, 9, 24, 42]\n",
      "[0, 1, 2, 2, 3, 4, 4, 5, 6, 6, 7, 8, 8, 9, 24, 42]\n"
     ]
    }
   ],
   "source": [
    "sorted_lst = sorted(lst)\n",
    "print(lst)\n",
    "print(sorted_lst)\n",
    "lst.sort()\n",
    "print(lst)"
   ]
  },
  {
   "cell_type": "markdown",
   "id": "b35bf40d",
   "metadata": {},
   "source": [
    "**Пример работы со списками.** Здесь посчитаем медиану случайного списка случайной длины: "
   ]
  },
  {
   "cell_type": "code",
   "execution_count": 7,
   "id": "276457b1",
   "metadata": {},
   "outputs": [
    {
     "name": "stdout",
     "output_type": "stream",
     "text": [
      "n = 18\n",
      "data = [13, 10, 3, 1, 10, 5, 16, 13, 9, 16, 9, 15, 15, 19, 12, 12, 5, 19]\n",
      "sorted data = [1, 3, 5, 5, 9, 9, 10, 10, 12, 12, 13, 13, 15, 15, 16, 16, 19, 19]\n",
      "median = 12.0\n",
      "control median value = 12.0\n"
     ]
    }
   ],
   "source": [
    "import random\n",
    "import statistics\n",
    "\n",
    "n = random.randint(10, 20)\n",
    "data = [None] * n\n",
    "for i in range(n):\n",
    "    data[i] = random.randint(0, 20)\n",
    "half_len = n // 2\n",
    "sorted_data = sorted(data)\n",
    "median = sorted_data[half_len] if n % 2 == 1 else (sorted_data[half_len-1] + sorted_data[half_len])/2\n",
    "\n",
    "print(f'n = {n}')\n",
    "print(f'data = {data}')\n",
    "print(f'sorted data = {sorted_data}')\n",
    "print(f'median = {median}')\n",
    "print(f'control median value = {statistics.median(data)}')"
   ]
  },
  {
   "cell_type": "markdown",
   "id": "d1493994",
   "metadata": {},
   "source": [
    "## Кортежи\n",
    "\n",
    "Кортеж - это по сути своей неизменяемый список. Создается он либо посредством круглых скобок, либо через ключевое слово `tuple()`. К кортежам применима функция `hash()`, т.е. они могут быть ключами в словарях. \n",
    "\n",
    "Если хотим создать кортеж из одного элемента, то при его создании надо поставить запятую после этого элемента, иначе выражение в скобках будет иметь тип не кортеж, а тип первого элемента.\n",
    "\n",
    "Очень интересную надстройку над кортежами являют собой именованные кортежи, к полям которых можно обращаться по их именам:\n",
    "\n",
    "```python\n",
    "from collections import namedtuple\n",
    "CustomType = namedtuple('CustomType', ['prop1', 'prop2'])\n",
    "customVal1 = CustomType.prop1\n",
    "customVal2 = CustomType.prop2\n",
    "```"
   ]
  },
  {
   "cell_type": "markdown",
   "id": "7221bcd1",
   "metadata": {},
   "source": [
    "## Словари\n",
    "\n",
    "Они представляют собой коллекции в формате \"ключ-значение\", что логично=). Определить словарь можно двумя способами:\n",
    "\n",
    "```python\n",
    "my_dict1 = {}\n",
    "my_dict2 = dict()\n",
    "```\n",
    "\n",
    "Если мы попытаемся получить значение по ключу, которого не существует, то получим ошибку `KeyError`:"
   ]
  },
  {
   "cell_type": "code",
   "execution_count": 8,
   "id": "161f26cb",
   "metadata": {},
   "outputs": [
    {
     "name": "stdout",
     "output_type": "stream",
     "text": [
      "KeyError has happenned...\n"
     ]
    }
   ],
   "source": [
    "my_dict1 = {}\n",
    "try:\n",
    "    print(my_dict1['some_key'])\n",
    "except KeyError:\n",
    "    print('KeyError has happenned...')"
   ]
  },
  {
   "cell_type": "markdown",
   "id": "82d02948",
   "metadata": {},
   "source": [
    "Если же мы подозреваем, что ключа нет, то лучше использовать метод `get('key_value')` словаря:"
   ]
  },
  {
   "cell_type": "code",
   "execution_count": 9,
   "id": "3069fb09",
   "metadata": {},
   "outputs": [
    {
     "data": {
      "text/plain": [
       "'key not found'"
      ]
     },
     "execution_count": 9,
     "metadata": {},
     "output_type": "execute_result"
    }
   ],
   "source": [
    "my_dict1.get('some_key', 'key not found')"
   ]
  },
  {
   "cell_type": "markdown",
   "id": "c0471a4a",
   "metadata": {},
   "source": [
    "Для проверки наличия ключа в словаре надо использовать оператор `in`:"
   ]
  },
  {
   "cell_type": "code",
   "execution_count": 10,
   "id": "4e521b3e",
   "metadata": {},
   "outputs": [
    {
     "name": "stdout",
     "output_type": "stream",
     "text": [
      "False\n"
     ]
    }
   ],
   "source": [
    "print('some_key' in my_dict1)"
   ]
  },
  {
   "cell_type": "markdown",
   "id": "509047ba",
   "metadata": {},
   "source": [
    "Эти ошибки касаются лишь чтения из словаря. При записи значение с нужным ключом сохраняется в словарь:"
   ]
  },
  {
   "cell_type": "code",
   "execution_count": 11,
   "id": "4acc1d5e",
   "metadata": {},
   "outputs": [
    {
     "name": "stdout",
     "output_type": "stream",
     "text": [
      "key_val\n"
     ]
    }
   ],
   "source": [
    "my_dict1['some_key'] = 'key_val'\n",
    "print(my_dict1['some_key'])"
   ]
  },
  {
   "cell_type": "markdown",
   "id": "5364a289",
   "metadata": {},
   "source": [
    "Для удаления элемента из словаря надо использовать оператор `del`:"
   ]
  },
  {
   "cell_type": "code",
   "execution_count": 12,
   "id": "c0b3210a",
   "metadata": {},
   "outputs": [
    {
     "data": {
      "text/plain": [
       "'key not found'"
      ]
     },
     "execution_count": 12,
     "metadata": {},
     "output_type": "execute_result"
    }
   ],
   "source": [
    "del my_dict1['some_key']\n",
    "my_dict1.get('some_key', 'key not found')"
   ]
  },
  {
   "cell_type": "markdown",
   "id": "6e8c9d72",
   "metadata": {},
   "source": [
    "Если мы хотим удалить ключ из словаря, при этом его прочитав, то нам надо использовать метод `pop`. \n",
    "Если хотим итерироваться по словарю, то итерирование будет по ключам. Если хотим итерироваться по парам ключ-значение, то надо использовать метод `.items()`, а если по значениям, то метод `.values()`.\n",
    "\n",
    "Рассмотренные выше словари никак не отсортированы по ключам. Если хотим отсортированные словари, то надо использовать класс `OrderedDict`.\n",
    "\n",
    "**Задача по словарям.** Надо посмотреть, какие слова чаще всего встречаются в zen of python."
   ]
  },
  {
   "cell_type": "code",
   "execution_count": 13,
   "id": "39f0fdf7",
   "metadata": {},
   "outputs": [
    {
     "name": "stdout",
     "output_type": "stream",
     "text": [
      "The Zen of Python, by Tim Peters\n",
      "\n",
      "Beautiful is better than ugly.\n",
      "Explicit is better than implicit.\n",
      "Simple is better than complex.\n",
      "Complex is better than complicated.\n",
      "Flat is better than nested.\n",
      "Sparse is better than dense.\n",
      "Readability counts.\n",
      "Special cases aren't special enough to break the rules.\n",
      "Although practicality beats purity.\n",
      "Errors should never pass silently.\n",
      "Unless explicitly silenced.\n",
      "In the face of ambiguity, refuse the temptation to guess.\n",
      "There should be one-- and preferably only one --obvious way to do it.\n",
      "Although that way may not be obvious at first unless you're Dutch.\n",
      "Now is better than never.\n",
      "Although never is often better than *right* now.\n",
      "If the implementation is hard to explain, it's a bad idea.\n",
      "If the implementation is easy to explain, it may be a good idea.\n",
      "Namespaces are one honking great idea -- let's do more of those!\n"
     ]
    }
   ],
   "source": [
    "import this"
   ]
  },
  {
   "cell_type": "code",
   "execution_count": 14,
   "id": "440c3300",
   "metadata": {},
   "outputs": [],
   "source": [
    "zen_of_python = \"\"\"The Zen of Python, by Tim Peters\n",
    "\n",
    "Beautiful is better than ugly.\n",
    "Explicit is better than implicit.\n",
    "Simple is better than complex.\n",
    "Complex is better than complicated.\n",
    "Flat is better than nested.\n",
    "Sparse is better than dense.\n",
    "Readability counts.\n",
    "Special cases aren't special enough to break the rules.\n",
    "Although practicality beats purity.\n",
    "Errors should never pass silently.\n",
    "Unless explicitly silenced.\n",
    "In the face of ambiguity, refuse the temptation to guess.\n",
    "There should be one-- and preferably only one --obvious way to do it.\n",
    "Although that way may not be obvious at first unless you're Dutch.\n",
    "Now is better than never.\n",
    "Although never is often better than *right* now.\n",
    "If the implementation is hard to explain, it's a bad idea.\n",
    "If the implementation is easy to explain, it may be a good idea.\n",
    "Namespaces are one honking great idea -- let's do more of those!\n",
    "\"\"\""
   ]
  },
  {
   "cell_type": "code",
   "execution_count": 15,
   "id": "150728fd",
   "metadata": {},
   "outputs": [],
   "source": [
    "zen_dict = {}\n",
    "for word in zen_of_python.split():\n",
    "    cleaned_word = word.strip('.,!-').lower()\n",
    "    if cleaned_word not in zen_dict:\n",
    "        zen_dict[cleaned_word] = 0\n",
    "    zen_dict[cleaned_word] += 1"
   ]
  },
  {
   "cell_type": "code",
   "execution_count": 16,
   "id": "ccbd3ded",
   "metadata": {},
   "outputs": [
    {
     "data": {
      "text/plain": [
       "[('is', 10), ('better', 8), ('than', 8)]"
      ]
     },
     "execution_count": 16,
     "metadata": {},
     "output_type": "execute_result"
    }
   ],
   "source": [
    "from operator import itemgetter\n",
    "\n",
    "sorted(zen_dict.items(), key=itemgetter(1), reverse=True)[:3]"
   ]
  },
  {
   "cell_type": "markdown",
   "id": "feb7882a",
   "metadata": {},
   "source": [
    "Все это можно сделать существенно проще:"
   ]
  },
  {
   "cell_type": "code",
   "execution_count": 17,
   "id": "563b47cd",
   "metadata": {},
   "outputs": [
    {
     "name": "stdout",
     "output_type": "stream",
     "text": [
      "[('is', 10), ('better', 8), ('than', 8)]\n"
     ]
    }
   ],
   "source": [
    "from collections import Counter\n",
    "\n",
    "cleaned_list = [word.strip('.,!-') for word in zen_of_python.split()]\n",
    "print(Counter(cleaned_list).most_common(3))"
   ]
  },
  {
   "cell_type": "markdown",
   "id": "249669dc",
   "metadata": {},
   "source": [
    "## Множества\n",
    "\n",
    "Для создания сабжа лучше использовать оператор `set()`. Можно еще и фигурными скобками, но тогда обязательно сразу прописывать значения, иначе у нас получится словарь."
   ]
  },
  {
   "cell_type": "code",
   "execution_count": 18,
   "id": "1f4ca5d0",
   "metadata": {},
   "outputs": [
    {
     "data": {
      "text/plain": [
       "set"
      ]
     },
     "execution_count": 18,
     "metadata": {},
     "output_type": "execute_result"
    }
   ],
   "source": [
    "x = set()\n",
    "type(x)"
   ]
  },
  {
   "cell_type": "markdown",
   "id": "09e2c3fc",
   "metadata": {},
   "source": [
    "Создадим 2 множества: нечетных и четных чисел."
   ]
  },
  {
   "cell_type": "code",
   "execution_count": 19,
   "id": "865fba79",
   "metadata": {},
   "outputs": [
    {
     "name": "stdout",
     "output_type": "stream",
     "text": [
      "{1, 3, 5, 7, 9}\n",
      "{0, 2, 4, 6, 8}\n"
     ]
    }
   ],
   "source": [
    "odd_set = set([i for i in range(10) if i % 2 == 1])\n",
    "even_set = set([i for i in range(10) if i % 2 == 0])\n",
    "print(odd_set)\n",
    "print(even_set)"
   ]
  },
  {
   "cell_type": "markdown",
   "id": "c78903c6",
   "metadata": {},
   "source": [
    "Класс множеств поддерживает операции над множествами:"
   ]
  },
  {
   "cell_type": "code",
   "execution_count": 20,
   "id": "706ee0cb",
   "metadata": {},
   "outputs": [
    {
     "name": "stdout",
     "output_type": "stream",
     "text": [
      "{0, 1, 2, 3, 4, 5, 6, 7, 8, 9}\n",
      "set()\n",
      "{1, 3, 5, 7, 9}\n",
      "{0, 1, 2, 3, 4, 5, 6, 7, 8, 9}\n"
     ]
    }
   ],
   "source": [
    "union_set = odd_set | even_set\n",
    "print(union_set)\n",
    "intersection_set = odd_set & even_set\n",
    "print(intersection_set)\n",
    "difference_set = odd_set - even_set\n",
    "print(difference_set)\n",
    "symmetric_difference_set = odd_set ^ even_set\n",
    "print(symmetric_difference_set)"
   ]
  },
  {
   "cell_type": "markdown",
   "id": "946c7ecb",
   "metadata": {},
   "source": [
    "Из множества можно удалять конкретные значения (метод `remove`), либо первые по списку значения (метод `pop`).\n",
    "\n",
    "**Задача на множества.** Через сколько итераций функция `random.randint(1, 10)` выдаст повтор?"
   ]
  },
  {
   "cell_type": "code",
   "execution_count": 21,
   "id": "11dddeb5",
   "metadata": {},
   "outputs": [
    {
     "name": "stdout",
     "output_type": "stream",
     "text": [
      "1 is already in the set over 6 iteration(s)\n"
     ]
    }
   ],
   "source": [
    "from random import randint\n",
    "\n",
    "data = set()\n",
    "i = 0\n",
    "while True:\n",
    "    i += 1\n",
    "    x = randint(1, 10)\n",
    "    if(x not in data):\n",
    "        data.add(x)\n",
    "    else:\n",
    "        print(f'{x} is already in the set over {i} iteration(s)')\n",
    "        break"
   ]
  }
 ],
 "metadata": {
  "kernelspec": {
   "display_name": "Python 3",
   "language": "python",
   "name": "python3"
  },
  "language_info": {
   "codemirror_mode": {
    "name": "ipython",
    "version": 3
   },
   "file_extension": ".py",
   "mimetype": "text/x-python",
   "name": "python",
   "nbconvert_exporter": "python",
   "pygments_lexer": "ipython3",
   "version": "3.9.5"
  }
 },
 "nbformat": 4,
 "nbformat_minor": 5
}
