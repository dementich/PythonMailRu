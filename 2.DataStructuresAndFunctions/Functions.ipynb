{
 "cells": [
  {
   "cell_type": "markdown",
   "id": "544e251d",
   "metadata": {},
   "source": [
    "# Функции в Python\n",
    "\n",
    "## Общие сведения\n",
    "\n",
    "Здесь разговор пойдет об организации и использовании функций в Python. \n",
    "\n",
    "Довольно очевидным является тот факт, что функция возвращает то, что возвращается из нее оператором `return`. Менее очевиден тот факт, что при отсутствии вызова `return` функция вернет `None`.\n",
    "\n",
    "Для каждой функции можно написать документацию в виде комментария к ней:"
   ]
  },
  {
   "cell_type": "code",
   "execution_count": 1,
   "id": "918b7744",
   "metadata": {},
   "outputs": [],
   "source": [
    "def reverse_str(string: str) -> str:\n",
    "    '''\n",
    "    Returns the reversed String.\n",
    "\n",
    "    Parameters:\n",
    "    ----------\n",
    "    str1 (str):    The string which is to be reversed.\n",
    "\n",
    "    Returns:       freverse(str1):The string which gets reversed.   \n",
    "    '''\n",
    "    return string[-1:0:-1]"
   ]
  },
  {
   "cell_type": "markdown",
   "id": "52066382",
   "metadata": {},
   "source": [
    "Документацию эту можно смотреть, как и с помощью клавиши `TAB`, так и с помощью атрибута `__doc__`:"
   ]
  },
  {
   "cell_type": "code",
   "execution_count": 2,
   "id": "9f6e2221",
   "metadata": {},
   "outputs": [
    {
     "data": {
      "text/plain": [
       "'\\n    Returns the reversed String.\\n\\n    Parameters:\\n    ----------\\n    str1 (str):    The string which is to be reversed.\\n\\n    Returns:       freverse(str1):The string which gets reversed.   \\n    '"
      ]
     },
     "execution_count": 2,
     "metadata": {},
     "output_type": "execute_result"
    }
   ],
   "source": [
    "reverse_str.__doc__"
   ]
  },
  {
   "cell_type": "markdown",
   "id": "7f5a0bc0",
   "metadata": {},
   "source": [
    "А имя функции можно получить с помощью атрибута `__name__`.\n",
    "\n",
    "Начиная с Python 3.5 можно в функции явно аннотировать типы данных. Надо заметить, что это скорее функция для документирования, нежели реализованное в языке ограничение. То есть, мы можем передавать в функцию параметры, тип которых отличается в аннотации. Выглядит это следующим образом:"
   ]
  },
  {
   "cell_type": "code",
   "execution_count": 3,
   "id": "194c7645",
   "metadata": {},
   "outputs": [],
   "source": [
    "def add(a: int, b: int) -> int:\n",
    "    return a + b"
   ]
  },
  {
   "cell_type": "code",
   "execution_count": 4,
   "id": "c6fd9285",
   "metadata": {},
   "outputs": [
    {
     "data": {
      "text/plain": [
       "'hello world'"
      ]
     },
     "execution_count": 4,
     "metadata": {},
     "output_type": "execute_result"
    }
   ],
   "source": [
    "add('hello ', 'world')"
   ]
  },
  {
   "cell_type": "markdown",
   "id": "ef713fb4",
   "metadata": {},
   "source": [
    "Параметры в функцию всегда передаются по ссылке, т.к. в Python любая переменная - это ссылка. Из этого следует, что если мы передали в функцию параметр неизменяемого типа, а функция попытается изменить его, то ее работа завершится ошибкой.  \n",
    "Также, переменные, объявленные вне функции, нельзя изменять в самой функции - она упадет. Есть, правда, обходной путь, который предусматривает модификатор `global`, но это плохая практика.\n",
    "\n",
    "Если мы в функцию передаем какие-то изменяемые значения со значениями по-умолчанию, после чего изменяем их, то изменяется само значение по-умолчанию. То есть дефолтные значения являются изменяемыми и в них можно записывать, т.к. это обычные переменные."
   ]
  },
  {
   "cell_type": "code",
   "execution_count": 5,
   "id": "f9989861",
   "metadata": {},
   "outputs": [],
   "source": [
    "def append_one(iterable=[]):\n",
    "    iterable.append(1)\n",
    "    return iterable"
   ]
  },
  {
   "cell_type": "code",
   "execution_count": 6,
   "id": "defe5853",
   "metadata": {},
   "outputs": [
    {
     "data": {
      "text/plain": [
       "[1]"
      ]
     },
     "execution_count": 6,
     "metadata": {},
     "output_type": "execute_result"
    }
   ],
   "source": [
    "append_one()"
   ]
  },
  {
   "cell_type": "code",
   "execution_count": 7,
   "id": "eb7a2fd6",
   "metadata": {},
   "outputs": [
    {
     "data": {
      "text/plain": [
       "[1, 1]"
      ]
     },
     "execution_count": 7,
     "metadata": {},
     "output_type": "execute_result"
    }
   ],
   "source": [
    "append_one()"
   ]
  },
  {
   "cell_type": "markdown",
   "id": "3c1c2285",
   "metadata": {},
   "source": [
    "Если мы хотим неизменяемое дефолтное значение изменяемого типа, то по-умолчанию оно должно быть `None`.\n",
    "\n",
    "## Функции с произвольным числом аргументов\n",
    "\n",
    "Здесь все просто: если мы хотим определять в фунции аргументы по их местоположению, то используем для всех параметр со звездочкой, например `*args`. Если же хотим определять их по именам, то используем словарь, определяя его как переменную с двумя звездочками, например `**kwargs`. \n",
    "\n",
    "Допустим, хотим мы распечатать отдельные строки списка. Тогда мы должны при передаче его в функцию поставить впереди звездочку:"
   ]
  },
  {
   "cell_type": "code",
   "execution_count": 8,
   "id": "67d101df",
   "metadata": {},
   "outputs": [
    {
     "name": "stdout",
     "output_type": "stream",
     "text": [
      "Ваня Маня Петя\n"
     ]
    }
   ],
   "source": [
    "lst = ['Ваня', 'Маня', 'Петя']\n",
    "print(*lst)"
   ]
  },
  {
   "cell_type": "markdown",
   "id": "eea38803",
   "metadata": {},
   "source": [
    "## Работа с файлами\n",
    "\n",
    "Для работы с файлом его сначала надо открыть. Делается это с помощью функции `open()`, куда передается имя файла и при необходимости модификатор доступа, сообщающий, что мы с этим файлом хотим делать, например `r`, `w`, `a`, `r+`, `br`, `bw`, `ba`, `br+` и т.д. Естественно, это лучше использовать в рамках контекстного менеджера, чтобы потом файл автоматически закрылся. Закрыть файл вручную можно методом `.close()`. Для чтения из файла существует метод `.read()`, а для записи - `.write(str_val)`. При выполнении метода `.write()` нам вернется либо количество записанных символов, либо количество записанных байтов, в зависимости от модификатора доступа. Для перехода на конкретную позицию в файле используется метод `.seek(position)`. Для чтения файла по строкам нужен либо метод `.readline()`, либо `readlines()`. Аналогично при записи."
   ]
  },
  {
   "cell_type": "markdown",
   "id": "6421dacd",
   "metadata": {},
   "source": [
    "## Функциональное программирование\n",
    "\n",
    "Функции в Python можно передавать в другие функции, возвращать из функций, или создавать на лету."
   ]
  },
  {
   "cell_type": "code",
   "execution_count": 9,
   "id": "051288ee",
   "metadata": {},
   "outputs": [
    {
     "data": {
      "text/plain": [
       "20"
      ]
     },
     "execution_count": 9,
     "metadata": {},
     "output_type": "execute_result"
    }
   ],
   "source": [
    "def get_multiplier():\n",
    "    def inner(a, b):\n",
    "        return a * b\n",
    "    return inner\n",
    "\n",
    "get_multiplier()(10, 2)"
   ]
  },
  {
   "cell_type": "markdown",
   "id": "2e4b1718",
   "metadata": {},
   "source": [
    "Более интересный пример:"
   ]
  },
  {
   "cell_type": "code",
   "execution_count": 10,
   "id": "0a6618c8",
   "metadata": {},
   "outputs": [
    {
     "data": {
      "text/plain": [
       "50"
      ]
     },
     "execution_count": 10,
     "metadata": {},
     "output_type": "execute_result"
    }
   ],
   "source": [
    "def get_multiplier(number):\n",
    "    def inner(a):\n",
    "        return a * number\n",
    "    return inner\n",
    "get_multiplier(5)(10)"
   ]
  },
  {
   "cell_type": "markdown",
   "id": "b60a7e28",
   "metadata": {},
   "source": [
    "Также, довольно несложно пройтись по коллекции, применив какую-то функцию к каждому ее элементу:"
   ]
  },
  {
   "cell_type": "code",
   "execution_count": 11,
   "id": "1e7e3d5a",
   "metadata": {},
   "outputs": [
    {
     "data": {
      "text/plain": [
       "['1', '2', '3']"
      ]
     },
     "execution_count": 11,
     "metadata": {},
     "output_type": "execute_result"
    }
   ],
   "source": [
    "lst = [1, 2, 3]\n",
    "list(map(str, lst))"
   ]
  },
  {
   "cell_type": "markdown",
   "id": "73e88f7a",
   "metadata": {},
   "source": [
    "## Декораторы\n",
    "\n",
    "Применяются они как модификаторы над создаваемыми нами функциями, которым предшествует знак @. Нужен декоратор для того, чтобы изменить поведение созданной функции. К примеру, мы хотим, чтобы все действия какой-то функции логировались. Мы конечно можем это прописать это и в самой функции, однако это не очень удобно. Гораздо удобнее написать отдельную функцию, которая во-первых вызывает целевую функцию, а во-вторых логирует данные. Еще один пример использования декораторов - это когда мы хотим, чтобы перед получением информации от этой функции пользователь логинился. Как понятно из сказанного выше, декоратор - это отдельная функция, которая вызывает целевую функцию и как-то меняет/дополняет ее поведение.\n",
    "\n",
    "Самый простой декоратор - это тот, который никак не модифицирует поведение функции. Выглядит это как-то так:"
   ]
  },
  {
   "cell_type": "code",
   "execution_count": 12,
   "id": "03e576dd",
   "metadata": {},
   "outputs": [
    {
     "name": "stdout",
     "output_type": "stream",
     "text": [
      "hello!\n"
     ]
    }
   ],
   "source": [
    "def decorator(func):\n",
    "    return func\n",
    "\n",
    "@decorator\n",
    "def decorated():\n",
    "    print('hello!')\n",
    "    \n",
    "decorated()"
   ]
  },
  {
   "cell_type": "markdown",
   "id": "4173e01f",
   "metadata": {},
   "source": [
    "Приведенный выше код идентичен следующему:"
   ]
  },
  {
   "cell_type": "code",
   "execution_count": 13,
   "id": "b58362cc",
   "metadata": {},
   "outputs": [
    {
     "name": "stdout",
     "output_type": "stream",
     "text": [
      "hello!\n"
     ]
    }
   ],
   "source": [
    "decorator(decorated())"
   ]
  },
  {
   "cell_type": "markdown",
   "id": "16195639",
   "metadata": {},
   "source": [
    "Если озвучить иными словами сказанное выше, то декоратор позволяет, вызывая одну функцию, на самом деле вызывать другую. Другая - это та, которая определена в самом декораторе. Естественно, вызов этой \"другой\" функции может включать и вызов декорируемой функции."
   ]
  },
  {
   "cell_type": "code",
   "execution_count": 14,
   "id": "06b4711b",
   "metadata": {},
   "outputs": [
    {
     "name": "stdout",
     "output_type": "stream",
     "text": [
      "None\n",
      "new_func\n"
     ]
    }
   ],
   "source": [
    "def decorator(func):\n",
    "    def new_func():\n",
    "        pass\n",
    "    return new_func\n",
    "\n",
    "@decorator\n",
    "def decorated():\n",
    "    print('hello again')\n",
    "    \n",
    "print(decorated())\n",
    "print(decorated.__name__)"
   ]
  },
  {
   "cell_type": "markdown",
   "id": "5e6ea099",
   "metadata": {},
   "source": [
    "Выше хорошо видно, что при вызове функции `decorated` на самом деле вызвалась функция `new_func`. Обычно, функции, объявленные внутри декоратора, называются `wrapped`, `decorated`, `inner` или что-то в этом роде.\n",
    "\n",
    "Логирующий декоратор будет выглядеть как-то так:"
   ]
  },
  {
   "cell_type": "code",
   "execution_count": 15,
   "id": "3b8cd083",
   "metadata": {},
   "outputs": [
    {
     "name": "stdout",
     "output_type": "stream",
     "text": [
      "['15']\n"
     ]
    }
   ],
   "source": [
    "def logger(func):\n",
    "    def wrapped(*args, **kwargs):\n",
    "        result = func(*args, **kwargs)\n",
    "        with open('log.txt', 'w') as f:\n",
    "            f.write(str(result))\n",
    "        return result\n",
    "    return wrapped\n",
    "\n",
    "@logger\n",
    "def summator(num_list):\n",
    "    return sum(num_list)\n",
    "\n",
    "summator([1, 2, 3, 4, 5])\n",
    "with open('log.txt', 'r') as f:\n",
    "    print(f.readlines())"
   ]
  },
  {
   "cell_type": "markdown",
   "id": "520d974f",
   "metadata": {},
   "source": [
    "Как уже было показано выше, при вызове декорируемой функции, вызывается на самом деле декорирующая функция. Это подтверждается атрибутом `__name__` декорируемой функции. Это не всегда удобно, т.к. хочется все-таки знать имя оригинальной функции. Помочь в этом может модуль `functools`, а точнее его метод `wraps`:"
   ]
  },
  {
   "cell_type": "code",
   "execution_count": 16,
   "id": "4d4c79ab",
   "metadata": {},
   "outputs": [
    {
     "name": "stdout",
     "output_type": "stream",
     "text": [
      "['15']\n",
      "summator\n"
     ]
    }
   ],
   "source": [
    "import functools\n",
    "\n",
    "def logger(func):\n",
    "    @functools.wraps(func)\n",
    "    def wrapped(*args, **kwargs):\n",
    "        result = func(*args, **kwargs)\n",
    "        with open('log.txt', 'w') as f:\n",
    "            f.write(str(result))\n",
    "        return result\n",
    "    return wrapped\n",
    "\n",
    "@logger\n",
    "def summator(num_list):\n",
    "    return sum(num_list)\n",
    "\n",
    "summator([1, 2, 3, 4, 5])\n",
    "with open('log.txt', 'r') as f:\n",
    "    print(f.readlines())\n",
    "    \n",
    "print(summator.__name__)"
   ]
  },
  {
   "cell_type": "markdown",
   "id": "709f681a",
   "metadata": {},
   "source": [
    "В коде выше декоратор писал в захардкоженный файл. Естественно, это неправильно. Хотелось бы в наш логгер передавать имя файла, в который мы пишем лог. В данном случае поверх одного декоратора создается другой, принимающий на вход имя файла и вызывающий первоначальный декоратор."
   ]
  },
  {
   "cell_type": "code",
   "execution_count": 17,
   "id": "650df64a",
   "metadata": {},
   "outputs": [
    {
     "name": "stdout",
     "output_type": "stream",
     "text": [
      "['28']\n",
      "summator\n"
     ]
    }
   ],
   "source": [
    "import functools\n",
    "\n",
    "def logger(filename):\n",
    "    def decorator(func):\n",
    "        @functools.wraps(func)\n",
    "        def wrapped(*args, **kwargs):\n",
    "            result = func(*args, **kwargs)\n",
    "            with open(filename, 'w') as f:\n",
    "                f.write(str(result))\n",
    "            return result\n",
    "        return wrapped\n",
    "    return decorator\n",
    "\n",
    "@logger('newlog.txt')\n",
    "def summator(num_list):\n",
    "    return sum(num_list)\n",
    "\n",
    "summator([1, 2, 3, 4, 5, 6, 7])\n",
    "with open('newlog.txt', 'r') as f:\n",
    "    print(f.readlines())\n",
    "    \n",
    "print(summator.__name__)"
   ]
  },
  {
   "cell_type": "markdown",
   "id": "29ac93db",
   "metadata": {},
   "source": [
    "При всем сказанном выше к функции можно применить несколько декораторов. Но в данном случае надо понимать, что чем ближе декоратор находится к определению функции, тем раньше он будет применен. Этакий стек... Вот пример:"
   ]
  },
  {
   "cell_type": "code",
   "execution_count": 18,
   "id": "f649ae78",
   "metadata": {},
   "outputs": [
    {
     "name": "stdout",
     "output_type": "stream",
     "text": [
      "<b><i>hello world</i></b>\n"
     ]
    }
   ],
   "source": [
    "def bold(func):\n",
    "    def wrapped():\n",
    "        return f'<b>{func()}</b>'\n",
    "    return wrapped\n",
    "\n",
    "def italic(func):\n",
    "    def wrapped():\n",
    "        return f'<i>{func()}</i>'\n",
    "    return wrapped\n",
    "\n",
    "@bold\n",
    "@italic\n",
    "def hello():\n",
    "    return 'hello world'\n",
    "\n",
    "print(hello())"
   ]
  },
  {
   "cell_type": "markdown",
   "id": "e9122fa0",
   "metadata": {},
   "source": [
    "## Генераторы\n",
    "\n",
    "В качестве простейшего генератора рассмотрим такой, который берет на вход диапазон, а на выходе дает значения из этого диапазона с шагом 2:"
   ]
  },
  {
   "cell_type": "code",
   "execution_count": 19,
   "id": "9d747f6e",
   "metadata": {},
   "outputs": [
    {
     "name": "stdout",
     "output_type": "stream",
     "text": [
      "[0, 2, 4, 6, 8, 10]\n",
      "[1, 3, 5, 7, 9, 11, 13]\n"
     ]
    }
   ],
   "source": [
    "def even_range(start, stop):\n",
    "    current = start\n",
    "    while current < stop:\n",
    "        yield current\n",
    "        current += 2\n",
    "        \n",
    "print(list(even_range(0, 12)))\n",
    "print(list(even_range(1, 15)))"
   ]
  },
  {
   "cell_type": "markdown",
   "id": "b281e905",
   "metadata": {},
   "source": [
    "В коде выше к генератору применяется по сути функция `next` покуда соблюдается условие `while`. Иначе этот `next` можно изобразить следующим образом:"
   ]
  },
  {
   "cell_type": "code",
   "execution_count": 20,
   "id": "05ee05b1",
   "metadata": {},
   "outputs": [
    {
     "data": {
      "text/plain": [
       "1"
      ]
     },
     "execution_count": 20,
     "metadata": {},
     "output_type": "execute_result"
    }
   ],
   "source": [
    "def list_generator(list_obj):\n",
    "    for item in list_obj:\n",
    "        yield item\n",
    "        print(f'After yielding {item}')\n",
    "        \n",
    "generator = list_generator([1, 2])\n",
    "next(generator)"
   ]
  },
  {
   "cell_type": "code",
   "execution_count": 21,
   "id": "0b3fea00",
   "metadata": {},
   "outputs": [
    {
     "name": "stdout",
     "output_type": "stream",
     "text": [
      "After yielding 1\n"
     ]
    },
    {
     "data": {
      "text/plain": [
       "2"
      ]
     },
     "execution_count": 21,
     "metadata": {},
     "output_type": "execute_result"
    }
   ],
   "source": [
    "next(generator)"
   ]
  },
  {
   "cell_type": "markdown",
   "id": "50c5b238",
   "metadata": {},
   "source": [
    "Генераторы полезны в первую очередь тем, что это функция, которая может запоминать свои предыдущие значения. То есть, она при вызове `yield` вроде и приостанавливает свое действие, а при следующем вызове начинает с того же момента. Эта особенность хорошо видна на коде выше, где при первой итерации выводится только число, а при второй - сначала сообщение, а потом - число.\n",
    "\n",
    "Сказанное выше никак не противоречит тому, что из генератора мы можем не только получать значения, но и отправлять их туда. Делается это с помощью метода `.send()`:"
   ]
  },
  {
   "cell_type": "code",
   "execution_count": 22,
   "id": "fcbfdf86",
   "metadata": {},
   "outputs": [
    {
     "name": "stdout",
     "output_type": "stream",
     "text": [
      "Got 1\n",
      "Accumulated: 1\n"
     ]
    }
   ],
   "source": [
    "def accumulator():\n",
    "    total = 0\n",
    "    while True:\n",
    "        value = yield total\n",
    "        print(f'Got {value}')\n",
    "        \n",
    "        if not value: break\n",
    "        total += value\n",
    "        \n",
    "generator = accumulator()\n",
    "next(generator)\n",
    "print(f'Accumulated: {generator.send(1)}')"
   ]
  },
  {
   "cell_type": "markdown",
   "id": "a190162d",
   "metadata": {},
   "source": [
    "## Key-value хранилище"
   ]
  },
  {
   "cell_type": "code",
   "execution_count": 24,
   "id": "4e4bae53",
   "metadata": {},
   "outputs": [
    {
     "name": "stdout",
     "output_type": "stream",
     "text": [
      "Overwriting KeyValStorage.py\n"
     ]
    }
   ],
   "source": [
    "%%writefile KeyValStorage.py\n",
    "\n",
    "\n",
    "import argparse\n",
    "import os\n",
    "import tempfile\n",
    "import json\n",
    "\n",
    "def get_data(filename: str = 'storage.data') -> dict:\n",
    "    storage_path = os.path.join(tempfile.gettempdir(), filename)\n",
    "    if not os.path.exists(storage_path):\n",
    "        return {}\n",
    "    with open(storage_path, 'r') as f:\n",
    "        return json.load(f)\n",
    "    \n",
    "def set_data(key: str, val: str, filename: str = 'storage.data'):\n",
    "    data = get_data(filename)\n",
    "    if key not in data.keys():\n",
    "        data[key] = []\n",
    "    data[key] += [val]\n",
    "    storage_path = os.path.join(tempfile.gettempdir(), filename)\n",
    "    with open(storage_path, 'w') as f:\n",
    "        return json.dump(data, f)\n",
    "    \n",
    "def write_data(key: str, val: str):\n",
    "    set_data(key, val)\n",
    "\n",
    "def read_data(key: str):\n",
    "    data = get_data()\n",
    "    if key in data.keys():\n",
    "        return data[key]\n",
    "    return []\n",
    "\n",
    "read_data('key1')\n",
    "\n",
    "if __name__ == '__main__':\n",
    "    parser = argparse.ArgumentParser()\n",
    "    parser.add_argument('--key')\n",
    "    parser.add_argument('--val')\n",
    "    args = parser.parse_args()\n",
    "    key, val = args.key, args.val\n",
    "    if key is not None and val is not None:\n",
    "        write_data(key, val)\n",
    "    elif key is not None:\n",
    "        print(', '.join(read_data(key)))"
   ]
  },
  {
   "cell_type": "code",
   "execution_count": 25,
   "id": "64074b5c",
   "metadata": {},
   "outputs": [
    {
     "name": "stdout",
     "output_type": "stream",
     "text": [
      "Microsoft Windows [Version 10.0.18363.1734]\r\n",
      "(c) 2019 Microsoft Corporation. All rights reserved.\r\n",
      "\r\n",
      "\u001b[m\u001b[32m\u001b]9;8;\"USERNAME\"\u001b\\@\u001b]9;8;\"COMPUTERNAME\"\u001b\\ \u001b[92mc:\\Worker\\Python\\PythonMailRu\\2.DataStructuresAndFunctions\u001b[90m\r\n",
      "\u001b[90m#\u001b[m \u001b]9;12\u001b\\del C:\\Users\\kb255048\\AppData\\Local\\Temp\\storage.data\n",
      "\r\n",
      "\u001b[m\u001b[32m\u001b]9;8;\"USERNAME\"\u001b\\@\u001b]9;8;\"COMPUTERNAME\"\u001b\\ \u001b[92mc:\\Worker\\Python\\PythonMailRu\\2.DataStructuresAndFunctions\u001b[90m\r\n",
      "\u001b[90m#\u001b[m \u001b]9;12\u001b\\"
     ]
    }
   ],
   "source": [
    "%%cmd\n",
    "del C:\\Users\\kb255048\\AppData\\Local\\Temp\\storage.data"
   ]
  },
  {
   "cell_type": "code",
   "execution_count": 26,
   "id": "1feb4441",
   "metadata": {},
   "outputs": [
    {
     "name": "stdout",
     "output_type": "stream",
     "text": [
      "Microsoft Windows [Version 10.0.18363.1734]\r\n",
      "(c) 2019 Microsoft Corporation. All rights reserved.\r\n",
      "\r\n",
      "\u001b[m\u001b[32m\u001b]9;8;\"USERNAME\"\u001b\\@\u001b]9;8;\"COMPUTERNAME\"\u001b\\ \u001b[92mc:\\Worker\\Python\\PythonMailRu\\2.DataStructuresAndFunctions\u001b[90m\r\n",
      "\u001b[90m#\u001b[m \u001b]9;12\u001b\\python KeyValStorage.py --key key1\n",
      "\r\n",
      "\r\n",
      "\u001b[m\u001b[32m\u001b]9;8;\"USERNAME\"\u001b\\@\u001b]9;8;\"COMPUTERNAME\"\u001b\\ \u001b[92mc:\\Worker\\Python\\PythonMailRu\\2.DataStructuresAndFunctions\u001b[90m\r\n",
      "\u001b[90m#\u001b[m \u001b]9;12\u001b\\"
     ]
    }
   ],
   "source": [
    "%%cmd\n",
    "python KeyValStorage.py --key key1"
   ]
  },
  {
   "cell_type": "code",
   "execution_count": 27,
   "id": "a4d6ddb0",
   "metadata": {},
   "outputs": [
    {
     "name": "stdout",
     "output_type": "stream",
     "text": [
      "Microsoft Windows [Version 10.0.18363.1734]\r\n",
      "(c) 2019 Microsoft Corporation. All rights reserved.\r\n",
      "\r\n",
      "\u001b[m\u001b[32m\u001b]9;8;\"USERNAME\"\u001b\\@\u001b]9;8;\"COMPUTERNAME\"\u001b\\ \u001b[92mc:\\Worker\\Python\\PythonMailRu\\2.DataStructuresAndFunctions\u001b[90m\r\n",
      "\u001b[90m#\u001b[m \u001b]9;12\u001b\\python KeyValStorage.py --key key1 --val val1\n",
      "\r\n",
      "\u001b[m\u001b[32m\u001b]9;8;\"USERNAME\"\u001b\\@\u001b]9;8;\"COMPUTERNAME\"\u001b\\ \u001b[92mc:\\Worker\\Python\\PythonMailRu\\2.DataStructuresAndFunctions\u001b[90m\r\n",
      "\u001b[90m#\u001b[m \u001b]9;12\u001b\\"
     ]
    }
   ],
   "source": [
    "%%cmd\n",
    "python KeyValStorage.py --key key1 --val val1"
   ]
  },
  {
   "cell_type": "code",
   "execution_count": 28,
   "id": "d70e79f2",
   "metadata": {},
   "outputs": [
    {
     "name": "stdout",
     "output_type": "stream",
     "text": [
      "Microsoft Windows [Version 10.0.18363.1734]\r\n",
      "(c) 2019 Microsoft Corporation. All rights reserved.\r\n",
      "\r\n",
      "\u001b[m\u001b[32m\u001b]9;8;\"USERNAME\"\u001b\\@\u001b]9;8;\"COMPUTERNAME\"\u001b\\ \u001b[92mc:\\Worker\\Python\\PythonMailRu\\2.DataStructuresAndFunctions\u001b[90m\r\n",
      "\u001b[90m#\u001b[m \u001b]9;12\u001b\\python KeyValStorage.py --key key1\n",
      "val1\r\n",
      "\r\n",
      "\u001b[m\u001b[32m\u001b]9;8;\"USERNAME\"\u001b\\@\u001b]9;8;\"COMPUTERNAME\"\u001b\\ \u001b[92mc:\\Worker\\Python\\PythonMailRu\\2.DataStructuresAndFunctions\u001b[90m\r\n",
      "\u001b[90m#\u001b[m \u001b]9;12\u001b\\"
     ]
    }
   ],
   "source": [
    "%%cmd\n",
    "python KeyValStorage.py --key key1"
   ]
  },
  {
   "cell_type": "code",
   "execution_count": 29,
   "id": "1826c645",
   "metadata": {},
   "outputs": [
    {
     "name": "stdout",
     "output_type": "stream",
     "text": [
      "Microsoft Windows [Version 10.0.18363.1734]\r\n",
      "(c) 2019 Microsoft Corporation. All rights reserved.\r\n",
      "\r\n",
      "\u001b[m\u001b[32m\u001b]9;8;\"USERNAME\"\u001b\\@\u001b]9;8;\"COMPUTERNAME\"\u001b\\ \u001b[92mc:\\Worker\\Python\\PythonMailRu\\2.DataStructuresAndFunctions\u001b[90m\r\n",
      "\u001b[90m#\u001b[m \u001b]9;12\u001b\\python KeyValStorage.py --key key1 --val val2\n",
      "\r\n",
      "\u001b[m\u001b[32m\u001b]9;8;\"USERNAME\"\u001b\\@\u001b]9;8;\"COMPUTERNAME\"\u001b\\ \u001b[92mc:\\Worker\\Python\\PythonMailRu\\2.DataStructuresAndFunctions\u001b[90m\r\n",
      "\u001b[90m#\u001b[m \u001b]9;12\u001b\\"
     ]
    }
   ],
   "source": [
    "%%cmd\n",
    "python KeyValStorage.py --key key1 --val val2"
   ]
  },
  {
   "cell_type": "code",
   "execution_count": 30,
   "id": "2d61694c",
   "metadata": {},
   "outputs": [
    {
     "name": "stdout",
     "output_type": "stream",
     "text": [
      "Microsoft Windows [Version 10.0.18363.1734]\r\n",
      "(c) 2019 Microsoft Corporation. All rights reserved.\r\n",
      "\r\n",
      "\u001b[m\u001b[32m\u001b]9;8;\"USERNAME\"\u001b\\@\u001b]9;8;\"COMPUTERNAME\"\u001b\\ \u001b[92mc:\\Worker\\Python\\PythonMailRu\\2.DataStructuresAndFunctions\u001b[90m\r\n",
      "\u001b[90m#\u001b[m \u001b]9;12\u001b\\python KeyValStorage.py --key key1\n",
      "val1, val2\r\n",
      "\r\n",
      "\u001b[m\u001b[32m\u001b]9;8;\"USERNAME\"\u001b\\@\u001b]9;8;\"COMPUTERNAME\"\u001b\\ \u001b[92mc:\\Worker\\Python\\PythonMailRu\\2.DataStructuresAndFunctions\u001b[90m\r\n",
      "\u001b[90m#\u001b[m \u001b]9;12\u001b\\"
     ]
    }
   ],
   "source": [
    "%%cmd\n",
    "python KeyValStorage.py --key key1"
   ]
  },
  {
   "cell_type": "code",
   "execution_count": 31,
   "id": "45df2178",
   "metadata": {},
   "outputs": [
    {
     "name": "stdout",
     "output_type": "stream",
     "text": [
      "Microsoft Windows [Version 10.0.18363.1734]\r\n",
      "(c) 2019 Microsoft Corporation. All rights reserved.\r\n",
      "\r\n",
      "\u001b[m\u001b[32m\u001b]9;8;\"USERNAME\"\u001b\\@\u001b]9;8;\"COMPUTERNAME\"\u001b\\ \u001b[92mc:\\Worker\\Python\\PythonMailRu\\2.DataStructuresAndFunctions\u001b[90m\r\n",
      "\u001b[90m#\u001b[m \u001b]9;12\u001b\\python KeyValStorage.py --key key2 --val val21\n",
      "\r\n",
      "\u001b[m\u001b[32m\u001b]9;8;\"USERNAME\"\u001b\\@\u001b]9;8;\"COMPUTERNAME\"\u001b\\ \u001b[92mc:\\Worker\\Python\\PythonMailRu\\2.DataStructuresAndFunctions\u001b[90m\r\n",
      "\u001b[90m#\u001b[m \u001b]9;12\u001b\\python KeyValStorage.py --key key2 --val val22\n",
      "\r\n",
      "\u001b[m\u001b[32m\u001b]9;8;\"USERNAME\"\u001b\\@\u001b]9;8;\"COMPUTERNAME\"\u001b\\ \u001b[92mc:\\Worker\\Python\\PythonMailRu\\2.DataStructuresAndFunctions\u001b[90m\r\n",
      "\u001b[90m#\u001b[m \u001b]9;12\u001b\\"
     ]
    }
   ],
   "source": [
    "%%cmd\n",
    "python KeyValStorage.py --key key2 --val val21\n",
    "python KeyValStorage.py --key key2 --val val22"
   ]
  },
  {
   "cell_type": "markdown",
   "id": "bfca4224",
   "metadata": {},
   "source": [
    "## Пример декоратора to_json"
   ]
  },
  {
   "cell_type": "code",
   "execution_count": 33,
   "id": "baa90ffb",
   "metadata": {},
   "outputs": [],
   "source": [
    "import functools\n",
    "import json\n",
    "\n",
    "def to_json(func):\n",
    "    @functools.wraps(func)\n",
    "    def inner(*args, **kwargs):\n",
    "        return json.dumps(func(*args, **kwargs))\n",
    "    return inner"
   ]
  },
  {
   "cell_type": "code",
   "execution_count": 35,
   "id": "000d2dfd",
   "metadata": {},
   "outputs": [
    {
     "data": {
      "text/plain": [
       "'{\"data\": 42}'"
      ]
     },
     "execution_count": 35,
     "metadata": {},
     "output_type": "execute_result"
    }
   ],
   "source": [
    "@to_json\n",
    "def get_data():\n",
    "    return {'data': 42}\n",
    "\n",
    "get_data()"
   ]
  }
 ],
 "metadata": {
  "kernelspec": {
   "display_name": "Python 3 (ipykernel)",
   "language": "python",
   "name": "python3"
  },
  "language_info": {
   "codemirror_mode": {
    "name": "ipython",
    "version": 3
   },
   "file_extension": ".py",
   "mimetype": "text/x-python",
   "name": "python",
   "nbconvert_exporter": "python",
   "pygments_lexer": "ipython3",
   "version": "3.9.6"
  }
 },
 "nbformat": 4,
 "nbformat_minor": 5
}
