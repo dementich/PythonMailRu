{
 "cells": [
  {
   "cell_type": "markdown",
   "id": "ac57198d",
   "metadata": {},
   "source": [
    "# Магические методы классов\n",
    "\n",
    "Сначала рассмотрим пример, использующий магические методы"
   ]
  },
  {
   "cell_type": "code",
   "execution_count": 1,
   "id": "30edb21e",
   "metadata": {},
   "outputs": [
    {
     "name": "stdout",
     "output_type": "stream",
     "text": [
      "{'name': 'Jane Doe', 'email': 'janedoe@example.com'}\n"
     ]
    }
   ],
   "source": [
    "class User:\n",
    "    def __init__(self, name, email):\n",
    "        self.name = name\n",
    "        self.email = email\n",
    "        \n",
    "    def get_email_data(self):\n",
    "        return {'name': self.name, 'email': self.email}\n",
    "    \n",
    "jane = User('Jane Doe', 'janedoe@example.com')\n",
    "print(jane.get_email_data())"
   ]
  },
  {
   "cell_type": "markdown",
   "id": "5eab56d1",
   "metadata": {},
   "source": [
    "В целом, с магическими методами все просто - их надо знать=), а детальное разъяснение здесь бессмысленно, т.к. оно неполное. В лекции упоминались методы `__init__()`, `__new__()`, `__del__()`, `__str__()`, `__eq__()`, `__hash__()`, `__getattribute__()` (вызывается при всяком обращении к атрибуту), `__getattr__()` (вызывается, когда атрибут не найден), `__setattr__()` ,`__delattr__()` ,`__call__()` (определяет поведение при вызове класса), `__add__()`, `__getitem__()`, `__setitem__()`, ``, ``, ``"
   ]
  },
  {
   "cell_type": "markdown",
   "id": "59c6ba22",
   "metadata": {},
   "source": [
    "Интересный пример на декораторы и метод `__call__()`:"
   ]
  },
  {
   "cell_type": "code",
   "execution_count": 2,
   "id": "5f96130c",
   "metadata": {},
   "outputs": [],
   "source": [
    "class Logger:\n",
    "    def __init__(self, filename):\n",
    "        self.filename = filename\n",
    "        \n",
    "    def __call__(self, func):\n",
    "        def wrapped(*args, **kwargs):    \n",
    "            with open(self.filename, 'a') as f:\n",
    "                f.write('Oh, Danny boy...')\n",
    "            return func(*args, **kwargs)\n",
    "        return wrapped\n",
    "    \n",
    "logger = Logger('log.txt')\n",
    "\n",
    "@logger\n",
    "def completely_useless_function():\n",
    "    pass"
   ]
  },
  {
   "cell_type": "markdown",
   "id": "1bcabbf3",
   "metadata": {},
   "source": [
    "# Итераторы\n",
    "\n",
    "Сначала сформулируем, чем итераторы отличаются от генераторов. Итератор - это любой объект, по которому можно проитерироваться, а генератор - это функция/метод, чьи значения возвращаются посредством конструкции `yield`. То есть, итератор - это более общая концепция, а генератор - более частная. Любой генератор является итератором, но не наоборот.\n",
    "\n",
    "Для того, чтобы объект считался итератором, в нем должны быть реализованы либо методы `__iter__()` (возвращает объект для итерации в исходном состоянии) и `__next__()` (возвращает следующий элемент коллекции), либо метод `__getitem__()`. Реализуем свой вариант итератора:"
   ]
  },
  {
   "cell_type": "code",
   "execution_count": 3,
   "id": "65b48c2b",
   "metadata": {},
   "outputs": [
    {
     "name": "stdout",
     "output_type": "stream",
     "text": [
      "1\n",
      "4\n",
      "9\n"
     ]
    }
   ],
   "source": [
    "class SquareIterator:\n",
    "    def __init__(self, start, stop):\n",
    "        self.current = start\n",
    "        self.stop = stop\n",
    "        \n",
    "    def __iter__(self):\n",
    "        return self\n",
    "    \n",
    "    def __next__(self):\n",
    "        if self.current >= self.stop:\n",
    "            raise StopIteration\n",
    "        result = self.current ** 2\n",
    "        self.current += 1\n",
    "        return result\n",
    "    \n",
    "for num in SquareIterator(1, 4):\n",
    "    print(num)"
   ]
  },
  {
   "cell_type": "markdown",
   "id": "2bf4f787",
   "metadata": {},
   "source": [
    "Код выше подразумевает, что итерируемся мы по самому объекту класса"
   ]
  },
  {
   "cell_type": "code",
   "execution_count": 4,
   "id": "8975b83e",
   "metadata": {},
   "outputs": [
    {
     "name": "stdout",
     "output_type": "stream",
     "text": [
      "a\n",
      "b\n",
      "c\n",
      "d\n",
      "e\n"
     ]
    }
   ],
   "source": [
    "class IndexIterable:\n",
    "    def __init__(self, obj):\n",
    "        self.obj = obj\n",
    "        \n",
    "    def __getitem__(self, index):\n",
    "        return self.obj[index]\n",
    "    \n",
    "for char in IndexIterable('abcde'):\n",
    "    print(char)"
   ]
  },
  {
   "cell_type": "markdown",
   "id": "f63ad72d",
   "metadata": {},
   "source": [
    "# Контекстные менеджеры\n",
    "\n",
    "Мы с контекстными менеджерами регулярно работаем при работе с файлами через конструкцию `with`:\n",
    "\n",
    "```python\n",
    "with open('access_log.log', 'a') as f:\n",
    "    f.write('New access')\n",
    "```\n",
    "\n",
    "Попробуем определить собственный контекстный менеджер:"
   ]
  },
  {
   "cell_type": "code",
   "execution_count": 5,
   "id": "05c85b76",
   "metadata": {},
   "outputs": [],
   "source": [
    "class open_for_append:\n",
    "    def __init__(self, filename):\n",
    "        self.f = open(filename, 'a')\n",
    "        \n",
    "    def __enter__(self):\n",
    "        return self.f\n",
    "    \n",
    "    def __exit__(self, *args):\n",
    "        self.f.close()"
   ]
  },
  {
   "cell_type": "markdown",
   "id": "2e934b9d",
   "metadata": {},
   "source": [
    "Любопытная особенность контекстных менеджеров состоит в том, что там можно обрабатывать исключения:"
   ]
  },
  {
   "cell_type": "code",
   "execution_count": 6,
   "id": "593e3de3",
   "metadata": {},
   "outputs": [
    {
     "name": "stdout",
     "output_type": "stream",
     "text": [
      "It's okay\n"
     ]
    }
   ],
   "source": [
    "class suppress_exception:\n",
    "    def __init__(self, exc_type):\n",
    "        self.exc_type = exc_type\n",
    "        \n",
    "    def __enter__(self):\n",
    "        return\n",
    "    \n",
    "    def __exit__(self, exc_type, exc_value, traceback):\n",
    "        if exc_type == self.exc_type:\n",
    "            print(\"It's okay\")\n",
    "            return True\n",
    "\n",
    "with suppress_exception(ZeroDivisionError):\n",
    "    infinity = 1/0"
   ]
  },
  {
   "cell_type": "markdown",
   "id": "b8533ae1",
   "metadata": {},
   "source": [
    "Теперь напишем свой контекстный менеджер, который считает время, которое код провел внутри него."
   ]
  },
  {
   "cell_type": "code",
   "execution_count": 7,
   "id": "4a95d0ec",
   "metadata": {},
   "outputs": [
    {
     "name": "stdout",
     "output_type": "stream",
     "text": [
      "0:00:01.002828\n",
      "0:00:02.017125\n"
     ]
    }
   ],
   "source": [
    "from datetime import datetime\n",
    "import time\n",
    "\n",
    "class timer:\n",
    "    def __init__(self):\n",
    "        self.enter_time = datetime.now()\n",
    "        \n",
    "    def current_time(self):\n",
    "        return datetime.now() - self.enter_time\n",
    "        \n",
    "    def __enter__(self):\n",
    "        return self\n",
    "        \n",
    "    def __exit__(self, *args):\n",
    "        print(self.current_time())\n",
    "        \n",
    "with timer() as t:\n",
    "    time.sleep(1)\n",
    "    print(t.current_time())\n",
    "    time.sleep(1)"
   ]
  },
  {
   "cell_type": "markdown",
   "id": "b06edbbf",
   "metadata": {},
   "source": [
    "# Задание 1\n",
    "\n",
    "В этом задании вам нужно создать интерфейс для работы с файлами. Интерфейс должен предоставлять следующие возможности по работе с файлами:\n",
    "\n",
    "- чтение из файла, метод __read__ возвращает строку с текущим содержанием файла  \n",
    "\n",
    "- запись в файл, метод __write__ принимает в качестве аргумента строку с новым содержанием файла\n",
    "\n",
    "- сложение объектов типа __File__, результатом сложения является объект класса __File__, при этом создается новый файл и файловый объект, в котором содержимое второго файла добавляется к содержимому первого файла. Новый файл должен создаваться в директории, полученной с помощью функции `tempfile.gettempdir`. Для получения нового пути можно использовать `os.path.join`.\n",
    "\n",
    "- возвращать в качестве строкового представления объекта класса __File__ полный путь до файла\n",
    "\n",
    "- поддерживать протокол итерации, причем итерация проходит по строкам файла\n",
    "\n",
    "При создании экземпляра класса __File__ в конструктор передается полный путь до файла на файловой системе. Если файла с таким путем не существует, он должен быть создан при инициализации.\n",
    "\n",
    "__Пример работы:__\n",
    "\n",
    "```python\n",
    ">>> import os.path\n",
    ">>> from solution import File\n",
    ">>> path_to_file = 'some_filename'\n",
    ">>> os.path.exists(path_to_file)\n",
    "False\n",
    ">>> file_obj = File(path_to_file)\n",
    ">>> os.path.exists(path_to_file)\n",
    "True\n",
    ">>> print(file_obj)\n",
    "some_filename\n",
    ">>> file_obj.read()\n",
    "''\n",
    ">>> file_obj.write('some text')\n",
    "9\n",
    ">>> file_obj.read()\n",
    "'some text'\n",
    ">>> file_obj.write('other text')\n",
    "10\n",
    ">>> file_obj.read()\n",
    "'other text'\n",
    ">>> file_obj_1 = File(path_to_file + '_1')\n",
    ">>> file_obj_2 = File(path_to_file + '_2')\n",
    ">>> file_obj_1.write('line 1\\n')\n",
    "7\n",
    ">>> file_obj_2.write('line 2\\n')\n",
    "7\n",
    ">>> new_file_obj = file_obj_1 + file_obj_2\n",
    ">>> isinstance(new_file_obj, File)\n",
    "True\n",
    ">>> print(new_file_obj)\n",
    "C:\\Users\\Media\\AppData\\Local\\Temp\\71b9e7b695f64d85a7488f07f2bc051c\n",
    ">>> for line in new_file_obj:\n",
    "....    print(ascii(line))  \n",
    "'line 1\\n'\n",
    "'line 2\\n'\n",
    ">>> new_path_to_file = str(new_file_obj)\n",
    ">>> os.path.exists(new_path_to_file)\n",
    "True\n",
    ">>> file_obj_3 = File(new_path_to_file)\n",
    ">>> print(file_obj_3)\n",
    "C:\\Users\\Media\\AppData\\Local\\Temp\\71b9e7b695f64d85a7488f07f2bc051c\n",
    ">>>\n",
    "```\n"
   ]
  },
  {
   "cell_type": "code",
   "execution_count": 8,
   "id": "d3620bc6",
   "metadata": {},
   "outputs": [],
   "source": [
    "import os.path\n",
    "import tempfile\n",
    "\n",
    "class File:\n",
    "    def __init__(self, file_name):\n",
    "        self.file_name = file_name\n",
    "        self.data = None\n",
    "        if not os.path.exists(self.file_name):\n",
    "            open(self.file_name, 'a').close()\n",
    "        \n",
    "    def read(self):\n",
    "        with open(self.file_name) as fd:\n",
    "            return fd.read()\n",
    "        \n",
    "    def write(self, data):\n",
    "        with open(self.file_name, 'w') as fd:\n",
    "            fd.write(data)\n",
    "            \n",
    "    def __str__(self):\n",
    "        return self.file_name\n",
    "    \n",
    "    def __add__(self, other):\n",
    "        file_path = ''\n",
    "        with tempfile.NamedTemporaryFile(dir=tempfile.gettempdir(), mode='w', delete=False) as fd:\n",
    "            fd.write(self.read() + '\\n' + other.read(), )\n",
    "            file_path = os.path.join(tempfile.gettempdir(), fd.name)\n",
    "            #fd.flush()\n",
    "        return File(file_path)\n",
    "    \n",
    "    def __getitem__(self, index):\n",
    "        if self.data is None:\n",
    "            with open(self.file_name) as fd:\n",
    "                self.data = fd.readlines()\n",
    "        return self.data[index]"
   ]
  },
  {
   "cell_type": "code",
   "execution_count": 9,
   "id": "36eefaeb",
   "metadata": {},
   "outputs": [
    {
     "name": "stdout",
     "output_type": "stream",
     "text": [
      "C:\\Users\\kb255048\\AppData\\Local\\Temp\\tmpbmx5jxn5\n"
     ]
    }
   ],
   "source": [
    "f1 = File('tmp.data')\n",
    "f1.read()\n",
    "f1.write('lorum ipsum...')\n",
    "f1.read()\n",
    "f2 = File('foo.data')\n",
    "f2.write('si vis pacem...')\n",
    "f3 = f1 + f2\n",
    "print(f3)"
   ]
  },
  {
   "cell_type": "code",
   "execution_count": 10,
   "id": "d579dc17",
   "metadata": {},
   "outputs": [
    {
     "name": "stdout",
     "output_type": "stream",
     "text": [
      "lorum ipsum...\n",
      "si vis pacem...\n"
     ]
    }
   ],
   "source": [
    "print(f3.read())"
   ]
  },
  {
   "cell_type": "code",
   "execution_count": 11,
   "id": "dc2d9b9e",
   "metadata": {},
   "outputs": [
    {
     "name": "stdout",
     "output_type": "stream",
     "text": [
      "'lorum ipsum...\\n'\n",
      "'si vis pacem...'\n"
     ]
    }
   ],
   "source": [
    "for line in f3:\n",
    "    print(ascii(line))"
   ]
  },
  {
   "cell_type": "markdown",
   "id": "ffb8edf6",
   "metadata": {},
   "source": [
    "# Дескрипторы\n",
    "\n",
    "Мы их уже использовали ранее при работе со свойствами, т.е. `property()` - это дескриптор. Говоря более формально, дескриптор в Python - это средства языка, позволяющее переопределить работу кода, отвечающего за обращение к какому-либо атрибуту объекта. В качестве примера определим свой собственный дескриптор:"
   ]
  },
  {
   "cell_type": "code",
   "execution_count": 12,
   "id": "bb15cdfc",
   "metadata": {},
   "outputs": [],
   "source": [
    "class Descriptor:\n",
    "    def __get__(self, obj, obj_type):\n",
    "        print('get')\n",
    "    \n",
    "    def __set__(self, obj, value):\n",
    "        print('set')\n",
    "    \n",
    "    def __delete__(self, obj):\n",
    "        print('delete')\n",
    "        \n",
    "class Class:\n",
    "    attr = Descriptor()\n",
    "    \n",
    "instance = Class()"
   ]
  },
  {
   "cell_type": "markdown",
   "id": "860d12f7",
   "metadata": {},
   "source": [
    "В коде выше мы фактически переопределили поведение класса `Class` при доступе к атрибуту `attr`, т.е. при его чтении, записи или удалении. \n",
    "\n",
    "Касаемо дескрипторов важно понимать их приоритет над работой с атрибутами:  \n",
    "1. Если в дескрипторе переопределены методы `__get__()` и `__set__()`, то он называется data descriptor и имеет приоритет как при чтении, так и при записи в атрибут.  \n",
    "2. Если в дескрипторе переопределен только метод `__get__()`, то он называется non-data descriptor и имеет приоритет только при чтении, но не при записи. В таком случае при записи данные пойдут напрямую в атрибут.\n",
    "\n",
    "Также, не совсем очевидно предназначение параметров `obj` и `obj_type`. Дело в том, что дескриптор можно вызывать не только через объект, но и через класс, и тогда, очевидно, поведение должно быть разным. Параметры `obj` и `obj_type` позволяют определить, из какого объекта какого класса вызван метод."
   ]
  },
  {
   "cell_type": "code",
   "execution_count": 13,
   "id": "6123febd",
   "metadata": {},
   "outputs": [
    {
     "name": "stdout",
     "output_type": "stream",
     "text": [
      "get\n"
     ]
    }
   ],
   "source": [
    "instance.attr"
   ]
  },
  {
   "cell_type": "code",
   "execution_count": 14,
   "id": "3ff04056",
   "metadata": {},
   "outputs": [
    {
     "name": "stdout",
     "output_type": "stream",
     "text": [
      "set\n"
     ]
    }
   ],
   "source": [
    "instance.attr = 42"
   ]
  },
  {
   "cell_type": "code",
   "execution_count": 15,
   "id": "73c63773",
   "metadata": {},
   "outputs": [
    {
     "name": "stdout",
     "output_type": "stream",
     "text": [
      "delete\n"
     ]
    }
   ],
   "source": [
    "del instance.attr"
   ]
  },
  {
   "cell_type": "markdown",
   "id": "032daea3",
   "metadata": {},
   "source": [
    "В коде выше мы фактически переопределили поведение класса `Class` при доступе к атрибуту `attr`, т.е. при его чтении, записи или удалении. \n",
    "\n",
    "Касаемо дескрипторов важно понимать их приоритет над работой с атрибутами:  \n",
    "1. Если в дескрипторе переопределены методы `__get__()` и `__set__()`, то он называется data descriptor и имеет приоритет как при чтении, так и при записи в атрибут.  \n",
    "2. Если в дескрипторе переопределен только метод `__get__()`, то он называется non-data descriptor и имеет приоритет только при чтении, но не при записи. В таком случае при записи данные пойдут напрямую в атрибут."
   ]
  },
  {
   "cell_type": "markdown",
   "id": "ba0c4e6f",
   "metadata": {},
   "source": [
    "Напишем более реальный пример дескриптора, который бы логировал каждое изменение атрибута класса."
   ]
  },
  {
   "cell_type": "markdown",
   "id": "f4ccc695",
   "metadata": {},
   "source": [
    "В коде выше мы фактически переопределили поведение класса `Class` при доступе к атрибуту `attr`, т.е. при его чтении, записи или удалении. \n",
    "\n",
    "Касаемо дескрипторов важно понимать их приоритет над работой с атрибутами:  \n",
    "1. Если в дескрипторе переопределены методы `__get__()` и `__set__()`, то он называется data descriptor и имеет приоритет как при чтении, так и при записи в атрибут.  \n",
    "2. Если в дескрипторе переопределен только метод `__get__()`, то он называется non-data descriptor и имеет приоритет только при чтении, но не при записи. В таком случае при записи данные пойдут напрямую в атрибут."
   ]
  },
  {
   "cell_type": "code",
   "execution_count": 16,
   "id": "2cf5323b",
   "metadata": {},
   "outputs": [
    {
     "name": "stdout",
     "output_type": "stream",
     "text": [
      "['150\\n', '200\\n', '42\\n', '150\\n', '200\\n', '42\\n', '150\\n', '200\\n', '42\\n', '150\\n', '200\\n', '42\\n']\n"
     ]
    }
   ],
   "source": [
    "class ImportantValue:\n",
    "    def __init__(self, amount):\n",
    "        self.amount = amount\n",
    "        \n",
    "    def __get__(self, obj, obj_type):\n",
    "        return self.amount\n",
    "    \n",
    "    def __set__(self, obj, value):\n",
    "        with open('acc_log.txt', 'a') as fd:\n",
    "            fd.write(str(value) + '\\n')\n",
    "        self.amount = value\n",
    "        \n",
    "class Account:\n",
    "    amount = ImportantValue(100)\n",
    "    \n",
    "bobs_account = Account()\n",
    "bobs_account.amount = 150\n",
    "bobs_account.amount = 200\n",
    "bobs_account.amount = 42\n",
    "\n",
    "with open('acc_log.txt', 'r') as fd:\n",
    "    print(fd.readlines())"
   ]
  },
  {
   "cell_type": "markdown",
   "id": "7dbf769e",
   "metadata": {},
   "source": [
    "Ниже приведен код, использующий декоратор `property`. Раньше мы уже работали с декораторами `property.getter` и `property.setter`. Но то, что приведено ниже позволяет функцию использовать как атрибут без возможности записи."
   ]
  },
  {
   "cell_type": "code",
   "execution_count": 17,
   "id": "e3492b2e",
   "metadata": {},
   "outputs": [],
   "source": [
    "class User:\n",
    "    def __init__(self, first_name, last_name):\n",
    "        self.first_name = first_name\n",
    "        self.last_name = last_name\n",
    "        \n",
    "    @property\n",
    "    def full_name(self):\n",
    "        return f'{self.first_name} {self.last_name}'"
   ]
  },
  {
   "cell_type": "markdown",
   "id": "b627d47d",
   "metadata": {},
   "source": [
    "Попробуем сделать свой аналог такого `property`:"
   ]
  },
  {
   "cell_type": "code",
   "execution_count": 18,
   "id": "8526221d",
   "metadata": {},
   "outputs": [],
   "source": [
    "class Property:\n",
    "    def __init__(self, getter):\n",
    "        self.getter = getter\n",
    "        \n",
    "    def __get__(self, obj, obj_type=None):\n",
    "        if obj is None:\n",
    "            return self\n",
    "        return self.getter(obj)"
   ]
  },
  {
   "cell_type": "markdown",
   "id": "3a4e4844",
   "metadata": {},
   "source": [
    "Здесь наиболее интересным является метод `__get__()`. Он на входе кроме прочего принимает объект, из которого данный метод вызывается и тип этого объекта. При этом код предусматривает, что метод может быть вызван из класса, и тогда ничего не делает. А теперь применим этот `Property`:"
   ]
  },
  {
   "cell_type": "code",
   "execution_count": 19,
   "id": "75d4a888",
   "metadata": {},
   "outputs": [
    {
     "name": "stdout",
     "output_type": "stream",
     "text": [
      "original\n",
      "custom sugar\n",
      "custom pure\n"
     ]
    }
   ],
   "source": [
    "class Class:\n",
    "    @property\n",
    "    def original(self):\n",
    "        return 'original'\n",
    "    \n",
    "    @Property\n",
    "    def custom_sugar(self):\n",
    "        return 'custom sugar'\n",
    "    \n",
    "    def custom_pure(self):\n",
    "        return 'custom pure'\n",
    "    \n",
    "    custom_pure = Property(custom_pure)\n",
    "    \n",
    "obj = Class()\n",
    "print(obj.original)\n",
    "print(obj.custom_sugar)\n",
    "print(obj.custom_pure)"
   ]
  },
  {
   "cell_type": "markdown",
   "id": "fbf0f78c",
   "metadata": {},
   "source": [
    "С помощью дескрипторов в Python реализовано достаточно много функционала. Например, с помощью дескрипторов мы можем явно ограничить список атрибутов объекта. Для этого пригодится конструкция `__slots__`, с помощью которой Python определяет дескрипторы для каждого из атрибутов. При этом в объекте не ведется словарь атрибутов."
   ]
  },
  {
   "cell_type": "code",
   "execution_count": 20,
   "id": "921b9c1a",
   "metadata": {},
   "outputs": [
    {
     "name": "stdout",
     "output_type": "stream",
     "text": [
      "'Class' object has no attribute 'luke'\n"
     ]
    }
   ],
   "source": [
    "class Class:\n",
    "    __slots__ = ['anakin']\n",
    "    \n",
    "    def init(self):\n",
    "        self.anakin = 'the choosen one'\n",
    "        \n",
    "obj = Class()\n",
    "\n",
    "try:\n",
    "    obj.luke = 'the choosen too'\n",
    "except AttributeError as e:\n",
    "    print(e)"
   ]
  },
  {
   "cell_type": "markdown",
   "id": "75166ff2",
   "metadata": {},
   "source": [
    "# Метаклассы\n",
    "\n",
    "Метакласс - это класс, который может создавать другие классы. Важно понимать, что это не класс-родитель, а именно класс-создатель. Пример:"
   ]
  },
  {
   "cell_type": "code",
   "execution_count": 21,
   "id": "3f571b2d",
   "metadata": {},
   "outputs": [
    {
     "name": "stdout",
     "output_type": "stream",
     "text": [
      "<class '__main__.Class'>\n",
      "<class 'type'>\n",
      "False\n",
      "True\n",
      "<class 'type'>\n"
     ]
    }
   ],
   "source": [
    "class Class:\n",
    "    pass\n",
    "obj = Class()\n",
    "print(type(obj))\n",
    "print(type(Class))\n",
    "print(issubclass(Class, type))\n",
    "print(issubclass(Class, object))\n",
    "print(type(type))"
   ]
  },
  {
   "cell_type": "markdown",
   "id": "1c2efd5f",
   "metadata": {},
   "source": [
    "Важно понимать, что в Python конструкция\n",
    "\n",
    "```python\n",
    "class Class:\n",
    "    pass\n",
    "```\n",
    "\n",
    "эквивалентна следующему вызову:\n",
    "\n",
    "```python\n",
    "NewClass = type('NewClass', (), {})\n",
    "```\n",
    "\n",
    "Из сказанного выше следует, что `type` - это метакласс. Создадим свой собственный метакласс, который сможет создавать объекты:"
   ]
  },
  {
   "cell_type": "code",
   "execution_count": 22,
   "id": "de0d42a8",
   "metadata": {},
   "outputs": [
    {
     "name": "stdout",
     "output_type": "stream",
     "text": [
      "Creating A...\n"
     ]
    }
   ],
   "source": [
    "class Meta(type):\n",
    "    def __new__(cls, name, parents, attrs):\n",
    "        print(f'Creating {name}...')\n",
    "        \n",
    "        if 'class_id' not in attrs:\n",
    "            attrs['class_id'] = name.lower()\n",
    "            \n",
    "        return super().__new__(cls, name, parents, attrs)\n",
    "\n",
    "class A(metaclass=Meta):\n",
    "    pass"
   ]
  },
  {
   "cell_type": "markdown",
   "id": "0b704b22",
   "metadata": {},
   "source": [
    "На практике метаклассы оказались полезны при поиске подклассов текущего класса. Попробуем реализовать такой функционал самостоятельно:"
   ]
  },
  {
   "cell_type": "code",
   "execution_count": 23,
   "id": "50c1157f",
   "metadata": {},
   "outputs": [
    {
     "name": "stdout",
     "output_type": "stream",
     "text": [
      "Initializing base\n",
      "Initializing a\n",
      "Initializing b\n",
      "{'a': <class '__main__.a'>, 'b': <class '__main__.b'>}\n",
      "[<class '__main__.a'>, <class '__main__.b'>]\n"
     ]
    }
   ],
   "source": [
    "class Meta(type):\n",
    "    def __init__(cls, name, bases, attrs):\n",
    "        print(f'Initializing {name}')\n",
    "        if not hasattr(cls, 'registry'):\n",
    "            cls.registry = {}\n",
    "        else:\n",
    "            cls.registry[name.lower()] = cls\n",
    "        super().__init__(name, bases, attrs)\n",
    "        \n",
    "class base(metaclass=Meta): pass\n",
    "class a(base): pass\n",
    "class b(base): pass\n",
    "\n",
    "print(base.registry)\n",
    "print(base.__subclasses__())"
   ]
  },
  {
   "cell_type": "markdown",
   "id": "f1ab4e7e",
   "metadata": {},
   "source": [
    "# Абстрактные методы\n",
    "\n",
    "По-красивому класс с абстрактными методами можно определить вот так:"
   ]
  },
  {
   "cell_type": "code",
   "execution_count": 24,
   "id": "80346249",
   "metadata": {},
   "outputs": [
    {
     "name": "stdout",
     "output_type": "stream",
     "text": [
      "Can't instantiate abstract class Child with abstract method send\n"
     ]
    }
   ],
   "source": [
    "from abc import ABCMeta, abstractmethod\n",
    "\n",
    "class Sender(metaclass=ABCMeta):\n",
    "    @abstractmethod\n",
    "    def send(self):\n",
    "        \"Do something...\"\n",
    "\n",
    "class Child(Sender): pass\n",
    "\n",
    "try:\n",
    "    Child()\n",
    "except TypeError as err:\n",
    "    print(err)"
   ]
  },
  {
   "cell_type": "markdown",
   "id": "584a1568",
   "metadata": {},
   "source": [
    "На практике же абстрактные методы реализуются куда проще:"
   ]
  },
  {
   "cell_type": "code",
   "execution_count": 25,
   "id": "f4a85c8a",
   "metadata": {},
   "outputs": [],
   "source": [
    "class PythonWay:\n",
    "    def send(self):\n",
    "        raise NotImplementedError"
   ]
  },
  {
   "cell_type": "markdown",
   "id": "cbb61241",
   "metadata": {},
   "source": [
    "# Задание 2\n",
    "\n",
    "Часто при зачислении каких-то средств на счет с нас берут комиссию. Давайте реализуем похожий механизм с помощью дескрипторов. Напишите дескриптор Value, который будет использоваться в нашем классе Account."
   ]
  },
  {
   "cell_type": "code",
   "execution_count": 26,
   "id": "b9a5ba07",
   "metadata": {},
   "outputs": [
    {
     "name": "stdout",
     "output_type": "stream",
     "text": [
      "90.0\n"
     ]
    }
   ],
   "source": [
    "class Value:\n",
    "    def __init__(self):\n",
    "        self.amount = 0\n",
    "        \n",
    "    def __get__(self, obj, obj_type=None):\n",
    "        if obj is None:\n",
    "            return self\n",
    "        return self.amount\n",
    "    \n",
    "    def __set__(self, obj, value):\n",
    "        self.amount = self.amount + value * (1 - obj.commission)\n",
    "\n",
    "class Account:\n",
    "    amount = Value()\n",
    "    \n",
    "    def __init__(self, commission):\n",
    "        self.commission = commission\n",
    "        \n",
    "new_account = Account(0.1)\n",
    "new_account.amount = 100\n",
    "print(new_account.amount)"
   ]
  }
 ],
 "metadata": {
  "kernelspec": {
   "display_name": "Python 3",
   "language": "python",
   "name": "python3"
  },
  "language_info": {
   "codemirror_mode": {
    "name": "ipython",
    "version": 3
   },
   "file_extension": ".py",
   "mimetype": "text/x-python",
   "name": "python",
   "nbconvert_exporter": "python",
   "pygments_lexer": "ipython3",
   "version": "3.9.5"
  }
 },
 "nbformat": 4,
 "nbformat_minor": 5
}
