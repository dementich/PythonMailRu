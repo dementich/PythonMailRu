{
 "cells": [
  {
   "cell_type": "markdown",
   "id": "a0c7c9af",
   "metadata": {},
   "source": [
    "# Отладка\n",
    "\n",
    "Напишем сначала функцию, которую будем отлаживать. Это будет функция, которая принимает на вход url сайта и ищет в нем заданную подстроку."
   ]
  },
  {
   "cell_type": "code",
   "execution_count": 6,
   "id": "c0c76e99",
   "metadata": {},
   "outputs": [
    {
     "name": "stdout",
     "output_type": "stream",
     "text": [
      "Substring mail is found 993 time(s) in mail.ru.\n"
     ]
    }
   ],
   "source": [
    "import requests\n",
    "import re\n",
    "\n",
    "def main(site_url, substring):\n",
    "    site_code = get_site_code(site_url)\n",
    "    matching_substrings = get_matching_substrings(site_code, substring)\n",
    "    print(f'Substring {substring} is found {len(matching_substrings)} time(s) in {site_url}.')\n",
    "    \n",
    "def get_site_code(site_url):\n",
    "    if not site_url.startswith('http'):\n",
    "        site_url = 'http://' + site_url\n",
    "    return requests.get(site_url).text\n",
    "\n",
    "def get_matching_substrings(source, substring):\n",
    "    return re.findall(substring, source)\n",
    "\n",
    "main('mail.ru', 'mail')"
   ]
  },
  {
   "cell_type": "markdown",
   "id": "08eb2d5b",
   "metadata": {},
   "source": [
    "За отладку отвечает модуль pdf, а включается он либо функцией `set_trace()`, либо через командную строку: `python -m pdf <file.py>`. Доступны в нем следующие команды:\n",
    "\n",
    "**ОСНОВЫ**\n",
    "\n",
    "- h(elp) - показать доступные команды.  \n",
    "- h(elp) cmd - показать справку по команде cmd.  \n",
    "- q(uit) - завершить работу программы.  \n",
    "\n",
    "**РАБОТА С ДАННЫМИ**\n",
    "\n",
    "- p(rint) expr - показать результат выражения expr.  \n",
    "- pp expr - показать отформатированный результат выражения expr.  \n",
    "- w(here) - показать текущий шаг и стек вызовов.  \n",
    "- l(ist) - показать текущую строку кода и 11 строк вокруг нее.  \n",
    "- l(ist) first last - показать строки с first до last.  \n",
    "- a(rgs) - показать параметры, с которыми вызвана текущая функция.  \n",
    "\n",
    "**ПОШАГОВОЕ ВЫПОЛНЕНИЕ**\n",
    "\n",
    "- \\<ENTER\\> - повторно выполнить последнюю команду.  \n",
    "- n(ext) - выполнить текущий шаг (step over).  \n",
    "- s(tep) - провалиться внутрь текущего шага (step into).  \n",
    "- r(eturn) - продолжить исполнение кода до завершения работы текущей функции.  \n",
    "- c(ontinue) - продолжить исполнение кода до ближайшей точки останова.\n",
    "- u(p) - перейти выше по стеку.  \n",
    "- d(own) - перейти ниже по стеку.  \n",
    "\n",
    "**ТОЧКИ ОСТАНОВА**\n",
    "\n",
    "- b(reak) - показать все точки останова.  \n",
    "- b(reak) n - поставить точку останова на строке n.  \n",
    "- b(reak) func - поставить точку останова на первой строке функции func.  \n",
    "\n",
    "**МАНИПУЛЯЦИИ**\n",
    "\n",
    "- !stmt - рассматривать конструкцию stmt как выражение Python, а не как команду pdb.\n",
    "\n",
    "Посмотрим это на примере нашей функции."
   ]
  },
  {
   "cell_type": "code",
   "execution_count": 7,
   "id": "d11596a3",
   "metadata": {},
   "outputs": [
    {
     "name": "stdout",
     "output_type": "stream",
     "text": [
      "> \u001b[1;32mc:\\users\\kb255048\\appdata\\local\\temp\\ipykernel_2792\\3494265520.py\u001b[0m(17)\u001b[0;36mget_matching_substrings\u001b[1;34m()\u001b[0m\n",
      "\n",
      "ipdb> l\n",
      "\u001b[0;32m     12 \u001b[0m        \u001b[0msite_url\u001b[0m \u001b[1;33m=\u001b[0m \u001b[1;34m'http://'\u001b[0m \u001b[1;33m+\u001b[0m \u001b[0msite_url\u001b[0m\u001b[1;33m\u001b[0m\u001b[1;33m\u001b[0m\u001b[0m\n",
      "\u001b[0;32m     13 \u001b[0m    \u001b[1;32mreturn\u001b[0m \u001b[0mrequests\u001b[0m\u001b[1;33m.\u001b[0m\u001b[0mget\u001b[0m\u001b[1;33m(\u001b[0m\u001b[0msite_url\u001b[0m\u001b[1;33m)\u001b[0m\u001b[1;33m.\u001b[0m\u001b[0mtext\u001b[0m\u001b[1;33m\u001b[0m\u001b[1;33m\u001b[0m\u001b[0m\n",
      "\u001b[0;32m     14 \u001b[0m\u001b[1;33m\u001b[0m\u001b[0m\n",
      "\u001b[0;32m     15 \u001b[0m\u001b[1;32mdef\u001b[0m \u001b[0mget_matching_substrings\u001b[0m\u001b[1;33m(\u001b[0m\u001b[0msource\u001b[0m\u001b[1;33m,\u001b[0m \u001b[0msubstring\u001b[0m\u001b[1;33m)\u001b[0m\u001b[1;33m:\u001b[0m\u001b[1;33m\u001b[0m\u001b[1;33m\u001b[0m\u001b[0m\n",
      "\u001b[0;32m     16 \u001b[0m    \u001b[0mpdb\u001b[0m\u001b[1;33m.\u001b[0m\u001b[0mset_trace\u001b[0m\u001b[1;33m(\u001b[0m\u001b[1;33m)\u001b[0m\u001b[1;33m\u001b[0m\u001b[1;33m\u001b[0m\u001b[0m\n",
      "\u001b[1;32m---> 17 \u001b[1;33m    \u001b[1;32mreturn\u001b[0m \u001b[0mre\u001b[0m\u001b[1;33m.\u001b[0m\u001b[0mfindall\u001b[0m\u001b[1;33m(\u001b[0m\u001b[0msubstring\u001b[0m\u001b[1;33m,\u001b[0m \u001b[0msource\u001b[0m\u001b[1;33m)\u001b[0m\u001b[1;33m\u001b[0m\u001b[1;33m\u001b[0m\u001b[0m\n",
      "\u001b[0m\u001b[0;32m     18 \u001b[0m\u001b[1;33m\u001b[0m\u001b[0m\n",
      "\u001b[0;32m     19 \u001b[0m\u001b[0mmain\u001b[0m\u001b[1;33m(\u001b[0m\u001b[1;34m'mail.ru'\u001b[0m\u001b[1;33m,\u001b[0m \u001b[1;34m'mail'\u001b[0m\u001b[1;33m)\u001b[0m\u001b[1;33m\u001b[0m\u001b[1;33m\u001b[0m\u001b[0m\n",
      "\n",
      "ipdb> w\n",
      "\u001b[1;31m    [... skipping 21 hidden frame(s)]\u001b[0m\n",
      "\n",
      "  \u001b[1;32mc:\\users\\kb255048\\appdata\\local\\temp\\ipykernel_2792\\3494265520.py\u001b[0m(19)\u001b[0;36m<module>\u001b[1;34m()\u001b[0m\n",
      "\n",
      "  \u001b[1;32mc:\\users\\kb255048\\appdata\\local\\temp\\ipykernel_2792\\3494265520.py\u001b[0m(7)\u001b[0;36mmain\u001b[1;34m()\u001b[0m\n",
      "\n",
      "> \u001b[1;32mc:\\users\\kb255048\\appdata\\local\\temp\\ipykernel_2792\\3494265520.py\u001b[0m(17)\u001b[0;36mget_matching_substrings\u001b[1;34m()\u001b[0m\n",
      "\n",
      "ipdb> q\n"
     ]
    },
    {
     "ename": "BdbQuit",
     "evalue": "",
     "output_type": "error",
     "traceback": [
      "\u001b[1;31m---------------------------------------------------------------------------\u001b[0m",
      "\u001b[1;31mBdbQuit\u001b[0m                                   Traceback (most recent call last)",
      "\u001b[1;32m~\\AppData\\Local\\Temp/ipykernel_2792/3494265520.py\u001b[0m in \u001b[0;36m<module>\u001b[1;34m\u001b[0m\n\u001b[0;32m     17\u001b[0m     \u001b[1;32mreturn\u001b[0m \u001b[0mre\u001b[0m\u001b[1;33m.\u001b[0m\u001b[0mfindall\u001b[0m\u001b[1;33m(\u001b[0m\u001b[0msubstring\u001b[0m\u001b[1;33m,\u001b[0m \u001b[0msource\u001b[0m\u001b[1;33m)\u001b[0m\u001b[1;33m\u001b[0m\u001b[1;33m\u001b[0m\u001b[0m\n\u001b[0;32m     18\u001b[0m \u001b[1;33m\u001b[0m\u001b[0m\n\u001b[1;32m---> 19\u001b[1;33m \u001b[0mmain\u001b[0m\u001b[1;33m(\u001b[0m\u001b[1;34m'mail.ru'\u001b[0m\u001b[1;33m,\u001b[0m \u001b[1;34m'mail'\u001b[0m\u001b[1;33m)\u001b[0m\u001b[1;33m\u001b[0m\u001b[1;33m\u001b[0m\u001b[0m\n\u001b[0m",
      "\u001b[1;32m~\\AppData\\Local\\Temp/ipykernel_2792/3494265520.py\u001b[0m in \u001b[0;36mmain\u001b[1;34m(site_url, substring)\u001b[0m\n\u001b[0;32m      5\u001b[0m \u001b[1;32mdef\u001b[0m \u001b[0mmain\u001b[0m\u001b[1;33m(\u001b[0m\u001b[0msite_url\u001b[0m\u001b[1;33m,\u001b[0m \u001b[0msubstring\u001b[0m\u001b[1;33m)\u001b[0m\u001b[1;33m:\u001b[0m\u001b[1;33m\u001b[0m\u001b[1;33m\u001b[0m\u001b[0m\n\u001b[0;32m      6\u001b[0m     \u001b[0msite_code\u001b[0m \u001b[1;33m=\u001b[0m \u001b[0mget_site_code\u001b[0m\u001b[1;33m(\u001b[0m\u001b[0msite_url\u001b[0m\u001b[1;33m)\u001b[0m\u001b[1;33m\u001b[0m\u001b[1;33m\u001b[0m\u001b[0m\n\u001b[1;32m----> 7\u001b[1;33m     \u001b[0mmatching_substrings\u001b[0m \u001b[1;33m=\u001b[0m \u001b[0mget_matching_substrings\u001b[0m\u001b[1;33m(\u001b[0m\u001b[0msite_code\u001b[0m\u001b[1;33m,\u001b[0m \u001b[0msubstring\u001b[0m\u001b[1;33m)\u001b[0m\u001b[1;33m\u001b[0m\u001b[1;33m\u001b[0m\u001b[0m\n\u001b[0m\u001b[0;32m      8\u001b[0m     \u001b[0mprint\u001b[0m\u001b[1;33m(\u001b[0m\u001b[1;34mf'Substring {substring} is found {len(matching_substrings)} time(s) in {site_url}.'\u001b[0m\u001b[1;33m)\u001b[0m\u001b[1;33m\u001b[0m\u001b[1;33m\u001b[0m\u001b[0m\n\u001b[0;32m      9\u001b[0m \u001b[1;33m\u001b[0m\u001b[0m\n",
      "\u001b[1;32m~\\AppData\\Local\\Temp/ipykernel_2792/3494265520.py\u001b[0m in \u001b[0;36mget_matching_substrings\u001b[1;34m(source, substring)\u001b[0m\n\u001b[0;32m     15\u001b[0m \u001b[1;32mdef\u001b[0m \u001b[0mget_matching_substrings\u001b[0m\u001b[1;33m(\u001b[0m\u001b[0msource\u001b[0m\u001b[1;33m,\u001b[0m \u001b[0msubstring\u001b[0m\u001b[1;33m)\u001b[0m\u001b[1;33m:\u001b[0m\u001b[1;33m\u001b[0m\u001b[1;33m\u001b[0m\u001b[0m\n\u001b[0;32m     16\u001b[0m     \u001b[0mpdb\u001b[0m\u001b[1;33m.\u001b[0m\u001b[0mset_trace\u001b[0m\u001b[1;33m(\u001b[0m\u001b[1;33m)\u001b[0m\u001b[1;33m\u001b[0m\u001b[1;33m\u001b[0m\u001b[0m\n\u001b[1;32m---> 17\u001b[1;33m     \u001b[1;32mreturn\u001b[0m \u001b[0mre\u001b[0m\u001b[1;33m.\u001b[0m\u001b[0mfindall\u001b[0m\u001b[1;33m(\u001b[0m\u001b[0msubstring\u001b[0m\u001b[1;33m,\u001b[0m \u001b[0msource\u001b[0m\u001b[1;33m)\u001b[0m\u001b[1;33m\u001b[0m\u001b[1;33m\u001b[0m\u001b[0m\n\u001b[0m\u001b[0;32m     18\u001b[0m \u001b[1;33m\u001b[0m\u001b[0m\n\u001b[0;32m     19\u001b[0m \u001b[0mmain\u001b[0m\u001b[1;33m(\u001b[0m\u001b[1;34m'mail.ru'\u001b[0m\u001b[1;33m,\u001b[0m \u001b[1;34m'mail'\u001b[0m\u001b[1;33m)\u001b[0m\u001b[1;33m\u001b[0m\u001b[1;33m\u001b[0m\u001b[0m\n",
      "\u001b[1;32m~\\AppData\\Local\\Temp/ipykernel_2792/3494265520.py\u001b[0m in \u001b[0;36mget_matching_substrings\u001b[1;34m(source, substring)\u001b[0m\n\u001b[0;32m     15\u001b[0m \u001b[1;32mdef\u001b[0m \u001b[0mget_matching_substrings\u001b[0m\u001b[1;33m(\u001b[0m\u001b[0msource\u001b[0m\u001b[1;33m,\u001b[0m \u001b[0msubstring\u001b[0m\u001b[1;33m)\u001b[0m\u001b[1;33m:\u001b[0m\u001b[1;33m\u001b[0m\u001b[1;33m\u001b[0m\u001b[0m\n\u001b[0;32m     16\u001b[0m     \u001b[0mpdb\u001b[0m\u001b[1;33m.\u001b[0m\u001b[0mset_trace\u001b[0m\u001b[1;33m(\u001b[0m\u001b[1;33m)\u001b[0m\u001b[1;33m\u001b[0m\u001b[1;33m\u001b[0m\u001b[0m\n\u001b[1;32m---> 17\u001b[1;33m     \u001b[1;32mreturn\u001b[0m \u001b[0mre\u001b[0m\u001b[1;33m.\u001b[0m\u001b[0mfindall\u001b[0m\u001b[1;33m(\u001b[0m\u001b[0msubstring\u001b[0m\u001b[1;33m,\u001b[0m \u001b[0msource\u001b[0m\u001b[1;33m)\u001b[0m\u001b[1;33m\u001b[0m\u001b[1;33m\u001b[0m\u001b[0m\n\u001b[0m\u001b[0;32m     18\u001b[0m \u001b[1;33m\u001b[0m\u001b[0m\n\u001b[0;32m     19\u001b[0m \u001b[0mmain\u001b[0m\u001b[1;33m(\u001b[0m\u001b[1;34m'mail.ru'\u001b[0m\u001b[1;33m,\u001b[0m \u001b[1;34m'mail'\u001b[0m\u001b[1;33m)\u001b[0m\u001b[1;33m\u001b[0m\u001b[1;33m\u001b[0m\u001b[0m\n",
      "\u001b[1;32mc:\\users\\kb255048\\appdata\\local\\programs\\python\\python39\\lib\\bdb.py\u001b[0m in \u001b[0;36mtrace_dispatch\u001b[1;34m(self, frame, event, arg)\u001b[0m\n\u001b[0;32m     86\u001b[0m             \u001b[1;32mreturn\u001b[0m \u001b[1;31m# None\u001b[0m\u001b[1;33m\u001b[0m\u001b[1;33m\u001b[0m\u001b[0m\n\u001b[0;32m     87\u001b[0m         \u001b[1;32mif\u001b[0m \u001b[0mevent\u001b[0m \u001b[1;33m==\u001b[0m \u001b[1;34m'line'\u001b[0m\u001b[1;33m:\u001b[0m\u001b[1;33m\u001b[0m\u001b[1;33m\u001b[0m\u001b[0m\n\u001b[1;32m---> 88\u001b[1;33m             \u001b[1;32mreturn\u001b[0m \u001b[0mself\u001b[0m\u001b[1;33m.\u001b[0m\u001b[0mdispatch_line\u001b[0m\u001b[1;33m(\u001b[0m\u001b[0mframe\u001b[0m\u001b[1;33m)\u001b[0m\u001b[1;33m\u001b[0m\u001b[1;33m\u001b[0m\u001b[0m\n\u001b[0m\u001b[0;32m     89\u001b[0m         \u001b[1;32mif\u001b[0m \u001b[0mevent\u001b[0m \u001b[1;33m==\u001b[0m \u001b[1;34m'call'\u001b[0m\u001b[1;33m:\u001b[0m\u001b[1;33m\u001b[0m\u001b[1;33m\u001b[0m\u001b[0m\n\u001b[0;32m     90\u001b[0m             \u001b[1;32mreturn\u001b[0m \u001b[0mself\u001b[0m\u001b[1;33m.\u001b[0m\u001b[0mdispatch_call\u001b[0m\u001b[1;33m(\u001b[0m\u001b[0mframe\u001b[0m\u001b[1;33m,\u001b[0m \u001b[0marg\u001b[0m\u001b[1;33m)\u001b[0m\u001b[1;33m\u001b[0m\u001b[1;33m\u001b[0m\u001b[0m\n",
      "\u001b[1;32mc:\\users\\kb255048\\appdata\\local\\programs\\python\\python39\\lib\\bdb.py\u001b[0m in \u001b[0;36mdispatch_line\u001b[1;34m(self, frame)\u001b[0m\n\u001b[0;32m    111\u001b[0m         \u001b[1;32mif\u001b[0m \u001b[0mself\u001b[0m\u001b[1;33m.\u001b[0m\u001b[0mstop_here\u001b[0m\u001b[1;33m(\u001b[0m\u001b[0mframe\u001b[0m\u001b[1;33m)\u001b[0m \u001b[1;32mor\u001b[0m \u001b[0mself\u001b[0m\u001b[1;33m.\u001b[0m\u001b[0mbreak_here\u001b[0m\u001b[1;33m(\u001b[0m\u001b[0mframe\u001b[0m\u001b[1;33m)\u001b[0m\u001b[1;33m:\u001b[0m\u001b[1;33m\u001b[0m\u001b[1;33m\u001b[0m\u001b[0m\n\u001b[0;32m    112\u001b[0m             \u001b[0mself\u001b[0m\u001b[1;33m.\u001b[0m\u001b[0muser_line\u001b[0m\u001b[1;33m(\u001b[0m\u001b[0mframe\u001b[0m\u001b[1;33m)\u001b[0m\u001b[1;33m\u001b[0m\u001b[1;33m\u001b[0m\u001b[0m\n\u001b[1;32m--> 113\u001b[1;33m             \u001b[1;32mif\u001b[0m \u001b[0mself\u001b[0m\u001b[1;33m.\u001b[0m\u001b[0mquitting\u001b[0m\u001b[1;33m:\u001b[0m \u001b[1;32mraise\u001b[0m \u001b[0mBdbQuit\u001b[0m\u001b[1;33m\u001b[0m\u001b[1;33m\u001b[0m\u001b[0m\n\u001b[0m\u001b[0;32m    114\u001b[0m         \u001b[1;32mreturn\u001b[0m \u001b[0mself\u001b[0m\u001b[1;33m.\u001b[0m\u001b[0mtrace_dispatch\u001b[0m\u001b[1;33m\u001b[0m\u001b[1;33m\u001b[0m\u001b[0m\n\u001b[0;32m    115\u001b[0m \u001b[1;33m\u001b[0m\u001b[0m\n",
      "\u001b[1;31mBdbQuit\u001b[0m: "
     ]
    }
   ],
   "source": [
    "import requests\n",
    "import re\n",
    "import pdb\n",
    "\n",
    "def main(site_url, substring):\n",
    "    site_code = get_site_code(site_url)\n",
    "    matching_substrings = get_matching_substrings(site_code, substring)\n",
    "    print(f'Substring {substring} is found {len(matching_substrings)} time(s) in {site_url}.')\n",
    "    \n",
    "def get_site_code(site_url):\n",
    "    if not site_url.startswith('http'):\n",
    "        site_url = 'http://' + site_url\n",
    "    return requests.get(site_url).text\n",
    "\n",
    "def get_matching_substrings(source, substring):\n",
    "    pdb.set_trace()\n",
    "    return re.findall(substring, source)\n",
    "\n",
    "main('mail.ru', 'mail')"
   ]
  },
  {
   "cell_type": "markdown",
   "id": "d3ddb0f2",
   "metadata": {},
   "source": [
    "# Тестирование\n",
    "\n",
    "Сначала простой пример. Это класс, который призван выполнять юнит-тесты. В данном случае тестируется стандартный функционал Python, однако в реальной разработке такие тестовые классы создаются для тестирования разработанного кода."
   ]
  },
  {
   "cell_type": "code",
   "execution_count": 9,
   "id": "7eb074df",
   "metadata": {},
   "outputs": [
    {
     "name": "stdout",
     "output_type": "stream",
     "text": [
      "Writing test_python.py\n"
     ]
    }
   ],
   "source": [
    "%%writefile test_python.py\n",
    "\n",
    "import unittest\n",
    "\n",
    "class TestPython(unittest.TestCase):\n",
    "    def test_float_to_int_coerction(self):\n",
    "        self.assertEqual(1, int(1.0))\n",
    "        \n",
    "    def test_get_empty_dict(self):\n",
    "        self.assertIsNone({}.get('key'))\n",
    "        \n",
    "    def test_trueness(self):\n",
    "        self.assertTrue(bool(10))"
   ]
  },
  {
   "cell_type": "markdown",
   "id": "dd1ee424",
   "metadata": {},
   "source": [
    "Запустить тест из консоли можно следующим образом:"
   ]
  },
  {
   "cell_type": "code",
   "execution_count": 10,
   "id": "319cc7f1",
   "metadata": {},
   "outputs": [
    {
     "name": "stdout",
     "output_type": "stream",
     "text": [
      "Microsoft Windows [Version 10.0.19043.1165]\r\n",
      "(c) Microsoft Corporation. All rights reserved.\r\n",
      "\r\n",
      "\u001b[m\u001b[32m\u001b]9;8;\"USERNAME\"\u001b\\@\u001b]9;8;\"COMPUTERNAME\"\u001b\\ \u001b[92mc:\\Worker\\Python\\PythonMailRu\\4.OOP-2\u001b[90m\r\n",
      "\u001b[90m#\u001b[m \u001b]9;12\u001b\\\n",
      "\u001b[m\u001b[32m\u001b]9;8;\"USERNAME\"\u001b\\@\u001b]9;8;\"COMPUTERNAME\"\u001b\\ \u001b[92mc:\\Worker\\Python\\PythonMailRu\\4.OOP-2\u001b[90m\r\n",
      "\u001b[90m#\u001b[m \u001b]9;12\u001b\\python -m unittest test_python.py\n",
      "\r\n",
      "\u001b[m\u001b[32m\u001b]9;8;\"USERNAME\"\u001b\\@\u001b]9;8;\"COMPUTERNAME\"\u001b\\ \u001b[92mc:\\Worker\\Python\\PythonMailRu\\4.OOP-2\u001b[90m\r\n",
      "\u001b[90m#\u001b[m \u001b]9;12\u001b\\"
     ]
    },
    {
     "name": "stderr",
     "output_type": "stream",
     "text": [
      "...\r\n",
      "----------------------------------------------------------------------\r\n",
      "Ran 3 tests in 0.000s\r\n",
      "\r\n",
      "OK\r\n"
     ]
    }
   ],
   "source": [
    "%%cmd\n",
    "\n",
    "python -m unittest test_python.py"
   ]
  },
  {
   "cell_type": "markdown",
   "id": "43895029",
   "metadata": {},
   "source": [
    "А теперь попробуем протестировать что-то более реалистичное. Это будет клиент, получающий данные по астероидам с сайта NASA."
   ]
  },
  {
   "cell_type": "code",
   "execution_count": 12,
   "id": "72729e2d",
   "metadata": {},
   "outputs": [
    {
     "name": "stdout",
     "output_type": "stream",
     "text": [
      "Writing asteroid.py\n"
     ]
    }
   ],
   "source": [
    "%%writefile asteroid.py\n",
    "\n",
    "import requests\n",
    "\n",
    "class Asteroid:\n",
    "    BASE_API_URL = 'https://api.nasa.gov/neo/rest/v1/neo/{}?api_key=DEMO_KEY'\n",
    "    \n",
    "    def __init__(self, spk_id):\n",
    "        self.api_url = self.BASE_API_URL.format(spk_id)\n",
    "    \n",
    "    def get_data(self):\n",
    "        return requests.get(self.api_url).json()\n",
    "    \n",
    "    @property\n",
    "    def name(self):\n",
    "        return self.get_data()['name']\n",
    "    \n",
    "    @property\n",
    "    def diameter(self):\n",
    "        return int(self.get_data()['estimated_diameter']['meters']['estimated_diameter_max'])\n",
    "    \n",
    "#apophis = Asteroid(2099942)\n",
    "#\n",
    "#print(f'Name: {apophis.name}')\n",
    "#print(f'Diameter: {apophis.diameter}')"
   ]
  },
  {
   "cell_type": "markdown",
   "id": "b4469814",
   "metadata": {},
   "source": [
    "А теперь пишем тест..."
   ]
  },
  {
   "cell_type": "code",
   "execution_count": 18,
   "id": "ad3b7b99",
   "metadata": {},
   "outputs": [
    {
     "name": "stdout",
     "output_type": "stream",
     "text": [
      "Overwriting test_asteroid.py\n"
     ]
    }
   ],
   "source": [
    "%%writefile test_asteroid.py\n",
    "\n",
    "import json\n",
    "import unittest\n",
    "\n",
    "from unittest.mock import patch\n",
    "from asteroid import Asteroid\n",
    "\n",
    "class TestAsteroid(unittest.TestCase):\n",
    "    \n",
    "    def setUp(self):\n",
    "        self.asteroid = Asteroid(2099942)\n",
    "        \n",
    "    def mocked_get_data(self):\n",
    "        with open('apophis_fixture.txt') as fd:\n",
    "            return json.loads(fd.read())\n",
    "        \n",
    "    @patch('asteroid.Asteroid.get_data', mocked_get_data)\n",
    "    def test_name(self):\n",
    "        self.assertEqual(self.asteroid.name, '99942 Apophis (2004 MN4)')\n",
    "        \n",
    "    @patch('asteroid.Asteroid.get_data', mocked_get_data)\n",
    "    def test_diameter(self):\n",
    "        self.assertEqual(self.asteroid.diameter, 682)"
   ]
  },
  {
   "cell_type": "code",
   "execution_count": 19,
   "id": "333f3004",
   "metadata": {},
   "outputs": [
    {
     "name": "stdout",
     "output_type": "stream",
     "text": [
      "Microsoft Windows [Version 10.0.19043.1165]\r\n",
      "(c) Microsoft Corporation. All rights reserved.\r\n",
      "\r\n",
      "\u001b[m\u001b[32m\u001b]9;8;\"USERNAME\"\u001b\\@\u001b]9;8;\"COMPUTERNAME\"\u001b\\ \u001b[92mc:\\Worker\\Python\\PythonMailRu\\4.OOP-2\u001b[90m\r\n",
      "\u001b[90m#\u001b[m \u001b]9;12\u001b\\\n",
      "\u001b[m\u001b[32m\u001b]9;8;\"USERNAME\"\u001b\\@\u001b]9;8;\"COMPUTERNAME\"\u001b\\ \u001b[92mc:\\Worker\\Python\\PythonMailRu\\4.OOP-2\u001b[90m\r\n",
      "\u001b[90m#\u001b[m \u001b]9;12\u001b\\python -m unittest test_asteroid.py\n",
      "Name: 99942 Apophis (2004 MN4)\r\n",
      "Diameter: 682\r\n",
      "\r\n",
      "\u001b[m\u001b[32m\u001b]9;8;\"USERNAME\"\u001b\\@\u001b]9;8;\"COMPUTERNAME\"\u001b\\ \u001b[92mc:\\Worker\\Python\\PythonMailRu\\4.OOP-2\u001b[90m\r\n",
      "\u001b[90m#\u001b[m \u001b]9;12\u001b\\"
     ]
    },
    {
     "name": "stderr",
     "output_type": "stream",
     "text": [
      "..\r\n",
      "----------------------------------------------------------------------\r\n",
      "Ran 2 tests in 0.001s\r\n",
      "\r\n",
      "OK\r\n"
     ]
    }
   ],
   "source": [
    "%%cmd\n",
    "\n",
    "python -m unittest test_asteroid.py"
   ]
  }
 ],
 "metadata": {
  "kernelspec": {
   "display_name": "Python 3",
   "language": "python",
   "name": "python3"
  },
  "language_info": {
   "codemirror_mode": {
    "name": "ipython",
    "version": 3
   },
   "file_extension": ".py",
   "mimetype": "text/x-python",
   "name": "python",
   "nbconvert_exporter": "python",
   "pygments_lexer": "ipython3",
   "version": "3.9.5"
  }
 },
 "nbformat": 4,
 "nbformat_minor": 5
}
