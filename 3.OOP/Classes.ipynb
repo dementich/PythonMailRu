{
 "cells": [
  {
   "cell_type": "markdown",
   "id": "970ad4f6",
   "metadata": {},
   "source": [
    "# Классы в Python\n",
    "\n",
    "## Классы и их экземпляры\n",
    "\n",
    "Важно помнить, что в отличие от переменных, классы в Python принято называть через camlCase, т.е. с большой буквы. Простейший класс выглядит так:"
   ]
  },
  {
   "cell_type": "code",
   "execution_count": 1,
   "id": "eef547ab",
   "metadata": {},
   "outputs": [],
   "source": [
    "class Human:\n",
    "    pass"
   ]
  },
  {
   "cell_type": "markdown",
   "id": "9aacc53a",
   "metadata": {},
   "source": [
    "Вместо ключевого слова `pass` можно использовать `docstring`:"
   ]
  },
  {
   "cell_type": "code",
   "execution_count": 2,
   "id": "51804cf8",
   "metadata": {},
   "outputs": [],
   "source": [
    "class Robot:\n",
    "    \"\"\"Данный класс позволяет создавать роботов\"\"\""
   ]
  },
  {
   "cell_type": "markdown",
   "id": "168f575e",
   "metadata": {},
   "source": [
    "Чтобы посмотреть атрибуты и методы класса можно использовать функцию `dir()`:"
   ]
  },
  {
   "cell_type": "code",
   "execution_count": 3,
   "id": "608c58fc",
   "metadata": {},
   "outputs": [
    {
     "name": "stdout",
     "output_type": "stream",
     "text": [
      "['__class__', '__delattr__', '__dict__', '__dir__', '__doc__', '__eq__', '__format__', '__ge__', '__getattribute__', '__gt__', '__hash__', '__init__', '__init_subclass__', '__le__', '__lt__', '__module__', '__ne__', '__new__', '__reduce__', '__reduce_ex__', '__repr__', '__setattr__', '__sizeof__', '__str__', '__subclasshook__', '__weakref__']\n"
     ]
    }
   ],
   "source": [
    "print(dir(Robot))"
   ]
  },
  {
   "cell_type": "markdown",
   "id": "fd8c8a24",
   "metadata": {},
   "source": [
    "Надо отметить, что экземпляры классов хешируются, т.е. могут быть ключами в словаре.\n",
    "\n",
    "Создать экземпляр класса довольно просто. Попробуем создать солнечную систему:"
   ]
  },
  {
   "cell_type": "code",
   "execution_count": 4,
   "id": "ff86196e",
   "metadata": {},
   "outputs": [
    {
     "name": "stdout",
     "output_type": "stream",
     "text": [
      "[Planet('Mercury'), Planet('Venus'), Planet('Earth'), Planet('Mars'), Planet('Jupyter'), Planet('Saturn'), Planet('Neptune'), Planet('Pluto')]\n"
     ]
    }
   ],
   "source": [
    "class Planet:\n",
    "    \n",
    "    count = 0\n",
    "    \n",
    "    def __new__(cls, *args, **kwargs):\n",
    "        obj = super().__new__(cls)\n",
    "        return obj\n",
    "    \n",
    "    def __init__(self, name, population=None):\n",
    "        Planet.count += 1\n",
    "        self.name = name\n",
    "        self.population = population or []\n",
    "        \n",
    "    def __repr__(self):\n",
    "        return f'Planet(\\'{self.name}\\')'\n",
    "    \n",
    "names = ['Mercury', 'Venus', 'Earth', 'Mars', 'Jupyter', 'Saturn', 'Neptune', 'Pluto']\n",
    "solar_system = [Planet(name) for name in names]\n",
    "\n",
    "print(solar_system)"
   ]
  },
  {
   "cell_type": "markdown",
   "id": "36c41ee3",
   "metadata": {},
   "source": [
    "Как можно догадаться из кода выше, метод `__init__` инициализирует класс, а метод `__repr__` служит для того, чтобы отобразить в виде строки операцию создания объекта. Есть и менее очевидный момент: нам ничего не мешает удалить какой-то атрибут объекта, просто применив к нему оператор `del`:\n",
    "\n",
    "```python\n",
    "del solar_system[0].name\n",
    "```\n",
    "\n",
    "Возвращаясь к методу `__init__` надо отметить, что это не конструктор экземпляра класса, а именно инициализатор объекта. Он на входе уже получает готовый объект `self`. Конструктор экземпляра - это метод `__new__(cls, *args, **kwargs)`, и, если мы переопределяем его, то должны вернуть объект. Также, из кода выше следует, что наш класс является наследником класса `object`. Формально при вызове кода \n",
    "\n",
    "```python\n",
    "planet = Planet('Earth')\n",
    "```\n",
    "\n",
    "происходит следующее:\n",
    "```python\n",
    "planet = Planet.__new__(Planet, 'Earth')\n",
    "\n",
    "if isinstance(planet, Planet):\n",
    "    Planet.__init__(planet, 'Earth')\n",
    "```\n",
    "\n",
    "Также в коде выше мы использовали атрибут класса `Planet` под названием `count`. Если привести аналогию с C#, то это по сути статический атрибут. Извне обратиться к такому атрибуту можно двумя способами: как через класс, так и через его объект:"
   ]
  },
  {
   "cell_type": "code",
   "execution_count": 5,
   "id": "6a3596f9",
   "metadata": {},
   "outputs": [
    {
     "name": "stdout",
     "output_type": "stream",
     "text": [
      "8\n",
      "8\n"
     ]
    }
   ],
   "source": [
    "print(Planet.count)\n",
    "print(solar_system[0].count)"
   ]
  },
  {
   "cell_type": "markdown",
   "id": "021edf42",
   "metadata": {},
   "source": [
    "Надо понимать, что, как только число ссылок на объект класса достигает нуля, то срабатывает сборщик мусора и вызывается метод `__del__`, представляющий собой деструктор экземпляра класса. Ничто не мешает нам переопределить этот метод:"
   ]
  },
  {
   "cell_type": "code",
   "execution_count": 6,
   "id": "020e5a37",
   "metadata": {},
   "outputs": [
    {
     "name": "stdout",
     "output_type": "stream",
     "text": [
      "Good bye!\n"
     ]
    }
   ],
   "source": [
    "class Human:\n",
    "    \n",
    "    def __del__(self):\n",
    "        print('Good bye!')\n",
    "        \n",
    "some_person = Human()\n",
    "del some_person"
   ]
  },
  {
   "cell_type": "markdown",
   "id": "b45180a1",
   "metadata": {},
   "source": [
    "Надо понимать, что переопределение метода `__del__` - это не самая лучшая практика, т.к. Python не гарантирует, что он всегда будет вызываться при завершении работы программы. Если мы хотим произвести какие-то действия при завершении работы с объектом, то лучше переопределить для этого метод `__exit__`. Но в данном случае придется еще переопределить и метод `__enter__`. Тогда мы сможем работать с объектом через контекстный менеджер.\n",
    "\n",
    "Все пользовательские атрибуты класса можно посмотреть через специальный словарь `__dict__`:"
   ]
  },
  {
   "cell_type": "code",
   "execution_count": 7,
   "id": "096dbbf9",
   "metadata": {},
   "outputs": [
    {
     "data": {
      "text/plain": [
       "{'name': 'Earth', 'population': []}"
      ]
     },
     "execution_count": 7,
     "metadata": {},
     "output_type": "execute_result"
    }
   ],
   "source": [
    "solar_system[2].__dict__"
   ]
  },
  {
   "cell_type": "markdown",
   "id": "db503bcc",
   "metadata": {},
   "source": [
    "При этом надо понимать, что Python считает приватными все атрибуты, начинающиеся с двойного подчеркивания, т.е. такие атрибуты недоступны из классов-потомков. \n",
    "\n",
    "Название класса объекта можно получить через его атрибут `__class__`:"
   ]
  },
  {
   "cell_type": "code",
   "execution_count": 8,
   "id": "35e6b2d1",
   "metadata": {},
   "outputs": [
    {
     "data": {
      "text/plain": [
       "__main__.Planet"
      ]
     },
     "execution_count": 8,
     "metadata": {},
     "output_type": "execute_result"
    }
   ],
   "source": [
    "solar_system[2].__class__"
   ]
  },
  {
   "cell_type": "markdown",
   "id": "9f815116",
   "metadata": {},
   "source": [
    "## Методы\n",
    "\n",
    "Понятно, что методы - это функции, действующие в контексте экземпляра класса и способные менять его состояние."
   ]
  },
  {
   "cell_type": "code",
   "execution_count": 9,
   "id": "83e63e62",
   "metadata": {},
   "outputs": [
    {
     "name": "stdout",
     "output_type": "stream",
     "text": [
      "Welcome to Mars, Bob!\n"
     ]
    }
   ],
   "source": [
    "class Human:\n",
    "    def __init__(self, name, age = 0):\n",
    "        self.name = name\n",
    "        self.age = age\n",
    "        \n",
    "class Planet:\n",
    "    def __init__(self, name, population=None):\n",
    "        self.name = name\n",
    "        self.population = population or []\n",
    "        \n",
    "    def add_human(self, human):\n",
    "        print(f'Welcome to {self.name}, {human.name}!')\n",
    "        self.population += [human]\n",
    "        \n",
    "mars = Planet('Mars')\n",
    "bob = Human('Bob')\n",
    "mars.add_human(bob)"
   ]
  },
  {
   "cell_type": "markdown",
   "id": "f301b5c5",
   "metadata": {},
   "source": [
    "Теперь посмотрим, что такое методы класса."
   ]
  },
  {
   "cell_type": "code",
   "execution_count": 10,
   "id": "622495c9",
   "metadata": {},
   "outputs": [
    {
     "data": {
      "text/plain": [
       "Event('я начал работать в Teradata', date.fromisoformat('2021-04-05'))"
      ]
     },
     "execution_count": 10,
     "metadata": {},
     "output_type": "execute_result"
    }
   ],
   "source": [
    "class Event:\n",
    "    def __init__(self, description, event_date):\n",
    "        self.description = description\n",
    "        self.event_date = event_date\n",
    "    \n",
    "    def __repr__(self):\n",
    "        return f'Event(\\'{self.description}\\', date.fromisoformat(\\'{self.event_date}\\'))'\n",
    "        \n",
    "    def __str__(self):\n",
    "        return f'Event \\'{self.description}\\' as {self.event_date}.'\n",
    "    \n",
    "    @classmethod\n",
    "    def create(cls, description, event_date):\n",
    "        return cls(description, event_date)\n",
    "    \n",
    "from datetime import date\n",
    "Event.create('я начал работать в Teradata', date.fromisoformat('2021-04-05'))"
   ]
  },
  {
   "cell_type": "markdown",
   "id": "73723dd4",
   "metadata": {},
   "source": [
    "Как видно выше, в метод класса передается параметр `cls`, а не `self` и такой метод имеет декоратор `@classmethod`. \n",
    "\n",
    "А теперь посмотрим на статические методы:"
   ]
  },
  {
   "cell_type": "code",
   "execution_count": 11,
   "id": "0068bb48",
   "metadata": {},
   "outputs": [],
   "source": [
    "class Human:\n",
    "    \n",
    "    def __init__(self, name, age=0):\n",
    "        self.name = name\n",
    "        self.age = age\n",
    "        \n",
    "    @staticmethod\n",
    "    def is_age_valid(age):\n",
    "        return 0 <= age <= 150"
   ]
  },
  {
   "cell_type": "markdown",
   "id": "8456a852",
   "metadata": {},
   "source": [
    "К статическим методам можно обращаться из экземпляра класса.\n",
    "\n",
    "А еще в Python есть свойства:"
   ]
  },
  {
   "cell_type": "code",
   "execution_count": 12,
   "id": "5438479c",
   "metadata": {},
   "outputs": [
    {
     "name": "stdout",
     "output_type": "stream",
     "text": [
      "0\n"
     ]
    }
   ],
   "source": [
    "class Robot:\n",
    "    def __init__(self, power):\n",
    "        self.power = power\n",
    "        \n",
    "    power = property()\n",
    "    \n",
    "    @power.setter\n",
    "    def power(self, value):\n",
    "        self._power = value if value >= 0 else 0\n",
    "        \n",
    "    @power.getter\n",
    "    def power(self):\n",
    "        return self._power\n",
    "    \n",
    "    @power.deleter\n",
    "    def power(self):\n",
    "        print('The robot is useless now!')\n",
    "        del self._power\n",
    "        \n",
    "r = Robot(-100)\n",
    "r.power = -10\n",
    "print(r.power)"
   ]
  },
  {
   "cell_type": "markdown",
   "id": "d39577de",
   "metadata": {},
   "source": [
    "Выше показан комплексный случай, когда мы обрамляем и геттер и сеттер. Если же нам надо лишь фиксировать считывание атрибута, то достаточно использовать декоратор `@property` перед методом объекта, который и будет делать какую-то полезную работу."
   ]
  },
  {
   "cell_type": "markdown",
   "id": "e8226612",
   "metadata": {},
   "source": [
    "## Наследование\n",
    "\n",
    "Начнем с простого примера наследования:"
   ]
  },
  {
   "cell_type": "code",
   "execution_count": 13,
   "id": "0644574e",
   "metadata": {},
   "outputs": [],
   "source": [
    "class Pet:\n",
    "    def __init__(self, name=None):\n",
    "        self.name = name\n",
    "        \n",
    "class Dog(Pet):\n",
    "    def __init__(self, name, breed=None):\n",
    "        super().__init__(name)\n",
    "        self.breed = breed\n",
    "        \n",
    "    def say(self):\n",
    "        return f'{name}: гав!'"
   ]
  },
  {
   "cell_type": "markdown",
   "id": "496d2abd",
   "metadata": {},
   "source": [
    "А теперь разберем пример посложнее с реализацией множественного наследования:"
   ]
  },
  {
   "cell_type": "code",
   "execution_count": 14,
   "id": "c0388388",
   "metadata": {},
   "outputs": [
    {
     "name": "stdout",
     "output_type": "stream",
     "text": [
      "{\"name\": \"\\u0411\\u0435\\u043b\\u043a\\u0430\", \"breed\": \"\\u0414\\u0432\\u043e\\u0440\\u043d\\u044f\\u0436\\u043a\\u0430\"}\n"
     ]
    }
   ],
   "source": [
    "import json\n",
    "\n",
    "class ExportJSON:\n",
    "    def to_json(self):\n",
    "        return json.dumps(self.__dict__)\n",
    "    \n",
    "class ExDog(Dog, ExportJSON):\n",
    "    pass\n",
    "\n",
    "dog = ExDog(name='Белка', breed='Дворняжка')\n",
    "print(dog.to_json())"
   ]
  },
  {
   "cell_type": "markdown",
   "id": "08bfacad",
   "metadata": {},
   "source": [
    "Как уже говорилось, любой класс Python является потомком класса `object` (не обязательно прямым). Посмотрим иерархию классов на примере `ExDog`:"
   ]
  },
  {
   "cell_type": "code",
   "execution_count": 15,
   "id": "2fcd8d95",
   "metadata": {},
   "outputs": [
    {
     "name": "stdout",
     "output_type": "stream",
     "text": [
      "--------object\n",
      "----ExportJSON\n",
      "------------object\n",
      "--------Pet\n",
      "----Dog\n",
      "ExDog\n"
     ]
    }
   ],
   "source": [
    "def get_hierarchy(cls, intendation=0):\n",
    "    result = '----' * intendation + cls.__name__\n",
    "    if cls.__name__ != 'object':  \n",
    "        intendation += 1\n",
    "        for basic_cls in cls.__bases__:\n",
    "            result += ('\\n' + get_hierarchy(basic_cls, intendation))\n",
    "    return result\n",
    "\n",
    "print('\\n'.join(list(reversed(get_hierarchy(ExDog).split('\\n')))))\n",
    "#print(get_hierarchy(ExDog))"
   ]
  },
  {
   "cell_type": "code",
   "execution_count": 16,
   "id": "22dba7ec",
   "metadata": {},
   "outputs": [
    {
     "name": "stdout",
     "output_type": "stream",
     "text": [
      "object\n",
      "---Pet\n",
      "------Dog\n",
      "---------ExDog\n",
      "---ExportJSON\n",
      "------ExDog\n"
     ]
    }
   ],
   "source": [
    "def get_class_hierarchy(base_cls: type, intendation: int = 0, clss = []) -> str:\n",
    "    if len(clss) > 0 and base_cls.__name__ not in clss:\n",
    "        return ''\n",
    "    result = '\\n' * (intendation > 0) + '-' * intendation + base_cls.__name__\n",
    "    if len(base_cls.__subclasses__()) != 0:\n",
    "        for subclass in base_cls.__subclasses__():\n",
    "            result += get_class_hierarchy(subclass, intendation + 3, clss)\n",
    "    return result\n",
    "\n",
    "print(get_class_hierarchy(base_cls=object, clss=['object', 'ExportJSON', 'Dog', 'Pet', 'ExDog']))"
   ]
  },
  {
   "cell_type": "markdown",
   "id": "fc8d0a0f",
   "metadata": {},
   "source": [
    "Как видно из кода выше, базовые классы можно получить через атрибут `__bases__` текущего класса. Получить класс любого объекта можно функцией `type()`. Проверить принадлежность объекта к классу можно с помощью функции `isinstance()`, а наличие одного класса в числе родителей другого класса можно функцией `issubclass()`.\n",
    "\n",
    "Также, выше видно, что у родителей класса `ExDog` довольно замысловатая структура, поэтому не очень очевидно, метод какого класса будет выполнен и вызове метода, определенного в нескольких классах. Для формализации поиска таких методов существует такая вещь, как method resulution order (mro). В классе `ExDog` он следующий:"
   ]
  },
  {
   "cell_type": "code",
   "execution_count": 17,
   "id": "21641d58",
   "metadata": {},
   "outputs": [
    {
     "data": {
      "text/plain": [
       "(__main__.ExDog, __main__.Dog, __main__.Pet, __main__.ExportJSON, object)"
      ]
     },
     "execution_count": 17,
     "metadata": {},
     "output_type": "execute_result"
    }
   ],
   "source": [
    "ExDog.__mro__"
   ]
  },
  {
   "cell_type": "markdown",
   "id": "c42c05c0",
   "metadata": {},
   "source": [
    "Важно понимать, что чем ближе класс расположен к началу списка родителей, тем скорее будут искаться методы в нем и его родителях. Также весьма очевидным является тот факт, что вызывая метод `super()` в методе `__init__()` класса-потомка, мы обращаемся к непосредственному родителю. Менее очевиден момент, что похожим образом мы можем обратиться к \"дедушке\", указав в методе `super()` класс непосредственного потомка в качестве параметра:"
   ]
  },
  {
   "cell_type": "code",
   "execution_count": 18,
   "id": "fe7de39f",
   "metadata": {},
   "outputs": [
    {
     "name": "stdout",
     "output_type": "stream",
     "text": [
      "Шерстяная собака породы Такса\n"
     ]
    }
   ],
   "source": [
    "class ExDog(Dog, ExportJSON):\n",
    "    def __init__(self, name, breed=None):\n",
    "        super().__init__(name, breed)\n",
    "    \n",
    "class WoolenDog(Dog, ExportJSON):\n",
    "    def __init__(self, name, breed=None):\n",
    "        super(Dog, self).__init__(name)\n",
    "        self.breed = f'Шерстяная собака породы {breed}'\n",
    "dog = WoolenDog('Жучка', breed='Такса')\n",
    "print(dog.breed)"
   ]
  },
  {
   "cell_type": "markdown",
   "id": "07d94956",
   "metadata": {},
   "source": [
    "## Композиция классов\n",
    "\n",
    "Идея композиции очень проста и очевидна: если мы хотим лишь пользоваться каким-то классом, никак не переопределяя его поведения, то надо включить объект этого класса в создаваемый нами класс, а не наследовать его."
   ]
  },
  {
   "cell_type": "code",
   "execution_count": 19,
   "id": "ba098c11",
   "metadata": {},
   "outputs": [
    {
     "data": {
      "text/plain": [
       "b'<?xml version=\"1.0\" encoding=\"UTF-8\" ?><root><name type=\"str\">\\xd0\\x92\\xd0\\xb5\\xd1\\x81\\xd1\\x82\\xd0\\xb0</name><breed type=\"str\">\\xd0\\xa4\\xd1\\x80\\xd0\\xb0\\xd0\\xbd\\xd1\\x86\\xd1\\x83\\xd0\\xb7\\xd1\\x81\\xd0\\xba\\xd0\\xb8\\xd0\\xb9 \\xd0\\xb1\\xd1\\x83\\xd0\\xbb\\xd1\\x8c\\xd0\\xb4\\xd0\\xbe\\xd0\\xb3</breed></root>'"
      ]
     },
     "execution_count": 19,
     "metadata": {},
     "output_type": "execute_result"
    }
   ],
   "source": [
    "import json\n",
    "import dicttoxml\n",
    "\n",
    "class PetExport:\n",
    "    def export(self, dog):\n",
    "        raise NotImplementedError\n",
    "        \n",
    "class ExportJSON(PetExport):\n",
    "    def export(self, dog):\n",
    "        return json.dumps({key: val for key, val in dog.__dict__.items() if not key.startswith('__')})\n",
    "    \n",
    "class ExportXML(PetExport):\n",
    "    def export(self, dog):\n",
    "        return dicttoxml.dicttoxml({key: val for key, val in dog.__dict__.items() if not key.startswith('__')})\n",
    "    \n",
    "class Pet:\n",
    "    def __init__(self, name):\n",
    "        self.name = name\n",
    "        \n",
    "class Dog(Pet):\n",
    "    def __init__(self, name, breed=None):\n",
    "        super().__init__(name)\n",
    "        self.breed = breed\n",
    "        \n",
    "class ExDog(Dog):\n",
    "    def __init__(self, name, breed=None, exporter=None):\n",
    "        super().__init__(name, breed)\n",
    "        self.__exporter__ = exporter or ExportJSON()\n",
    "        \n",
    "    def export(self):\n",
    "        return self.__exporter__.export(self)\n",
    "    \n",
    "dog = ExDog(name='Веста', breed='Французский бульдог', exporter=ExportXML())\n",
    "dog.export()"
   ]
  }
 ],
 "metadata": {
  "kernelspec": {
   "display_name": "Python 3 (ipykernel)",
   "language": "python",
   "name": "python3"
  },
  "language_info": {
   "codemirror_mode": {
    "name": "ipython",
    "version": 3
   },
   "file_extension": ".py",
   "mimetype": "text/x-python",
   "name": "python",
   "nbconvert_exporter": "python",
   "pygments_lexer": "ipython3",
   "version": "3.9.6"
  }
 },
 "nbformat": 4,
 "nbformat_minor": 5
}
